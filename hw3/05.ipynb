{
 "cells": [
  {
   "cell_type": "markdown",
   "metadata": {},
   "source": [
    "### 다중클래스 분류 프로그램\n",
    "- 심층신경망 사용 "
   ]
  },
  {
   "cell_type": "code",
   "execution_count": 1,
   "metadata": {},
   "outputs": [],
   "source": [
    "import pandas as pd\n",
    "import tensorflow as tf \n",
    "import seaborn as sns\n",
    "import numpy as np"
   ]
  },
  {
   "cell_type": "code",
   "execution_count": 2,
   "metadata": {},
   "outputs": [],
   "source": [
    "white = pd.read_csv(\"winequality-white.csv\", sep=';')"
   ]
  },
  {
   "cell_type": "code",
   "execution_count": 3,
   "metadata": {},
   "outputs": [
    {
     "data": {
      "text/html": [
       "<div>\n",
       "<style scoped>\n",
       "    .dataframe tbody tr th:only-of-type {\n",
       "        vertical-align: middle;\n",
       "    }\n",
       "\n",
       "    .dataframe tbody tr th {\n",
       "        vertical-align: top;\n",
       "    }\n",
       "\n",
       "    .dataframe thead th {\n",
       "        text-align: right;\n",
       "    }\n",
       "</style>\n",
       "<table border=\"1\" class=\"dataframe\">\n",
       "  <thead>\n",
       "    <tr style=\"text-align: right;\">\n",
       "      <th></th>\n",
       "      <th>fixed acidity</th>\n",
       "      <th>volatile acidity</th>\n",
       "      <th>citric acid</th>\n",
       "      <th>residual sugar</th>\n",
       "      <th>chlorides</th>\n",
       "      <th>free sulfur dioxide</th>\n",
       "      <th>total sulfur dioxide</th>\n",
       "      <th>density</th>\n",
       "      <th>pH</th>\n",
       "      <th>sulphates</th>\n",
       "      <th>alcohol</th>\n",
       "      <th>quality</th>\n",
       "    </tr>\n",
       "  </thead>\n",
       "  <tbody>\n",
       "    <tr>\n",
       "      <th>0</th>\n",
       "      <td>7.0</td>\n",
       "      <td>0.27</td>\n",
       "      <td>0.36</td>\n",
       "      <td>20.7</td>\n",
       "      <td>0.045</td>\n",
       "      <td>45.0</td>\n",
       "      <td>170.0</td>\n",
       "      <td>1.0010</td>\n",
       "      <td>3.00</td>\n",
       "      <td>0.45</td>\n",
       "      <td>8.8</td>\n",
       "      <td>6</td>\n",
       "    </tr>\n",
       "    <tr>\n",
       "      <th>1</th>\n",
       "      <td>6.3</td>\n",
       "      <td>0.30</td>\n",
       "      <td>0.34</td>\n",
       "      <td>1.6</td>\n",
       "      <td>0.049</td>\n",
       "      <td>14.0</td>\n",
       "      <td>132.0</td>\n",
       "      <td>0.9940</td>\n",
       "      <td>3.30</td>\n",
       "      <td>0.49</td>\n",
       "      <td>9.5</td>\n",
       "      <td>6</td>\n",
       "    </tr>\n",
       "    <tr>\n",
       "      <th>2</th>\n",
       "      <td>8.1</td>\n",
       "      <td>0.28</td>\n",
       "      <td>0.40</td>\n",
       "      <td>6.9</td>\n",
       "      <td>0.050</td>\n",
       "      <td>30.0</td>\n",
       "      <td>97.0</td>\n",
       "      <td>0.9951</td>\n",
       "      <td>3.26</td>\n",
       "      <td>0.44</td>\n",
       "      <td>10.1</td>\n",
       "      <td>6</td>\n",
       "    </tr>\n",
       "    <tr>\n",
       "      <th>3</th>\n",
       "      <td>7.2</td>\n",
       "      <td>0.23</td>\n",
       "      <td>0.32</td>\n",
       "      <td>8.5</td>\n",
       "      <td>0.058</td>\n",
       "      <td>47.0</td>\n",
       "      <td>186.0</td>\n",
       "      <td>0.9956</td>\n",
       "      <td>3.19</td>\n",
       "      <td>0.40</td>\n",
       "      <td>9.9</td>\n",
       "      <td>6</td>\n",
       "    </tr>\n",
       "    <tr>\n",
       "      <th>4</th>\n",
       "      <td>7.2</td>\n",
       "      <td>0.23</td>\n",
       "      <td>0.32</td>\n",
       "      <td>8.5</td>\n",
       "      <td>0.058</td>\n",
       "      <td>47.0</td>\n",
       "      <td>186.0</td>\n",
       "      <td>0.9956</td>\n",
       "      <td>3.19</td>\n",
       "      <td>0.40</td>\n",
       "      <td>9.9</td>\n",
       "      <td>6</td>\n",
       "    </tr>\n",
       "  </tbody>\n",
       "</table>\n",
       "</div>"
      ],
      "text/plain": [
       "   fixed acidity  volatile acidity  citric acid  residual sugar  chlorides  \\\n",
       "0            7.0              0.27         0.36            20.7      0.045   \n",
       "1            6.3              0.30         0.34             1.6      0.049   \n",
       "2            8.1              0.28         0.40             6.9      0.050   \n",
       "3            7.2              0.23         0.32             8.5      0.058   \n",
       "4            7.2              0.23         0.32             8.5      0.058   \n",
       "\n",
       "   free sulfur dioxide  total sulfur dioxide  density    pH  sulphates  \\\n",
       "0                 45.0                 170.0   1.0010  3.00       0.45   \n",
       "1                 14.0                 132.0   0.9940  3.30       0.49   \n",
       "2                 30.0                  97.0   0.9951  3.26       0.44   \n",
       "3                 47.0                 186.0   0.9956  3.19       0.40   \n",
       "4                 47.0                 186.0   0.9956  3.19       0.40   \n",
       "\n",
       "   alcohol  quality  \n",
       "0      8.8        6  \n",
       "1      9.5        6  \n",
       "2     10.1        6  \n",
       "3      9.9        6  \n",
       "4      9.9        6  "
      ]
     },
     "execution_count": 3,
     "metadata": {},
     "output_type": "execute_result"
    }
   ],
   "source": [
    "white.head()"
   ]
  },
  {
   "cell_type": "code",
   "execution_count": 4,
   "metadata": {},
   "outputs": [
    {
     "name": "stdout",
     "output_type": "stream",
     "text": [
      "6    2198\n",
      "5    1457\n",
      "7     880\n",
      "8     175\n",
      "4     163\n",
      "3      20\n",
      "9       5\n",
      "Name: quality, dtype: int64\n"
     ]
    }
   ],
   "source": [
    "print(white['quality'].value_counts())  # 3-9까지의 값만 존재함 "
   ]
  },
  {
   "cell_type": "code",
   "execution_count": 5,
   "metadata": {},
   "outputs": [
    {
     "name": "stdout",
     "output_type": "stream",
     "text": [
      "(4898, 12)\n"
     ]
    }
   ],
   "source": [
    "print(white.shape)\n"
   ]
  },
  {
   "cell_type": "code",
   "execution_count": 6,
   "metadata": {},
   "outputs": [
    {
     "name": "stderr",
     "output_type": "stream",
     "text": [
      "c:\\Users\\AI06\\anaconda3\\lib\\site-packages\\seaborn\\_decorators.py:36: FutureWarning: Pass the following variable as a keyword arg: x. From version 0.12, the only valid positional argument will be `data`, and passing other arguments without an explicit keyword will result in an error or misinterpretation.\n",
      "  warnings.warn(\n"
     ]
    },
    {
     "data": {
      "text/plain": [
       "<matplotlib.axes._subplots.AxesSubplot at 0x2215213d4f0>"
      ]
     },
     "execution_count": 6,
     "metadata": {},
     "output_type": "execute_result"
    },
    {
     "data": {
      "image/png": "[encoded data removed]",
      "text/plain": [
       "<Figure size 432x288 with 1 Axes>"
      ]
     },
     "metadata": {
      "needs_background": "light"
     },
     "output_type": "display_data"
    }
   ],
   "source": [
    "sns.countplot(white['quality'])  # 7개 클래스만 존재 => 불균형 데이터 "
   ]
  },
  {
   "cell_type": "code",
   "execution_count": 7,
   "metadata": {},
   "outputs": [
    {
     "data": {
      "text/plain": [
       "quality                 1.000000\n",
       "alcohol                 0.435575\n",
       "pH                      0.099427\n",
       "sulphates               0.053678\n",
       "free sulfur dioxide     0.008158\n",
       "citric acid            -0.009209\n",
       "residual sugar         -0.097577\n",
       "fixed acidity          -0.113663\n",
       "total sulfur dioxide   -0.174737\n",
       "volatile acidity       -0.194723\n",
       "chlorides              -0.209934\n",
       "density                -0.307123\n",
       "Name: quality, dtype: float64"
      ]
     },
     "execution_count": 7,
     "metadata": {},
     "output_type": "execute_result"
    }
   ],
   "source": [
    "white.corr()['quality'].sort_values(ascending=False)"
   ]
  },
  {
   "cell_type": "code",
   "execution_count": 8,
   "metadata": {},
   "outputs": [
    {
     "data": {
      "text/plain": [
       "3    2198\n",
       "2    1457\n",
       "4     880\n",
       "5     175\n",
       "1     163\n",
       "0      20\n",
       "6       5\n",
       "Name: quality, dtype: int64"
      ]
     },
     "execution_count": 8,
     "metadata": {},
     "output_type": "execute_result"
    }
   ],
   "source": [
    "white['quality'] -= 3\n",
    "white['quality'].value_counts()  # 0~6까지의 클래스로 변경\n"
   ]
  },
  {
   "cell_type": "code",
   "execution_count": 9,
   "metadata": {},
   "outputs": [
    {
     "data": {
      "text/plain": [
       "array([[<matplotlib.axes._subplots.AxesSubplot object at 0x00000221542EDBB0>,\n",
       "        <matplotlib.axes._subplots.AxesSubplot object at 0x0000022154319130>,\n",
       "        <matplotlib.axes._subplots.AxesSubplot object at 0x0000022154352550>],\n",
       "       [<matplotlib.axes._subplots.AxesSubplot object at 0x000002215437F9A0>,\n",
       "        <matplotlib.axes._subplots.AxesSubplot object at 0x00000221543AEE20>,\n",
       "        <matplotlib.axes._subplots.AxesSubplot object at 0x00000221543E91F0>],\n",
       "       [<matplotlib.axes._subplots.AxesSubplot object at 0x00000221543E92E0>,\n",
       "        <matplotlib.axes._subplots.AxesSubplot object at 0x0000022154415790>,\n",
       "        <matplotlib.axes._subplots.AxesSubplot object at 0x0000022154471FD0>],\n",
       "       [<matplotlib.axes._subplots.AxesSubplot object at 0x00000221544AA460>,\n",
       "        <matplotlib.axes._subplots.AxesSubplot object at 0x00000221544D58B0>,\n",
       "        <matplotlib.axes._subplots.AxesSubplot object at 0x0000022154505D30>]],\n",
       "      dtype=object)"
      ]
     },
     "execution_count": 9,
     "metadata": {},
     "output_type": "execute_result"
    },
    {
     "data": {
      "image/png": "[encoded data removed]",
      "text/plain": [
       "<Figure size 1440x1080 with 12 Axes>"
      ]
     },
     "metadata": {
      "needs_background": "light"
     },
     "output_type": "display_data"
    }
   ],
   "source": [
    "white.hist(bins=50, figsize=(20, 15))"
   ]
  },
  {
   "cell_type": "code",
   "execution_count": 10,
   "metadata": {},
   "outputs": [],
   "source": [
    "feature_data = white.drop('quality', axis=1).copy()\n",
    "label_data = white['quality'].copy()"
   ]
  },
  {
   "cell_type": "code",
   "execution_count": 11,
   "metadata": {},
   "outputs": [],
   "source": [
    "# 데이터 스케일링\n",
    "from sklearn.preprocessing import StandardScaler\n",
    "\n",
    "scaler = StandardScaler()\n",
    "X = scaler.fit_transform(feature_data)\n"
   ]
  },
  {
   "cell_type": "code",
   "execution_count": 12,
   "metadata": {},
   "outputs": [],
   "source": [
    "# 데이터 복제\n",
    "\n",
    "from sklearn.datasets import make_classification\n",
    "from sklearn.decomposition import PCA\n",
    "from imblearn.over_sampling import SMOTE\n",
    "\n",
    "\n",
    "# 모델설정\n",
    "sm = SMOTE(k_neighbors=4)\n",
    "\n",
    "# train데이터를 넣어 복제함\n",
    "X_resampled, y_resampled = sm.fit_sample(X, list(label_data))\n",
    "\n"
   ]
  },
  {
   "cell_type": "code",
   "execution_count": 13,
   "metadata": {},
   "outputs": [],
   "source": [
    "X = pd.DataFrame(X_resampled, columns=feature_data.columns)\n",
    "y = np.array(y_resampled)"
   ]
  },
  {
   "cell_type": "code",
   "execution_count": 14,
   "metadata": {},
   "outputs": [
    {
     "name": "stderr",
     "output_type": "stream",
     "text": [
      "c:\\Users\\AI06\\anaconda3\\lib\\site-packages\\seaborn\\_decorators.py:36: FutureWarning: Pass the following variable as a keyword arg: x. From version 0.12, the only valid positional argument will be `data`, and passing other arguments without an explicit keyword will result in an error or misinterpretation.\n",
      "  warnings.warn(\n"
     ]
    },
    {
     "data": {
      "text/plain": [
       "<matplotlib.axes._subplots.AxesSubplot at 0x221549b8f40>"
      ]
     },
     "execution_count": 14,
     "metadata": {},
     "output_type": "execute_result"
    },
    {
     "data": {
      "image/png": "[encoded data removed]",
      "text/plain": [
       "<Figure size 432x288 with 1 Axes>"
      ]
     },
     "metadata": {
      "needs_background": "light"
     },
     "output_type": "display_data"
    }
   ],
   "source": [
    "sns.countplot(y)"
   ]
  },
  {
   "cell_type": "code",
   "execution_count": 15,
   "metadata": {},
   "outputs": [],
   "source": [
    "train_df = pd.DataFrame(X, columns=feature_data.columns)"
   ]
  },
  {
   "cell_type": "code",
   "execution_count": 16,
   "metadata": {},
   "outputs": [
    {
     "data": {
      "text/plain": [
       "(15386, 11)"
      ]
     },
     "execution_count": 16,
     "metadata": {},
     "output_type": "execute_result"
    }
   ],
   "source": [
    "train_df.shape "
   ]
  },
  {
   "cell_type": "code",
   "execution_count": 17,
   "metadata": {},
   "outputs": [
    {
     "data": {
      "text/html": [
       "<div>\n",
       "<style scoped>\n",
       "    .dataframe tbody tr th:only-of-type {\n",
       "        vertical-align: middle;\n",
       "    }\n",
       "\n",
       "    .dataframe tbody tr th {\n",
       "        vertical-align: top;\n",
       "    }\n",
       "\n",
       "    .dataframe thead th {\n",
       "        text-align: right;\n",
       "    }\n",
       "</style>\n",
       "<table border=\"1\" class=\"dataframe\">\n",
       "  <thead>\n",
       "    <tr style=\"text-align: right;\">\n",
       "      <th></th>\n",
       "      <th>fixed acidity</th>\n",
       "      <th>volatile acidity</th>\n",
       "      <th>citric acid</th>\n",
       "      <th>residual sugar</th>\n",
       "      <th>chlorides</th>\n",
       "      <th>free sulfur dioxide</th>\n",
       "      <th>total sulfur dioxide</th>\n",
       "      <th>density</th>\n",
       "      <th>pH</th>\n",
       "      <th>sulphates</th>\n",
       "      <th>alcohol</th>\n",
       "    </tr>\n",
       "  </thead>\n",
       "  <tbody>\n",
       "    <tr>\n",
       "      <th>0</th>\n",
       "      <td>0.172097</td>\n",
       "      <td>-0.081770</td>\n",
       "      <td>0.213280</td>\n",
       "      <td>2.821349</td>\n",
       "      <td>-0.035355</td>\n",
       "      <td>0.569932</td>\n",
       "      <td>0.744565</td>\n",
       "      <td>2.331512</td>\n",
       "      <td>-1.246921</td>\n",
       "      <td>-0.349184</td>\n",
       "      <td>-1.393152</td>\n",
       "    </tr>\n",
       "    <tr>\n",
       "      <th>1</th>\n",
       "      <td>-0.657501</td>\n",
       "      <td>0.215896</td>\n",
       "      <td>0.048001</td>\n",
       "      <td>-0.944765</td>\n",
       "      <td>0.147747</td>\n",
       "      <td>-1.253019</td>\n",
       "      <td>-0.149685</td>\n",
       "      <td>-0.009154</td>\n",
       "      <td>0.740029</td>\n",
       "      <td>0.001342</td>\n",
       "      <td>-0.824276</td>\n",
       "    </tr>\n",
       "    <tr>\n",
       "      <th>2</th>\n",
       "      <td>1.475751</td>\n",
       "      <td>0.017452</td>\n",
       "      <td>0.543838</td>\n",
       "      <td>0.100282</td>\n",
       "      <td>0.193523</td>\n",
       "      <td>-0.312141</td>\n",
       "      <td>-0.973336</td>\n",
       "      <td>0.358665</td>\n",
       "      <td>0.475102</td>\n",
       "      <td>-0.436816</td>\n",
       "      <td>-0.336667</td>\n",
       "    </tr>\n",
       "    <tr>\n",
       "      <th>3</th>\n",
       "      <td>0.409125</td>\n",
       "      <td>-0.478657</td>\n",
       "      <td>-0.117278</td>\n",
       "      <td>0.415768</td>\n",
       "      <td>0.559727</td>\n",
       "      <td>0.687541</td>\n",
       "      <td>1.121091</td>\n",
       "      <td>0.525855</td>\n",
       "      <td>0.011480</td>\n",
       "      <td>-0.787342</td>\n",
       "      <td>-0.499203</td>\n",
       "    </tr>\n",
       "    <tr>\n",
       "      <th>4</th>\n",
       "      <td>0.409125</td>\n",
       "      <td>-0.478657</td>\n",
       "      <td>-0.117278</td>\n",
       "      <td>0.415768</td>\n",
       "      <td>0.559727</td>\n",
       "      <td>0.687541</td>\n",
       "      <td>1.121091</td>\n",
       "      <td>0.525855</td>\n",
       "      <td>0.011480</td>\n",
       "      <td>-0.787342</td>\n",
       "      <td>-0.499203</td>\n",
       "    </tr>\n",
       "  </tbody>\n",
       "</table>\n",
       "</div>"
      ],
      "text/plain": [
       "   fixed acidity  volatile acidity  citric acid  residual sugar  chlorides  \\\n",
       "0       0.172097         -0.081770     0.213280        2.821349  -0.035355   \n",
       "1      -0.657501          0.215896     0.048001       -0.944765   0.147747   \n",
       "2       1.475751          0.017452     0.543838        0.100282   0.193523   \n",
       "3       0.409125         -0.478657    -0.117278        0.415768   0.559727   \n",
       "4       0.409125         -0.478657    -0.117278        0.415768   0.559727   \n",
       "\n",
       "   free sulfur dioxide  total sulfur dioxide   density        pH  sulphates  \\\n",
       "0             0.569932              0.744565  2.331512 -1.246921  -0.349184   \n",
       "1            -1.253019             -0.149685 -0.009154  0.740029   0.001342   \n",
       "2            -0.312141             -0.973336  0.358665  0.475102  -0.436816   \n",
       "3             0.687541              1.121091  0.525855  0.011480  -0.787342   \n",
       "4             0.687541              1.121091  0.525855  0.011480  -0.787342   \n",
       "\n",
       "    alcohol  \n",
       "0 -1.393152  \n",
       "1 -0.824276  \n",
       "2 -0.336667  \n",
       "3 -0.499203  \n",
       "4 -0.499203  "
      ]
     },
     "execution_count": 17,
     "metadata": {},
     "output_type": "execute_result"
    }
   ],
   "source": [
    "train_df.head()"
   ]
  },
  {
   "cell_type": "code",
   "execution_count": 18,
   "metadata": {},
   "outputs": [],
   "source": [
    "from sklearn.model_selection import train_test_split\n",
    "X_train, X_test, y_train, y_test = train_test_split(train_df, y, test_size=0.2, random_state=42)"
   ]
  },
  {
   "cell_type": "code",
   "execution_count": 19,
   "metadata": {},
   "outputs": [
    {
     "name": "stdout",
     "output_type": "stream",
     "text": [
      "(12308, 11)\n",
      "(12308,)\n",
      "(3078, 11)\n",
      "(3078,)\n"
     ]
    }
   ],
   "source": [
    "print(X_train.shape)\n",
    "print(y_train.shape)\n",
    "\n",
    "print(X_test.shape)\n",
    "print(y_test.shape)\n"
   ]
  },
  {
   "cell_type": "code",
   "execution_count": 20,
   "metadata": {},
   "outputs": [],
   "source": [
    "train_Y = tf.keras.utils.to_categorical(\n",
    "    y_train, num_classes=7)  # 범주형 데이터를 원핫인코딩\n",
    "test_Y = tf.keras.utils.to_categorical(\n",
    "    y_test, num_classes=7)\n"
   ]
  },
  {
   "cell_type": "code",
   "execution_count": 21,
   "metadata": {},
   "outputs": [
    {
     "data": {
      "text/plain": [
       "(12308, 7)"
      ]
     },
     "execution_count": 21,
     "metadata": {},
     "output_type": "execute_result"
    }
   ],
   "source": [
    "train_Y.shape"
   ]
  },
  {
   "cell_type": "code",
   "execution_count": 22,
   "metadata": {},
   "outputs": [],
   "source": [
    "# 와인 데이터셋 다항 분류 모델 생성 및 학습\n",
    "model = tf.keras.Sequential()\n",
    "model.add(tf.keras.layers.Dense(256, activation='relu', input_dim=X_train.shape[1])),\n",
    "model.add(tf.keras.layers.Dropout(0.2)),\n",
    "model.add(tf.keras.layers.Dense(128, activation='relu')),\n",
    "model.add(tf.keras.layers.Dropout(0.2)),\n",
    "model.add(tf.keras.layers.Dense(64, activation='relu')),\n",
    "model.add(tf.keras.layers.Dropout(0.2)),\n",
    "model.add(tf.keras.layers.Dense(32, activation='relu')),\n",
    "model.add(tf.keras.layers.Dense(32, activation='relu')),\n",
    "model.add(tf.keras.layers.Dropout(0.2)),\n",
    "model.add(tf.keras.layers.Dense(7, activation='softmax'))\n"
   ]
  },
  {
   "cell_type": "code",
   "execution_count": 23,
   "metadata": {},
   "outputs": [
    {
     "name": "stdout",
     "output_type": "stream",
     "text": [
      "Epoch 1/500\n",
      "99/99 - 1s - loss: 1.5732 - accuracy: 0.3662 - val_loss: 1.1042 - val_accuracy: 0.5471 - 1s/epoch - 12ms/step\n",
      "Epoch 2/500\n",
      "99/99 - 0s - loss: 1.1475 - accuracy: 0.5215 - val_loss: 0.9109 - val_accuracy: 0.6243 - 353ms/epoch - 4ms/step\n",
      "Epoch 3/500\n",
      "99/99 - 0s - loss: 1.0111 - accuracy: 0.5721 - val_loss: 0.8500 - val_accuracy: 0.6413 - 356ms/epoch - 4ms/step\n",
      "Epoch 4/500\n",
      "99/99 - 0s - loss: 0.9338 - accuracy: 0.5953 - val_loss: 0.7810 - val_accuracy: 0.6751 - 362ms/epoch - 4ms/step\n",
      "Epoch 5/500\n",
      "99/99 - 0s - loss: 0.8835 - accuracy: 0.6162 - val_loss: 0.7592 - val_accuracy: 0.6637 - 360ms/epoch - 4ms/step\n",
      "Epoch 6/500\n",
      "99/99 - 0s - loss: 0.8460 - accuracy: 0.6292 - val_loss: 0.7357 - val_accuracy: 0.6901 - 371ms/epoch - 4ms/step\n",
      "Epoch 7/500\n",
      "99/99 - 0s - loss: 0.8209 - accuracy: 0.6435 - val_loss: 0.7226 - val_accuracy: 0.6946 - 356ms/epoch - 4ms/step\n",
      "Epoch 8/500\n",
      "99/99 - 0s - loss: 0.7950 - accuracy: 0.6517 - val_loss: 0.7035 - val_accuracy: 0.6954 - 359ms/epoch - 4ms/step\n",
      "Epoch 9/500\n",
      "99/99 - 0s - loss: 0.7721 - accuracy: 0.6667 - val_loss: 0.6766 - val_accuracy: 0.7210 - 359ms/epoch - 4ms/step\n",
      "Epoch 10/500\n",
      "99/99 - 0s - loss: 0.7385 - accuracy: 0.6803 - val_loss: 0.6790 - val_accuracy: 0.7002 - 357ms/epoch - 4ms/step\n",
      "Epoch 11/500\n",
      "99/99 - 0s - loss: 0.7238 - accuracy: 0.6892 - val_loss: 0.6383 - val_accuracy: 0.7246 - 360ms/epoch - 4ms/step\n",
      "Epoch 12/500\n",
      "99/99 - 0s - loss: 0.7085 - accuracy: 0.6948 - val_loss: 0.6393 - val_accuracy: 0.7242 - 363ms/epoch - 4ms/step\n",
      "Epoch 13/500\n",
      "99/99 - 0s - loss: 0.6927 - accuracy: 0.7051 - val_loss: 0.6192 - val_accuracy: 0.7376 - 362ms/epoch - 4ms/step\n",
      "Epoch 14/500\n",
      "99/99 - 0s - loss: 0.6716 - accuracy: 0.7128 - val_loss: 0.5980 - val_accuracy: 0.7449 - 361ms/epoch - 4ms/step\n",
      "Epoch 15/500\n",
      "99/99 - 0s - loss: 0.6631 - accuracy: 0.7141 - val_loss: 0.6075 - val_accuracy: 0.7405 - 363ms/epoch - 4ms/step\n",
      "Epoch 16/500\n",
      "99/99 - 0s - loss: 0.6463 - accuracy: 0.7252 - val_loss: 0.5850 - val_accuracy: 0.7644 - 367ms/epoch - 4ms/step\n",
      "Epoch 17/500\n",
      "99/99 - 0s - loss: 0.6375 - accuracy: 0.7310 - val_loss: 0.5759 - val_accuracy: 0.7555 - 357ms/epoch - 4ms/step\n",
      "Epoch 18/500\n",
      "99/99 - 0s - loss: 0.6200 - accuracy: 0.7341 - val_loss: 0.5713 - val_accuracy: 0.7583 - 362ms/epoch - 4ms/step\n",
      "Epoch 19/500\n",
      "99/99 - 0s - loss: 0.6219 - accuracy: 0.7385 - val_loss: 0.5551 - val_accuracy: 0.7742 - 361ms/epoch - 4ms/step\n",
      "Epoch 20/500\n",
      "99/99 - 0s - loss: 0.5971 - accuracy: 0.7464 - val_loss: 0.5393 - val_accuracy: 0.7774 - 358ms/epoch - 4ms/step\n",
      "Epoch 21/500\n",
      "99/99 - 0s - loss: 0.5926 - accuracy: 0.7487 - val_loss: 0.5411 - val_accuracy: 0.7790 - 357ms/epoch - 4ms/step\n",
      "Epoch 22/500\n",
      "99/99 - 0s - loss: 0.5779 - accuracy: 0.7587 - val_loss: 0.5372 - val_accuracy: 0.7790 - 358ms/epoch - 4ms/step\n",
      "Epoch 23/500\n",
      "99/99 - 0s - loss: 0.5765 - accuracy: 0.7637 - val_loss: 0.5152 - val_accuracy: 0.7937 - 357ms/epoch - 4ms/step\n",
      "Epoch 24/500\n",
      "99/99 - 0s - loss: 0.5576 - accuracy: 0.7701 - val_loss: 0.5205 - val_accuracy: 0.7892 - 359ms/epoch - 4ms/step\n",
      "Epoch 25/500\n",
      "99/99 - 0s - loss: 0.5678 - accuracy: 0.7611 - val_loss: 0.5203 - val_accuracy: 0.7892 - 359ms/epoch - 4ms/step\n",
      "Epoch 26/500\n",
      "99/99 - 0s - loss: 0.5474 - accuracy: 0.7746 - val_loss: 0.4988 - val_accuracy: 0.7957 - 355ms/epoch - 4ms/step\n",
      "Epoch 27/500\n",
      "99/99 - 0s - loss: 0.5396 - accuracy: 0.7751 - val_loss: 0.4957 - val_accuracy: 0.7908 - 358ms/epoch - 4ms/step\n",
      "Epoch 28/500\n",
      "99/99 - 0s - loss: 0.5347 - accuracy: 0.7737 - val_loss: 0.4912 - val_accuracy: 0.7989 - 355ms/epoch - 4ms/step\n",
      "Epoch 29/500\n",
      "99/99 - 0s - loss: 0.5205 - accuracy: 0.7811 - val_loss: 0.4757 - val_accuracy: 0.8111 - 356ms/epoch - 4ms/step\n",
      "Epoch 30/500\n",
      "99/99 - 0s - loss: 0.5164 - accuracy: 0.7843 - val_loss: 0.4789 - val_accuracy: 0.8079 - 358ms/epoch - 4ms/step\n",
      "Epoch 31/500\n",
      "99/99 - 0s - loss: 0.5105 - accuracy: 0.7877 - val_loss: 0.4862 - val_accuracy: 0.8010 - 362ms/epoch - 4ms/step\n",
      "Epoch 32/500\n",
      "99/99 - 0s - loss: 0.5018 - accuracy: 0.7932 - val_loss: 0.4619 - val_accuracy: 0.8119 - 362ms/epoch - 4ms/step\n",
      "Epoch 33/500\n",
      "99/99 - 0s - loss: 0.5056 - accuracy: 0.7920 - val_loss: 0.4759 - val_accuracy: 0.8038 - 356ms/epoch - 4ms/step\n",
      "Epoch 34/500\n",
      "99/99 - 0s - loss: 0.4985 - accuracy: 0.7972 - val_loss: 0.4545 - val_accuracy: 0.8148 - 355ms/epoch - 4ms/step\n",
      "Epoch 35/500\n",
      "99/99 - 0s - loss: 0.5035 - accuracy: 0.7900 - val_loss: 0.4581 - val_accuracy: 0.8144 - 359ms/epoch - 4ms/step\n",
      "Epoch 36/500\n",
      "99/99 - 0s - loss: 0.4833 - accuracy: 0.8011 - val_loss: 0.4567 - val_accuracy: 0.8144 - 361ms/epoch - 4ms/step\n",
      "Epoch 37/500\n",
      "99/99 - 0s - loss: 0.4757 - accuracy: 0.8020 - val_loss: 0.4580 - val_accuracy: 0.8184 - 356ms/epoch - 4ms/step\n",
      "Epoch 38/500\n",
      "99/99 - 0s - loss: 0.4715 - accuracy: 0.8098 - val_loss: 0.4490 - val_accuracy: 0.8201 - 349ms/epoch - 4ms/step\n",
      "Epoch 39/500\n",
      "99/99 - 0s - loss: 0.4750 - accuracy: 0.8052 - val_loss: 0.4463 - val_accuracy: 0.8168 - 337ms/epoch - 3ms/step\n",
      "Epoch 40/500\n",
      "99/99 - 0s - loss: 0.4627 - accuracy: 0.8093 - val_loss: 0.4494 - val_accuracy: 0.8107 - 341ms/epoch - 3ms/step\n",
      "Epoch 41/500\n",
      "99/99 - 0s - loss: 0.4651 - accuracy: 0.8117 - val_loss: 0.4348 - val_accuracy: 0.8270 - 340ms/epoch - 3ms/step\n",
      "Epoch 42/500\n",
      "99/99 - 0s - loss: 0.4516 - accuracy: 0.8118 - val_loss: 0.4419 - val_accuracy: 0.8188 - 353ms/epoch - 4ms/step\n",
      "Epoch 43/500\n",
      "99/99 - 0s - loss: 0.4594 - accuracy: 0.8093 - val_loss: 0.4485 - val_accuracy: 0.8180 - 351ms/epoch - 4ms/step\n",
      "Epoch 44/500\n",
      "99/99 - 0s - loss: 0.4463 - accuracy: 0.8138 - val_loss: 0.4317 - val_accuracy: 0.8274 - 343ms/epoch - 3ms/step\n",
      "Epoch 45/500\n",
      "99/99 - 0s - loss: 0.4558 - accuracy: 0.8115 - val_loss: 0.4380 - val_accuracy: 0.8290 - 344ms/epoch - 3ms/step\n",
      "Epoch 46/500\n",
      "99/99 - 0s - loss: 0.4401 - accuracy: 0.8193 - val_loss: 0.4320 - val_accuracy: 0.8237 - 348ms/epoch - 4ms/step\n",
      "Epoch 47/500\n",
      "99/99 - 0s - loss: 0.4387 - accuracy: 0.8218 - val_loss: 0.4350 - val_accuracy: 0.8298 - 360ms/epoch - 4ms/step\n",
      "Epoch 48/500\n",
      "99/99 - 0s - loss: 0.4433 - accuracy: 0.8210 - val_loss: 0.4148 - val_accuracy: 0.8351 - 358ms/epoch - 4ms/step\n",
      "Epoch 49/500\n",
      "99/99 - 0s - loss: 0.4182 - accuracy: 0.8262 - val_loss: 0.4327 - val_accuracy: 0.8258 - 359ms/epoch - 4ms/step\n",
      "Epoch 50/500\n",
      "99/99 - 0s - loss: 0.4238 - accuracy: 0.8215 - val_loss: 0.4204 - val_accuracy: 0.8355 - 354ms/epoch - 4ms/step\n",
      "Epoch 51/500\n",
      "99/99 - 0s - loss: 0.4286 - accuracy: 0.8264 - val_loss: 0.4210 - val_accuracy: 0.8306 - 359ms/epoch - 4ms/step\n",
      "Epoch 52/500\n",
      "99/99 - 0s - loss: 0.4234 - accuracy: 0.8301 - val_loss: 0.4167 - val_accuracy: 0.8347 - 364ms/epoch - 4ms/step\n",
      "Epoch 53/500\n",
      "99/99 - 0s - loss: 0.4183 - accuracy: 0.8280 - val_loss: 0.4160 - val_accuracy: 0.8351 - 362ms/epoch - 4ms/step\n",
      "Epoch 54/500\n",
      "99/99 - 0s - loss: 0.4209 - accuracy: 0.8229 - val_loss: 0.4110 - val_accuracy: 0.8314 - 360ms/epoch - 4ms/step\n",
      "Epoch 55/500\n",
      "99/99 - 0s - loss: 0.4132 - accuracy: 0.8320 - val_loss: 0.4117 - val_accuracy: 0.8331 - 362ms/epoch - 4ms/step\n",
      "Epoch 56/500\n",
      "99/99 - 0s - loss: 0.4163 - accuracy: 0.8316 - val_loss: 0.4058 - val_accuracy: 0.8412 - 363ms/epoch - 4ms/step\n",
      "Epoch 57/500\n",
      "99/99 - 0s - loss: 0.4057 - accuracy: 0.8382 - val_loss: 0.4159 - val_accuracy: 0.8371 - 355ms/epoch - 4ms/step\n",
      "Epoch 58/500\n",
      "99/99 - 0s - loss: 0.4036 - accuracy: 0.8346 - val_loss: 0.4161 - val_accuracy: 0.8339 - 358ms/epoch - 4ms/step\n",
      "Epoch 59/500\n",
      "99/99 - 0s - loss: 0.4039 - accuracy: 0.8340 - val_loss: 0.4196 - val_accuracy: 0.8286 - 356ms/epoch - 4ms/step\n",
      "Epoch 60/500\n",
      "99/99 - 0s - loss: 0.4048 - accuracy: 0.8359 - val_loss: 0.4089 - val_accuracy: 0.8355 - 360ms/epoch - 4ms/step\n",
      "Epoch 61/500\n",
      "99/99 - 0s - loss: 0.3901 - accuracy: 0.8396 - val_loss: 0.4110 - val_accuracy: 0.8363 - 358ms/epoch - 4ms/step\n",
      "Epoch 62/500\n",
      "99/99 - 0s - loss: 0.3970 - accuracy: 0.8392 - val_loss: 0.4176 - val_accuracy: 0.8306 - 358ms/epoch - 4ms/step\n",
      "Epoch 63/500\n",
      "99/99 - 0s - loss: 0.3965 - accuracy: 0.8335 - val_loss: 0.4125 - val_accuracy: 0.8383 - 358ms/epoch - 4ms/step\n",
      "Epoch 64/500\n",
      "99/99 - 0s - loss: 0.3900 - accuracy: 0.8427 - val_loss: 0.4043 - val_accuracy: 0.8400 - 354ms/epoch - 4ms/step\n",
      "Epoch 65/500\n",
      "99/99 - 0s - loss: 0.3909 - accuracy: 0.8370 - val_loss: 0.4090 - val_accuracy: 0.8314 - 361ms/epoch - 4ms/step\n",
      "Epoch 66/500\n",
      "99/99 - 0s - loss: 0.3932 - accuracy: 0.8401 - val_loss: 0.3939 - val_accuracy: 0.8461 - 355ms/epoch - 4ms/step\n",
      "Epoch 67/500\n",
      "99/99 - 0s - loss: 0.3838 - accuracy: 0.8429 - val_loss: 0.3919 - val_accuracy: 0.8424 - 356ms/epoch - 4ms/step\n",
      "Epoch 68/500\n",
      "99/99 - 0s - loss: 0.3801 - accuracy: 0.8461 - val_loss: 0.4003 - val_accuracy: 0.8412 - 357ms/epoch - 4ms/step\n",
      "Epoch 69/500\n",
      "99/99 - 0s - loss: 0.3747 - accuracy: 0.8490 - val_loss: 0.4098 - val_accuracy: 0.8331 - 359ms/epoch - 4ms/step\n",
      "Epoch 70/500\n",
      "99/99 - 0s - loss: 0.3828 - accuracy: 0.8448 - val_loss: 0.4090 - val_accuracy: 0.8371 - 358ms/epoch - 4ms/step\n",
      "Epoch 71/500\n",
      "99/99 - 0s - loss: 0.3729 - accuracy: 0.8481 - val_loss: 0.4014 - val_accuracy: 0.8383 - 359ms/epoch - 4ms/step\n",
      "Epoch 72/500\n",
      "99/99 - 0s - loss: 0.3714 - accuracy: 0.8493 - val_loss: 0.4071 - val_accuracy: 0.8473 - 359ms/epoch - 4ms/step\n",
      "Epoch 73/500\n",
      "99/99 - 0s - loss: 0.3594 - accuracy: 0.8532 - val_loss: 0.3996 - val_accuracy: 0.8481 - 361ms/epoch - 4ms/step\n",
      "Epoch 74/500\n",
      "99/99 - 0s - loss: 0.3749 - accuracy: 0.8465 - val_loss: 0.3829 - val_accuracy: 0.8485 - 357ms/epoch - 4ms/step\n",
      "Epoch 75/500\n",
      "99/99 - 0s - loss: 0.3667 - accuracy: 0.8518 - val_loss: 0.4023 - val_accuracy: 0.8424 - 362ms/epoch - 4ms/step\n",
      "Epoch 76/500\n",
      "99/99 - 0s - loss: 0.3642 - accuracy: 0.8541 - val_loss: 0.3925 - val_accuracy: 0.8493 - 360ms/epoch - 4ms/step\n",
      "Epoch 77/500\n",
      "99/99 - 0s - loss: 0.3639 - accuracy: 0.8533 - val_loss: 0.3854 - val_accuracy: 0.8457 - 360ms/epoch - 4ms/step\n",
      "Epoch 78/500\n",
      "99/99 - 0s - loss: 0.3585 - accuracy: 0.8562 - val_loss: 0.3913 - val_accuracy: 0.8457 - 362ms/epoch - 4ms/step\n",
      "Epoch 79/500\n",
      "99/99 - 0s - loss: 0.3630 - accuracy: 0.8499 - val_loss: 0.3984 - val_accuracy: 0.8448 - 357ms/epoch - 4ms/step\n",
      "Epoch 80/500\n",
      "99/99 - 0s - loss: 0.3501 - accuracy: 0.8599 - val_loss: 0.4014 - val_accuracy: 0.8481 - 353ms/epoch - 4ms/step\n",
      "Epoch 81/500\n",
      "99/99 - 0s - loss: 0.3645 - accuracy: 0.8478 - val_loss: 0.3937 - val_accuracy: 0.8473 - 356ms/epoch - 4ms/step\n",
      "Epoch 82/500\n",
      "99/99 - 0s - loss: 0.3574 - accuracy: 0.8558 - val_loss: 0.3845 - val_accuracy: 0.8477 - 353ms/epoch - 4ms/step\n",
      "Epoch 83/500\n",
      "99/99 - 0s - loss: 0.3462 - accuracy: 0.8585 - val_loss: 0.3948 - val_accuracy: 0.8477 - 357ms/epoch - 4ms/step\n",
      "Epoch 84/500\n",
      "99/99 - 0s - loss: 0.3459 - accuracy: 0.8600 - val_loss: 0.3897 - val_accuracy: 0.8546 - 361ms/epoch - 4ms/step\n",
      "Epoch 85/500\n",
      "99/99 - 0s - loss: 0.3530 - accuracy: 0.8585 - val_loss: 0.3876 - val_accuracy: 0.8501 - 352ms/epoch - 4ms/step\n",
      "Epoch 86/500\n",
      "99/99 - 0s - loss: 0.3513 - accuracy: 0.8623 - val_loss: 0.3875 - val_accuracy: 0.8554 - 354ms/epoch - 4ms/step\n",
      "Epoch 87/500\n",
      "99/99 - 0s - loss: 0.3455 - accuracy: 0.8582 - val_loss: 0.3902 - val_accuracy: 0.8497 - 363ms/epoch - 4ms/step\n",
      "Epoch 88/500\n",
      "99/99 - 0s - loss: 0.3504 - accuracy: 0.8607 - val_loss: 0.3869 - val_accuracy: 0.8481 - 353ms/epoch - 4ms/step\n",
      "Epoch 89/500\n",
      "99/99 - 0s - loss: 0.3424 - accuracy: 0.8614 - val_loss: 0.4054 - val_accuracy: 0.8448 - 355ms/epoch - 4ms/step\n",
      "Epoch 90/500\n",
      "99/99 - 0s - loss: 0.3381 - accuracy: 0.8659 - val_loss: 0.3966 - val_accuracy: 0.8534 - 359ms/epoch - 4ms/step\n",
      "Epoch 91/500\n",
      "99/99 - 0s - loss: 0.3444 - accuracy: 0.8600 - val_loss: 0.4017 - val_accuracy: 0.8505 - 358ms/epoch - 4ms/step\n",
      "Epoch 92/500\n",
      "99/99 - 0s - loss: 0.3505 - accuracy: 0.8627 - val_loss: 0.3951 - val_accuracy: 0.8538 - 357ms/epoch - 4ms/step\n",
      "Epoch 93/500\n",
      "99/99 - 0s - loss: 0.3368 - accuracy: 0.8656 - val_loss: 0.3837 - val_accuracy: 0.8566 - 361ms/epoch - 4ms/step\n",
      "Epoch 94/500\n",
      "99/99 - 0s - loss: 0.3362 - accuracy: 0.8649 - val_loss: 0.3778 - val_accuracy: 0.8595 - 361ms/epoch - 4ms/step\n",
      "Epoch 95/500\n",
      "99/99 - 0s - loss: 0.3330 - accuracy: 0.8671 - val_loss: 0.3926 - val_accuracy: 0.8517 - 359ms/epoch - 4ms/step\n",
      "Epoch 96/500\n",
      "99/99 - 0s - loss: 0.3316 - accuracy: 0.8654 - val_loss: 0.3851 - val_accuracy: 0.8599 - 368ms/epoch - 4ms/step\n",
      "Epoch 97/500\n",
      "99/99 - 0s - loss: 0.3337 - accuracy: 0.8649 - val_loss: 0.3796 - val_accuracy: 0.8582 - 357ms/epoch - 4ms/step\n",
      "Epoch 98/500\n",
      "99/99 - 0s - loss: 0.3294 - accuracy: 0.8656 - val_loss: 0.3788 - val_accuracy: 0.8570 - 379ms/epoch - 4ms/step\n",
      "Epoch 99/500\n",
      "99/99 - 0s - loss: 0.3189 - accuracy: 0.8710 - val_loss: 0.3959 - val_accuracy: 0.8522 - 373ms/epoch - 4ms/step\n",
      "Epoch 100/500\n",
      "99/99 - 0s - loss: 0.3291 - accuracy: 0.8662 - val_loss: 0.4104 - val_accuracy: 0.8465 - 363ms/epoch - 4ms/step\n",
      "Epoch 101/500\n",
      "99/99 - 0s - loss: 0.3256 - accuracy: 0.8672 - val_loss: 0.3763 - val_accuracy: 0.8566 - 373ms/epoch - 4ms/step\n",
      "Epoch 102/500\n",
      "99/99 - 0s - loss: 0.3228 - accuracy: 0.8701 - val_loss: 0.3766 - val_accuracy: 0.8639 - 365ms/epoch - 4ms/step\n",
      "Epoch 103/500\n",
      "99/99 - 0s - loss: 0.3225 - accuracy: 0.8706 - val_loss: 0.3697 - val_accuracy: 0.8599 - 362ms/epoch - 4ms/step\n",
      "Epoch 104/500\n",
      "99/99 - 0s - loss: 0.3262 - accuracy: 0.8712 - val_loss: 0.3771 - val_accuracy: 0.8611 - 361ms/epoch - 4ms/step\n",
      "Epoch 105/500\n",
      "99/99 - 0s - loss: 0.3178 - accuracy: 0.8718 - val_loss: 0.3766 - val_accuracy: 0.8574 - 363ms/epoch - 4ms/step\n",
      "Epoch 106/500\n",
      "99/99 - 0s - loss: 0.3233 - accuracy: 0.8714 - val_loss: 0.3855 - val_accuracy: 0.8485 - 362ms/epoch - 4ms/step\n",
      "Epoch 107/500\n",
      "99/99 - 0s - loss: 0.3255 - accuracy: 0.8717 - val_loss: 0.3827 - val_accuracy: 0.8611 - 362ms/epoch - 4ms/step\n",
      "Epoch 108/500\n",
      "99/99 - 0s - loss: 0.3129 - accuracy: 0.8742 - val_loss: 0.3767 - val_accuracy: 0.8526 - 361ms/epoch - 4ms/step\n",
      "Epoch 109/500\n",
      "99/99 - 0s - loss: 0.3149 - accuracy: 0.8739 - val_loss: 0.3794 - val_accuracy: 0.8591 - 360ms/epoch - 4ms/step\n",
      "Epoch 110/500\n",
      "99/99 - 0s - loss: 0.3136 - accuracy: 0.8776 - val_loss: 0.3902 - val_accuracy: 0.8542 - 356ms/epoch - 4ms/step\n",
      "Epoch 111/500\n",
      "99/99 - 0s - loss: 0.3057 - accuracy: 0.8761 - val_loss: 0.3872 - val_accuracy: 0.8566 - 356ms/epoch - 4ms/step\n",
      "Epoch 112/500\n",
      "99/99 - 0s - loss: 0.3112 - accuracy: 0.8754 - val_loss: 0.3861 - val_accuracy: 0.8562 - 355ms/epoch - 4ms/step\n",
      "Epoch 113/500\n",
      "99/99 - 0s - loss: 0.3197 - accuracy: 0.8741 - val_loss: 0.3894 - val_accuracy: 0.8542 - 356ms/epoch - 4ms/step\n",
      "Epoch 114/500\n",
      "99/99 - 0s - loss: 0.3049 - accuracy: 0.8814 - val_loss: 0.3815 - val_accuracy: 0.8562 - 358ms/epoch - 4ms/step\n",
      "Epoch 115/500\n",
      "99/99 - 0s - loss: 0.3025 - accuracy: 0.8791 - val_loss: 0.3791 - val_accuracy: 0.8615 - 359ms/epoch - 4ms/step\n",
      "Epoch 116/500\n",
      "99/99 - 0s - loss: 0.3113 - accuracy: 0.8760 - val_loss: 0.3849 - val_accuracy: 0.8570 - 358ms/epoch - 4ms/step\n",
      "Epoch 117/500\n",
      "99/99 - 0s - loss: 0.3057 - accuracy: 0.8793 - val_loss: 0.3791 - val_accuracy: 0.8550 - 361ms/epoch - 4ms/step\n",
      "Epoch 118/500\n",
      "99/99 - 0s - loss: 0.3014 - accuracy: 0.8778 - val_loss: 0.3802 - val_accuracy: 0.8615 - 358ms/epoch - 4ms/step\n",
      "Epoch 119/500\n",
      "99/99 - 0s - loss: 0.3070 - accuracy: 0.8767 - val_loss: 0.4052 - val_accuracy: 0.8558 - 356ms/epoch - 4ms/step\n",
      "Epoch 120/500\n",
      "99/99 - 0s - loss: 0.3028 - accuracy: 0.8831 - val_loss: 0.3743 - val_accuracy: 0.8700 - 358ms/epoch - 4ms/step\n",
      "Epoch 121/500\n",
      "99/99 - 0s - loss: 0.3045 - accuracy: 0.8780 - val_loss: 0.3749 - val_accuracy: 0.8660 - 358ms/epoch - 4ms/step\n",
      "Epoch 122/500\n",
      "99/99 - 0s - loss: 0.3059 - accuracy: 0.8796 - val_loss: 0.3701 - val_accuracy: 0.8672 - 355ms/epoch - 4ms/step\n",
      "Epoch 123/500\n",
      "99/99 - 0s - loss: 0.3108 - accuracy: 0.8763 - val_loss: 0.3835 - val_accuracy: 0.8595 - 356ms/epoch - 4ms/step\n",
      "Epoch 124/500\n",
      "99/99 - 0s - loss: 0.2939 - accuracy: 0.8825 - val_loss: 0.3751 - val_accuracy: 0.8615 - 357ms/epoch - 4ms/step\n",
      "Epoch 125/500\n",
      "99/99 - 0s - loss: 0.2940 - accuracy: 0.8840 - val_loss: 0.3678 - val_accuracy: 0.8680 - 363ms/epoch - 4ms/step\n",
      "Epoch 126/500\n",
      "99/99 - 0s - loss: 0.2957 - accuracy: 0.8836 - val_loss: 0.3785 - val_accuracy: 0.8574 - 362ms/epoch - 4ms/step\n",
      "Epoch 127/500\n",
      "99/99 - 0s - loss: 0.2883 - accuracy: 0.8879 - val_loss: 0.3786 - val_accuracy: 0.8664 - 363ms/epoch - 4ms/step\n",
      "Epoch 128/500\n",
      "99/99 - 0s - loss: 0.2876 - accuracy: 0.8878 - val_loss: 0.3703 - val_accuracy: 0.8611 - 356ms/epoch - 4ms/step\n",
      "Epoch 129/500\n",
      "99/99 - 0s - loss: 0.3092 - accuracy: 0.8776 - val_loss: 0.3720 - val_accuracy: 0.8704 - 357ms/epoch - 4ms/step\n",
      "Epoch 130/500\n",
      "99/99 - 0s - loss: 0.2939 - accuracy: 0.8808 - val_loss: 0.3859 - val_accuracy: 0.8570 - 356ms/epoch - 4ms/step\n",
      "Epoch 131/500\n",
      "99/99 - 0s - loss: 0.2813 - accuracy: 0.8867 - val_loss: 0.3841 - val_accuracy: 0.8546 - 361ms/epoch - 4ms/step\n",
      "Epoch 132/500\n",
      "99/99 - 0s - loss: 0.2888 - accuracy: 0.8880 - val_loss: 0.3740 - val_accuracy: 0.8631 - 362ms/epoch - 4ms/step\n",
      "Epoch 133/500\n",
      "99/99 - 0s - loss: 0.2921 - accuracy: 0.8856 - val_loss: 0.3795 - val_accuracy: 0.8631 - 362ms/epoch - 4ms/step\n",
      "Epoch 134/500\n",
      "99/99 - 0s - loss: 0.2771 - accuracy: 0.8900 - val_loss: 0.3790 - val_accuracy: 0.8623 - 358ms/epoch - 4ms/step\n",
      "Epoch 135/500\n",
      "99/99 - 0s - loss: 0.2885 - accuracy: 0.8886 - val_loss: 0.3776 - val_accuracy: 0.8619 - 357ms/epoch - 4ms/step\n",
      "Epoch 136/500\n",
      "99/99 - 0s - loss: 0.2751 - accuracy: 0.8901 - val_loss: 0.3828 - val_accuracy: 0.8668 - 357ms/epoch - 4ms/step\n",
      "Epoch 137/500\n",
      "99/99 - 0s - loss: 0.2811 - accuracy: 0.8894 - val_loss: 0.3732 - val_accuracy: 0.8676 - 356ms/epoch - 4ms/step\n",
      "Epoch 138/500\n",
      "99/99 - 0s - loss: 0.2829 - accuracy: 0.8907 - val_loss: 0.3858 - val_accuracy: 0.8647 - 360ms/epoch - 4ms/step\n",
      "Epoch 139/500\n",
      "99/99 - 0s - loss: 0.2907 - accuracy: 0.8884 - val_loss: 0.3927 - val_accuracy: 0.8566 - 358ms/epoch - 4ms/step\n",
      "Epoch 140/500\n",
      "99/99 - 0s - loss: 0.2837 - accuracy: 0.8877 - val_loss: 0.3781 - val_accuracy: 0.8591 - 357ms/epoch - 4ms/step\n",
      "Epoch 141/500\n",
      "99/99 - 0s - loss: 0.2891 - accuracy: 0.8884 - val_loss: 0.3749 - val_accuracy: 0.8615 - 362ms/epoch - 4ms/step\n",
      "Epoch 142/500\n",
      "99/99 - 0s - loss: 0.2849 - accuracy: 0.8841 - val_loss: 0.3663 - val_accuracy: 0.8668 - 360ms/epoch - 4ms/step\n",
      "Epoch 143/500\n",
      "99/99 - 0s - loss: 0.2745 - accuracy: 0.8890 - val_loss: 0.3719 - val_accuracy: 0.8627 - 361ms/epoch - 4ms/step\n",
      "Epoch 144/500\n",
      "99/99 - 0s - loss: 0.2804 - accuracy: 0.8914 - val_loss: 0.3683 - val_accuracy: 0.8664 - 361ms/epoch - 4ms/step\n",
      "Epoch 145/500\n",
      "99/99 - 0s - loss: 0.2760 - accuracy: 0.8944 - val_loss: 0.3802 - val_accuracy: 0.8631 - 354ms/epoch - 4ms/step\n",
      "Epoch 146/500\n",
      "99/99 - 0s - loss: 0.2766 - accuracy: 0.8905 - val_loss: 0.3685 - val_accuracy: 0.8688 - 362ms/epoch - 4ms/step\n",
      "Epoch 147/500\n",
      "99/99 - 0s - loss: 0.2764 - accuracy: 0.8920 - val_loss: 0.3693 - val_accuracy: 0.8725 - 457ms/epoch - 5ms/step\n",
      "Epoch 148/500\n",
      "99/99 - 0s - loss: 0.2837 - accuracy: 0.8877 - val_loss: 0.3830 - val_accuracy: 0.8656 - 413ms/epoch - 4ms/step\n",
      "Epoch 149/500\n",
      "99/99 - 0s - loss: 0.2765 - accuracy: 0.8923 - val_loss: 0.3815 - val_accuracy: 0.8696 - 394ms/epoch - 4ms/step\n",
      "Epoch 150/500\n",
      "99/99 - 0s - loss: 0.2679 - accuracy: 0.8977 - val_loss: 0.3845 - val_accuracy: 0.8643 - 373ms/epoch - 4ms/step\n",
      "Epoch 151/500\n",
      "99/99 - 0s - loss: 0.2781 - accuracy: 0.8913 - val_loss: 0.3614 - val_accuracy: 0.8676 - 354ms/epoch - 4ms/step\n",
      "Epoch 152/500\n",
      "99/99 - 0s - loss: 0.2727 - accuracy: 0.8942 - val_loss: 0.3605 - val_accuracy: 0.8708 - 363ms/epoch - 4ms/step\n",
      "Epoch 153/500\n",
      "99/99 - 0s - loss: 0.2819 - accuracy: 0.8912 - val_loss: 0.3644 - val_accuracy: 0.8639 - 359ms/epoch - 4ms/step\n",
      "Epoch 154/500\n",
      "99/99 - 0s - loss: 0.2712 - accuracy: 0.8956 - val_loss: 0.3699 - val_accuracy: 0.8688 - 358ms/epoch - 4ms/step\n",
      "Epoch 155/500\n",
      "99/99 - 0s - loss: 0.2746 - accuracy: 0.8919 - val_loss: 0.3813 - val_accuracy: 0.8631 - 360ms/epoch - 4ms/step\n",
      "Epoch 156/500\n",
      "99/99 - 0s - loss: 0.2690 - accuracy: 0.8973 - val_loss: 0.3673 - val_accuracy: 0.8688 - 350ms/epoch - 4ms/step\n",
      "Epoch 157/500\n",
      "99/99 - 0s - loss: 0.2688 - accuracy: 0.8954 - val_loss: 0.3851 - val_accuracy: 0.8656 - 348ms/epoch - 4ms/step\n",
      "Epoch 158/500\n",
      "99/99 - 0s - loss: 0.2706 - accuracy: 0.8950 - val_loss: 0.3622 - val_accuracy: 0.8652 - 355ms/epoch - 4ms/step\n",
      "Epoch 159/500\n",
      "99/99 - 0s - loss: 0.2755 - accuracy: 0.8911 - val_loss: 0.3679 - val_accuracy: 0.8708 - 343ms/epoch - 3ms/step\n",
      "Epoch 160/500\n",
      "99/99 - 0s - loss: 0.2773 - accuracy: 0.8909 - val_loss: 0.3735 - val_accuracy: 0.8708 - 358ms/epoch - 4ms/step\n",
      "Epoch 161/500\n",
      "99/99 - 0s - loss: 0.2693 - accuracy: 0.8910 - val_loss: 0.3686 - val_accuracy: 0.8700 - 395ms/epoch - 4ms/step\n",
      "Epoch 162/500\n",
      "99/99 - 0s - loss: 0.2656 - accuracy: 0.8974 - val_loss: 0.3802 - val_accuracy: 0.8712 - 384ms/epoch - 4ms/step\n",
      "Epoch 163/500\n",
      "99/99 - 0s - loss: 0.2656 - accuracy: 0.8940 - val_loss: 0.3824 - val_accuracy: 0.8692 - 364ms/epoch - 4ms/step\n",
      "Epoch 164/500\n",
      "99/99 - 0s - loss: 0.2591 - accuracy: 0.8997 - val_loss: 0.3750 - val_accuracy: 0.8688 - 363ms/epoch - 4ms/step\n",
      "Epoch 165/500\n",
      "99/99 - 0s - loss: 0.2727 - accuracy: 0.8941 - val_loss: 0.3941 - val_accuracy: 0.8647 - 361ms/epoch - 4ms/step\n",
      "Epoch 166/500\n",
      "99/99 - 0s - loss: 0.2667 - accuracy: 0.8971 - val_loss: 0.3866 - val_accuracy: 0.8647 - 355ms/epoch - 4ms/step\n",
      "Epoch 167/500\n",
      "99/99 - 0s - loss: 0.2761 - accuracy: 0.8923 - val_loss: 0.3793 - val_accuracy: 0.8696 - 359ms/epoch - 4ms/step\n",
      "Epoch 168/500\n",
      "99/99 - 0s - loss: 0.2609 - accuracy: 0.8966 - val_loss: 0.3789 - val_accuracy: 0.8716 - 356ms/epoch - 4ms/step\n",
      "Epoch 169/500\n",
      "99/99 - 0s - loss: 0.2554 - accuracy: 0.9018 - val_loss: 0.3729 - val_accuracy: 0.8729 - 359ms/epoch - 4ms/step\n",
      "Epoch 170/500\n",
      "99/99 - 0s - loss: 0.2710 - accuracy: 0.8951 - val_loss: 0.3768 - val_accuracy: 0.8708 - 357ms/epoch - 4ms/step\n",
      "Epoch 171/500\n",
      "99/99 - 0s - loss: 0.2568 - accuracy: 0.8980 - val_loss: 0.3751 - val_accuracy: 0.8688 - 359ms/epoch - 4ms/step\n",
      "Epoch 172/500\n",
      "99/99 - 0s - loss: 0.2634 - accuracy: 0.8985 - val_loss: 0.3782 - val_accuracy: 0.8729 - 366ms/epoch - 4ms/step\n",
      "Epoch 173/500\n",
      "99/99 - 0s - loss: 0.2628 - accuracy: 0.8976 - val_loss: 0.3710 - val_accuracy: 0.8733 - 384ms/epoch - 4ms/step\n",
      "Epoch 174/500\n",
      "99/99 - 0s - loss: 0.2572 - accuracy: 0.8976 - val_loss: 0.3675 - val_accuracy: 0.8688 - 365ms/epoch - 4ms/step\n",
      "Epoch 175/500\n",
      "99/99 - 0s - loss: 0.2612 - accuracy: 0.8985 - val_loss: 0.3687 - val_accuracy: 0.8733 - 356ms/epoch - 4ms/step\n",
      "Epoch 176/500\n",
      "99/99 - 0s - loss: 0.2452 - accuracy: 0.9078 - val_loss: 0.3736 - val_accuracy: 0.8737 - 362ms/epoch - 4ms/step\n",
      "Epoch 177/500\n",
      "99/99 - 0s - loss: 0.2536 - accuracy: 0.9031 - val_loss: 0.3850 - val_accuracy: 0.8741 - 358ms/epoch - 4ms/step\n",
      "Epoch 178/500\n",
      "99/99 - 0s - loss: 0.2612 - accuracy: 0.9017 - val_loss: 0.3643 - val_accuracy: 0.8745 - 358ms/epoch - 4ms/step\n",
      "Epoch 179/500\n",
      "99/99 - 0s - loss: 0.2686 - accuracy: 0.8958 - val_loss: 0.3915 - val_accuracy: 0.8643 - 354ms/epoch - 4ms/step\n",
      "Epoch 180/500\n",
      "99/99 - 0s - loss: 0.2624 - accuracy: 0.9014 - val_loss: 0.3776 - val_accuracy: 0.8692 - 359ms/epoch - 4ms/step\n",
      "Epoch 181/500\n",
      "99/99 - 0s - loss: 0.2630 - accuracy: 0.8971 - val_loss: 0.3798 - val_accuracy: 0.8712 - 357ms/epoch - 4ms/step\n",
      "Epoch 182/500\n",
      "99/99 - 0s - loss: 0.2544 - accuracy: 0.9017 - val_loss: 0.3704 - val_accuracy: 0.8688 - 365ms/epoch - 4ms/step\n",
      "Epoch 183/500\n",
      "99/99 - 0s - loss: 0.2445 - accuracy: 0.9052 - val_loss: 0.3746 - val_accuracy: 0.8733 - 362ms/epoch - 4ms/step\n",
      "Epoch 184/500\n",
      "99/99 - 0s - loss: 0.2447 - accuracy: 0.9086 - val_loss: 0.3952 - val_accuracy: 0.8712 - 360ms/epoch - 4ms/step\n",
      "Epoch 185/500\n",
      "99/99 - 0s - loss: 0.2537 - accuracy: 0.9023 - val_loss: 0.3675 - val_accuracy: 0.8721 - 358ms/epoch - 4ms/step\n",
      "Epoch 186/500\n",
      "99/99 - 0s - loss: 0.2359 - accuracy: 0.9077 - val_loss: 0.3766 - val_accuracy: 0.8737 - 358ms/epoch - 4ms/step\n",
      "Epoch 187/500\n",
      "99/99 - 0s - loss: 0.2544 - accuracy: 0.9017 - val_loss: 0.3752 - val_accuracy: 0.8700 - 357ms/epoch - 4ms/step\n",
      "Epoch 188/500\n",
      "99/99 - 0s - loss: 0.2446 - accuracy: 0.9062 - val_loss: 0.3756 - val_accuracy: 0.8716 - 356ms/epoch - 4ms/step\n",
      "Epoch 189/500\n",
      "99/99 - 0s - loss: 0.2450 - accuracy: 0.9078 - val_loss: 0.3809 - val_accuracy: 0.8696 - 355ms/epoch - 4ms/step\n",
      "Epoch 190/500\n",
      "99/99 - 0s - loss: 0.2441 - accuracy: 0.9074 - val_loss: 0.3899 - val_accuracy: 0.8680 - 362ms/epoch - 4ms/step\n",
      "Epoch 191/500\n",
      "99/99 - 0s - loss: 0.2484 - accuracy: 0.9047 - val_loss: 0.3710 - val_accuracy: 0.8725 - 364ms/epoch - 4ms/step\n",
      "Epoch 192/500\n",
      "99/99 - 0s - loss: 0.2469 - accuracy: 0.9065 - val_loss: 0.3959 - val_accuracy: 0.8668 - 371ms/epoch - 4ms/step\n",
      "Epoch 193/500\n",
      "99/99 - 0s - loss: 0.2454 - accuracy: 0.9100 - val_loss: 0.3853 - val_accuracy: 0.8704 - 366ms/epoch - 4ms/step\n",
      "Epoch 194/500\n",
      "99/99 - 0s - loss: 0.2408 - accuracy: 0.9091 - val_loss: 0.3772 - val_accuracy: 0.8753 - 360ms/epoch - 4ms/step\n",
      "Epoch 195/500\n",
      "99/99 - 0s - loss: 0.2486 - accuracy: 0.9041 - val_loss: 0.3834 - val_accuracy: 0.8643 - 359ms/epoch - 4ms/step\n",
      "Epoch 196/500\n",
      "99/99 - 0s - loss: 0.2389 - accuracy: 0.9090 - val_loss: 0.3801 - val_accuracy: 0.8757 - 363ms/epoch - 4ms/step\n",
      "Epoch 197/500\n",
      "99/99 - 0s - loss: 0.2412 - accuracy: 0.9110 - val_loss: 0.3856 - val_accuracy: 0.8652 - 363ms/epoch - 4ms/step\n",
      "Epoch 198/500\n",
      "99/99 - 0s - loss: 0.2494 - accuracy: 0.9056 - val_loss: 0.3708 - val_accuracy: 0.8712 - 361ms/epoch - 4ms/step\n",
      "Epoch 199/500\n",
      "99/99 - 0s - loss: 0.2385 - accuracy: 0.9075 - val_loss: 0.3683 - val_accuracy: 0.8676 - 358ms/epoch - 4ms/step\n",
      "Epoch 200/500\n",
      "99/99 - 0s - loss: 0.2458 - accuracy: 0.9069 - val_loss: 0.3697 - val_accuracy: 0.8729 - 355ms/epoch - 4ms/step\n",
      "Epoch 201/500\n",
      "99/99 - 0s - loss: 0.2341 - accuracy: 0.9085 - val_loss: 0.3780 - val_accuracy: 0.8757 - 366ms/epoch - 4ms/step\n",
      "Epoch 202/500\n",
      "99/99 - 0s - loss: 0.2487 - accuracy: 0.9067 - val_loss: 0.3898 - val_accuracy: 0.8688 - 364ms/epoch - 4ms/step\n",
      "Epoch 203/500\n",
      "99/99 - 0s - loss: 0.2387 - accuracy: 0.9074 - val_loss: 0.3958 - val_accuracy: 0.8652 - 363ms/epoch - 4ms/step\n",
      "Epoch 204/500\n",
      "99/99 - 0s - loss: 0.2527 - accuracy: 0.9049 - val_loss: 0.3789 - val_accuracy: 0.8708 - 366ms/epoch - 4ms/step\n",
      "Epoch 205/500\n",
      "99/99 - 0s - loss: 0.2417 - accuracy: 0.9068 - val_loss: 0.3766 - val_accuracy: 0.8741 - 366ms/epoch - 4ms/step\n",
      "Epoch 206/500\n",
      "99/99 - 0s - loss: 0.2320 - accuracy: 0.9115 - val_loss: 0.3912 - val_accuracy: 0.8761 - 362ms/epoch - 4ms/step\n",
      "Epoch 207/500\n",
      "99/99 - 0s - loss: 0.2347 - accuracy: 0.9099 - val_loss: 0.3716 - val_accuracy: 0.8773 - 364ms/epoch - 4ms/step\n",
      "Epoch 208/500\n",
      "99/99 - 0s - loss: 0.2408 - accuracy: 0.9081 - val_loss: 0.3993 - val_accuracy: 0.8733 - 365ms/epoch - 4ms/step\n",
      "Epoch 209/500\n",
      "99/99 - 0s - loss: 0.2386 - accuracy: 0.9102 - val_loss: 0.3814 - val_accuracy: 0.8790 - 358ms/epoch - 4ms/step\n",
      "Epoch 210/500\n",
      "99/99 - 0s - loss: 0.2327 - accuracy: 0.9145 - val_loss: 0.3739 - val_accuracy: 0.8806 - 361ms/epoch - 4ms/step\n",
      "Epoch 211/500\n",
      "99/99 - 0s - loss: 0.2400 - accuracy: 0.9062 - val_loss: 0.3655 - val_accuracy: 0.8765 - 369ms/epoch - 4ms/step\n",
      "Epoch 212/500\n",
      "99/99 - 0s - loss: 0.2462 - accuracy: 0.9097 - val_loss: 0.3761 - val_accuracy: 0.8765 - 365ms/epoch - 4ms/step\n",
      "Epoch 213/500\n",
      "99/99 - 0s - loss: 0.2290 - accuracy: 0.9110 - val_loss: 0.3885 - val_accuracy: 0.8757 - 373ms/epoch - 4ms/step\n",
      "Epoch 214/500\n",
      "99/99 - 0s - loss: 0.2408 - accuracy: 0.9108 - val_loss: 0.3736 - val_accuracy: 0.8765 - 382ms/epoch - 4ms/step\n",
      "Epoch 215/500\n",
      "99/99 - 0s - loss: 0.2354 - accuracy: 0.9101 - val_loss: 0.3789 - val_accuracy: 0.8749 - 372ms/epoch - 4ms/step\n",
      "Epoch 216/500\n",
      "99/99 - 0s - loss: 0.2437 - accuracy: 0.9103 - val_loss: 0.3647 - val_accuracy: 0.8798 - 374ms/epoch - 4ms/step\n",
      "Epoch 217/500\n",
      "99/99 - 0s - loss: 0.2327 - accuracy: 0.9094 - val_loss: 0.3764 - val_accuracy: 0.8806 - 367ms/epoch - 4ms/step\n",
      "Epoch 218/500\n",
      "99/99 - 0s - loss: 0.2356 - accuracy: 0.9103 - val_loss: 0.3835 - val_accuracy: 0.8729 - 366ms/epoch - 4ms/step\n",
      "Epoch 219/500\n",
      "99/99 - 0s - loss: 0.2242 - accuracy: 0.9122 - val_loss: 0.3925 - val_accuracy: 0.8737 - 368ms/epoch - 4ms/step\n",
      "Epoch 220/500\n",
      "99/99 - 0s - loss: 0.2340 - accuracy: 0.9085 - val_loss: 0.3757 - val_accuracy: 0.8777 - 365ms/epoch - 4ms/step\n",
      "Epoch 221/500\n",
      "99/99 - 0s - loss: 0.2251 - accuracy: 0.9150 - val_loss: 0.3806 - val_accuracy: 0.8753 - 364ms/epoch - 4ms/step\n",
      "Epoch 222/500\n",
      "99/99 - 0s - loss: 0.2237 - accuracy: 0.9142 - val_loss: 0.3953 - val_accuracy: 0.8781 - 385ms/epoch - 4ms/step\n",
      "Epoch 223/500\n",
      "99/99 - 0s - loss: 0.2265 - accuracy: 0.9137 - val_loss: 0.3816 - val_accuracy: 0.8773 - 386ms/epoch - 4ms/step\n",
      "Epoch 224/500\n",
      "99/99 - 0s - loss: 0.2307 - accuracy: 0.9124 - val_loss: 0.3679 - val_accuracy: 0.8802 - 376ms/epoch - 4ms/step\n",
      "Epoch 225/500\n",
      "99/99 - 0s - loss: 0.2198 - accuracy: 0.9149 - val_loss: 0.3760 - val_accuracy: 0.8794 - 361ms/epoch - 4ms/step\n",
      "Epoch 226/500\n",
      "99/99 - 0s - loss: 0.2238 - accuracy: 0.9155 - val_loss: 0.3883 - val_accuracy: 0.8725 - 360ms/epoch - 4ms/step\n",
      "Epoch 227/500\n",
      "99/99 - 0s - loss: 0.2327 - accuracy: 0.9116 - val_loss: 0.4015 - val_accuracy: 0.8688 - 361ms/epoch - 4ms/step\n",
      "Epoch 228/500\n",
      "99/99 - 0s - loss: 0.2282 - accuracy: 0.9169 - val_loss: 0.3964 - val_accuracy: 0.8729 - 363ms/epoch - 4ms/step\n",
      "Epoch 229/500\n",
      "99/99 - 0s - loss: 0.2292 - accuracy: 0.9118 - val_loss: 0.4009 - val_accuracy: 0.8700 - 360ms/epoch - 4ms/step\n",
      "Epoch 230/500\n",
      "99/99 - 0s - loss: 0.2256 - accuracy: 0.9165 - val_loss: 0.3959 - val_accuracy: 0.8753 - 364ms/epoch - 4ms/step\n",
      "Epoch 231/500\n",
      "99/99 - 0s - loss: 0.2228 - accuracy: 0.9144 - val_loss: 0.3677 - val_accuracy: 0.8757 - 359ms/epoch - 4ms/step\n",
      "Epoch 232/500\n",
      "99/99 - 0s - loss: 0.2231 - accuracy: 0.9139 - val_loss: 0.3853 - val_accuracy: 0.8737 - 367ms/epoch - 4ms/step\n",
      "Epoch 233/500\n",
      "99/99 - 0s - loss: 0.2274 - accuracy: 0.9124 - val_loss: 0.3735 - val_accuracy: 0.8781 - 374ms/epoch - 4ms/step\n",
      "Epoch 234/500\n",
      "99/99 - 0s - loss: 0.2166 - accuracy: 0.9169 - val_loss: 0.3967 - val_accuracy: 0.8757 - 375ms/epoch - 4ms/step\n",
      "Epoch 235/500\n",
      "99/99 - 0s - loss: 0.2226 - accuracy: 0.9150 - val_loss: 0.3913 - val_accuracy: 0.8781 - 364ms/epoch - 4ms/step\n",
      "Epoch 236/500\n",
      "99/99 - 0s - loss: 0.2269 - accuracy: 0.9182 - val_loss: 0.3844 - val_accuracy: 0.8761 - 364ms/epoch - 4ms/step\n",
      "Epoch 237/500\n",
      "99/99 - 0s - loss: 0.2154 - accuracy: 0.9201 - val_loss: 0.4025 - val_accuracy: 0.8725 - 366ms/epoch - 4ms/step\n",
      "Epoch 238/500\n",
      "99/99 - 0s - loss: 0.2201 - accuracy: 0.9156 - val_loss: 0.4063 - val_accuracy: 0.8708 - 365ms/epoch - 4ms/step\n",
      "Epoch 239/500\n",
      "99/99 - 0s - loss: 0.2212 - accuracy: 0.9175 - val_loss: 0.3959 - val_accuracy: 0.8721 - 370ms/epoch - 4ms/step\n",
      "Epoch 240/500\n",
      "99/99 - 0s - loss: 0.2190 - accuracy: 0.9158 - val_loss: 0.3843 - val_accuracy: 0.8745 - 362ms/epoch - 4ms/step\n",
      "Epoch 241/500\n",
      "99/99 - 0s - loss: 0.2326 - accuracy: 0.9127 - val_loss: 0.3869 - val_accuracy: 0.8761 - 355ms/epoch - 4ms/step\n",
      "Epoch 242/500\n",
      "99/99 - 0s - loss: 0.2181 - accuracy: 0.9182 - val_loss: 0.3914 - val_accuracy: 0.8721 - 352ms/epoch - 4ms/step\n",
      "Epoch 243/500\n",
      "99/99 - 0s - loss: 0.2223 - accuracy: 0.9143 - val_loss: 0.3970 - val_accuracy: 0.8708 - 350ms/epoch - 4ms/step\n",
      "Epoch 244/500\n",
      "99/99 - 0s - loss: 0.2120 - accuracy: 0.9193 - val_loss: 0.3983 - val_accuracy: 0.8741 - 359ms/epoch - 4ms/step\n",
      "Epoch 245/500\n",
      "99/99 - 0s - loss: 0.2255 - accuracy: 0.9139 - val_loss: 0.3967 - val_accuracy: 0.8741 - 359ms/epoch - 4ms/step\n",
      "Epoch 246/500\n",
      "99/99 - 0s - loss: 0.2213 - accuracy: 0.9172 - val_loss: 0.3913 - val_accuracy: 0.8741 - 363ms/epoch - 4ms/step\n",
      "Epoch 247/500\n",
      "99/99 - 0s - loss: 0.2206 - accuracy: 0.9186 - val_loss: 0.3910 - val_accuracy: 0.8733 - 359ms/epoch - 4ms/step\n",
      "Epoch 248/500\n",
      "99/99 - 0s - loss: 0.2237 - accuracy: 0.9204 - val_loss: 0.3727 - val_accuracy: 0.8798 - 356ms/epoch - 4ms/step\n",
      "Epoch 249/500\n",
      "99/99 - 0s - loss: 0.2211 - accuracy: 0.9163 - val_loss: 0.4095 - val_accuracy: 0.8761 - 356ms/epoch - 4ms/step\n",
      "Epoch 250/500\n",
      "99/99 - 0s - loss: 0.2186 - accuracy: 0.9169 - val_loss: 0.3810 - val_accuracy: 0.8745 - 355ms/epoch - 4ms/step\n",
      "Epoch 251/500\n",
      "99/99 - 0s - loss: 0.2237 - accuracy: 0.9155 - val_loss: 0.3918 - val_accuracy: 0.8786 - 354ms/epoch - 4ms/step\n",
      "Epoch 252/500\n",
      "99/99 - 0s - loss: 0.2227 - accuracy: 0.9196 - val_loss: 0.3949 - val_accuracy: 0.8712 - 354ms/epoch - 4ms/step\n",
      "Epoch 253/500\n",
      "99/99 - 0s - loss: 0.2160 - accuracy: 0.9184 - val_loss: 0.3964 - val_accuracy: 0.8721 - 360ms/epoch - 4ms/step\n",
      "Epoch 254/500\n",
      "99/99 - 0s - loss: 0.2198 - accuracy: 0.9208 - val_loss: 0.3945 - val_accuracy: 0.8765 - 356ms/epoch - 4ms/step\n",
      "Epoch 255/500\n",
      "99/99 - 0s - loss: 0.2206 - accuracy: 0.9178 - val_loss: 0.3960 - val_accuracy: 0.8737 - 354ms/epoch - 4ms/step\n",
      "Epoch 256/500\n",
      "99/99 - 0s - loss: 0.2179 - accuracy: 0.9205 - val_loss: 0.3891 - val_accuracy: 0.8790 - 355ms/epoch - 4ms/step\n",
      "Epoch 257/500\n",
      "99/99 - 0s - loss: 0.2144 - accuracy: 0.9189 - val_loss: 0.4016 - val_accuracy: 0.8761 - 358ms/epoch - 4ms/step\n",
      "Epoch 258/500\n",
      "99/99 - 0s - loss: 0.2135 - accuracy: 0.9213 - val_loss: 0.3886 - val_accuracy: 0.8757 - 363ms/epoch - 4ms/step\n",
      "Epoch 259/500\n",
      "99/99 - 0s - loss: 0.2151 - accuracy: 0.9186 - val_loss: 0.3909 - val_accuracy: 0.8818 - 357ms/epoch - 4ms/step\n",
      "Epoch 260/500\n",
      "99/99 - 0s - loss: 0.2121 - accuracy: 0.9170 - val_loss: 0.3784 - val_accuracy: 0.8814 - 357ms/epoch - 4ms/step\n",
      "Epoch 261/500\n",
      "99/99 - 0s - loss: 0.2124 - accuracy: 0.9168 - val_loss: 0.3942 - val_accuracy: 0.8802 - 358ms/epoch - 4ms/step\n",
      "Epoch 262/500\n",
      "99/99 - 0s - loss: 0.2325 - accuracy: 0.9101 - val_loss: 0.3765 - val_accuracy: 0.8802 - 356ms/epoch - 4ms/step\n",
      "Epoch 263/500\n",
      "99/99 - 0s - loss: 0.2168 - accuracy: 0.9157 - val_loss: 0.3846 - val_accuracy: 0.8786 - 359ms/epoch - 4ms/step\n",
      "Epoch 264/500\n",
      "99/99 - 0s - loss: 0.2093 - accuracy: 0.9209 - val_loss: 0.3885 - val_accuracy: 0.8753 - 357ms/epoch - 4ms/step\n",
      "Epoch 265/500\n",
      "99/99 - 0s - loss: 0.2118 - accuracy: 0.9217 - val_loss: 0.3799 - val_accuracy: 0.8777 - 352ms/epoch - 4ms/step\n",
      "Epoch 266/500\n",
      "99/99 - 0s - loss: 0.2275 - accuracy: 0.9125 - val_loss: 0.3873 - val_accuracy: 0.8781 - 358ms/epoch - 4ms/step\n",
      "Epoch 267/500\n",
      "99/99 - 0s - loss: 0.2144 - accuracy: 0.9173 - val_loss: 0.3942 - val_accuracy: 0.8781 - 359ms/epoch - 4ms/step\n",
      "Epoch 268/500\n",
      "99/99 - 0s - loss: 0.2037 - accuracy: 0.9232 - val_loss: 0.3939 - val_accuracy: 0.8818 - 370ms/epoch - 4ms/step\n",
      "Epoch 269/500\n",
      "99/99 - 0s - loss: 0.2098 - accuracy: 0.9201 - val_loss: 0.3850 - val_accuracy: 0.8798 - 366ms/epoch - 4ms/step\n",
      "Epoch 270/500\n",
      "99/99 - 0s - loss: 0.2061 - accuracy: 0.9214 - val_loss: 0.3929 - val_accuracy: 0.8777 - 364ms/epoch - 4ms/step\n",
      "Epoch 271/500\n",
      "99/99 - 0s - loss: 0.2076 - accuracy: 0.9196 - val_loss: 0.4022 - val_accuracy: 0.8761 - 375ms/epoch - 4ms/step\n",
      "Epoch 272/500\n",
      "99/99 - 0s - loss: 0.2021 - accuracy: 0.9257 - val_loss: 0.4000 - val_accuracy: 0.8765 - 369ms/epoch - 4ms/step\n",
      "Epoch 273/500\n",
      "99/99 - 0s - loss: 0.2143 - accuracy: 0.9215 - val_loss: 0.3809 - val_accuracy: 0.8846 - 365ms/epoch - 4ms/step\n",
      "Epoch 274/500\n",
      "99/99 - 0s - loss: 0.2143 - accuracy: 0.9181 - val_loss: 0.3938 - val_accuracy: 0.8765 - 361ms/epoch - 4ms/step\n",
      "Epoch 275/500\n",
      "99/99 - 0s - loss: 0.2097 - accuracy: 0.9181 - val_loss: 0.3865 - val_accuracy: 0.8769 - 364ms/epoch - 4ms/step\n",
      "Epoch 276/500\n",
      "99/99 - 0s - loss: 0.2063 - accuracy: 0.9233 - val_loss: 0.3964 - val_accuracy: 0.8781 - 366ms/epoch - 4ms/step\n",
      "Epoch 277/500\n",
      "99/99 - 0s - loss: 0.2166 - accuracy: 0.9198 - val_loss: 0.3937 - val_accuracy: 0.8765 - 360ms/epoch - 4ms/step\n",
      "Epoch 278/500\n",
      "99/99 - 0s - loss: 0.2087 - accuracy: 0.9221 - val_loss: 0.3885 - val_accuracy: 0.8794 - 371ms/epoch - 4ms/step\n",
      "Epoch 279/500\n",
      "99/99 - 0s - loss: 0.2160 - accuracy: 0.9196 - val_loss: 0.3793 - val_accuracy: 0.8781 - 364ms/epoch - 4ms/step\n",
      "Epoch 280/500\n",
      "99/99 - 0s - loss: 0.2085 - accuracy: 0.9209 - val_loss: 0.3846 - val_accuracy: 0.8855 - 368ms/epoch - 4ms/step\n",
      "Epoch 281/500\n",
      "99/99 - 0s - loss: 0.2041 - accuracy: 0.9206 - val_loss: 0.3957 - val_accuracy: 0.8814 - 371ms/epoch - 4ms/step\n",
      "Epoch 282/500\n",
      "99/99 - 0s - loss: 0.2051 - accuracy: 0.9221 - val_loss: 0.4061 - val_accuracy: 0.8806 - 372ms/epoch - 4ms/step\n",
      "Epoch 283/500\n",
      "99/99 - 0s - loss: 0.2048 - accuracy: 0.9230 - val_loss: 0.4111 - val_accuracy: 0.8798 - 366ms/epoch - 4ms/step\n",
      "Epoch 284/500\n",
      "99/99 - 0s - loss: 0.2060 - accuracy: 0.9221 - val_loss: 0.4070 - val_accuracy: 0.8786 - 368ms/epoch - 4ms/step\n",
      "Epoch 285/500\n",
      "99/99 - 0s - loss: 0.2131 - accuracy: 0.9232 - val_loss: 0.4039 - val_accuracy: 0.8790 - 365ms/epoch - 4ms/step\n",
      "Epoch 286/500\n",
      "99/99 - 0s - loss: 0.2056 - accuracy: 0.9231 - val_loss: 0.3942 - val_accuracy: 0.8806 - 367ms/epoch - 4ms/step\n",
      "Epoch 287/500\n",
      "99/99 - 0s - loss: 0.2164 - accuracy: 0.9199 - val_loss: 0.3901 - val_accuracy: 0.8798 - 365ms/epoch - 4ms/step\n",
      "Epoch 288/500\n",
      "99/99 - 0s - loss: 0.2164 - accuracy: 0.9205 - val_loss: 0.3782 - val_accuracy: 0.8765 - 361ms/epoch - 4ms/step\n",
      "Epoch 289/500\n",
      "99/99 - 0s - loss: 0.2145 - accuracy: 0.9179 - val_loss: 0.3694 - val_accuracy: 0.8822 - 366ms/epoch - 4ms/step\n",
      "Epoch 290/500\n",
      "99/99 - 0s - loss: 0.2035 - accuracy: 0.9251 - val_loss: 0.3956 - val_accuracy: 0.8757 - 361ms/epoch - 4ms/step\n",
      "Epoch 291/500\n",
      "99/99 - 0s - loss: 0.2096 - accuracy: 0.9197 - val_loss: 0.3839 - val_accuracy: 0.8781 - 359ms/epoch - 4ms/step\n",
      "Epoch 292/500\n",
      "99/99 - 0s - loss: 0.2066 - accuracy: 0.9219 - val_loss: 0.3812 - val_accuracy: 0.8753 - 355ms/epoch - 4ms/step\n",
      "Epoch 293/500\n",
      "99/99 - 0s - loss: 0.2108 - accuracy: 0.9212 - val_loss: 0.3911 - val_accuracy: 0.8802 - 357ms/epoch - 4ms/step\n",
      "Epoch 294/500\n",
      "99/99 - 0s - loss: 0.2023 - accuracy: 0.9224 - val_loss: 0.3963 - val_accuracy: 0.8765 - 362ms/epoch - 4ms/step\n",
      "Epoch 295/500\n",
      "99/99 - 0s - loss: 0.2034 - accuracy: 0.9227 - val_loss: 0.3935 - val_accuracy: 0.8765 - 364ms/epoch - 4ms/step\n",
      "Epoch 296/500\n",
      "99/99 - 0s - loss: 0.2076 - accuracy: 0.9242 - val_loss: 0.4044 - val_accuracy: 0.8753 - 374ms/epoch - 4ms/step\n",
      "Epoch 297/500\n",
      "99/99 - 0s - loss: 0.2071 - accuracy: 0.9211 - val_loss: 0.3944 - val_accuracy: 0.8786 - 364ms/epoch - 4ms/step\n",
      "Epoch 298/500\n",
      "99/99 - 0s - loss: 0.1926 - accuracy: 0.9238 - val_loss: 0.4037 - val_accuracy: 0.8769 - 366ms/epoch - 4ms/step\n",
      "Epoch 299/500\n",
      "99/99 - 0s - loss: 0.1996 - accuracy: 0.9259 - val_loss: 0.4049 - val_accuracy: 0.8794 - 361ms/epoch - 4ms/step\n",
      "Epoch 300/500\n",
      "99/99 - 0s - loss: 0.2062 - accuracy: 0.9231 - val_loss: 0.4049 - val_accuracy: 0.8777 - 359ms/epoch - 4ms/step\n",
      "Epoch 301/500\n",
      "99/99 - 0s - loss: 0.1989 - accuracy: 0.9239 - val_loss: 0.4114 - val_accuracy: 0.8712 - 363ms/epoch - 4ms/step\n",
      "Epoch 302/500\n",
      "99/99 - 0s - loss: 0.2047 - accuracy: 0.9269 - val_loss: 0.3882 - val_accuracy: 0.8806 - 366ms/epoch - 4ms/step\n",
      "Epoch 303/500\n",
      "99/99 - 0s - loss: 0.2059 - accuracy: 0.9226 - val_loss: 0.4006 - val_accuracy: 0.8753 - 360ms/epoch - 4ms/step\n",
      "Epoch 304/500\n",
      "99/99 - 0s - loss: 0.2091 - accuracy: 0.9215 - val_loss: 0.3996 - val_accuracy: 0.8802 - 367ms/epoch - 4ms/step\n",
      "Epoch 305/500\n",
      "99/99 - 0s - loss: 0.2080 - accuracy: 0.9210 - val_loss: 0.3997 - val_accuracy: 0.8794 - 365ms/epoch - 4ms/step\n",
      "Epoch 306/500\n",
      "99/99 - 0s - loss: 0.2032 - accuracy: 0.9239 - val_loss: 0.4009 - val_accuracy: 0.8757 - 362ms/epoch - 4ms/step\n",
      "Epoch 307/500\n",
      "99/99 - 0s - loss: 0.2005 - accuracy: 0.9276 - val_loss: 0.4102 - val_accuracy: 0.8777 - 360ms/epoch - 4ms/step\n",
      "Epoch 308/500\n",
      "99/99 - 0s - loss: 0.2033 - accuracy: 0.9235 - val_loss: 0.4082 - val_accuracy: 0.8790 - 360ms/epoch - 4ms/step\n",
      "Epoch 309/500\n",
      "99/99 - 0s - loss: 0.1990 - accuracy: 0.9277 - val_loss: 0.3992 - val_accuracy: 0.8769 - 370ms/epoch - 4ms/step\n",
      "Epoch 310/500\n",
      "99/99 - 0s - loss: 0.2000 - accuracy: 0.9242 - val_loss: 0.3891 - val_accuracy: 0.8846 - 359ms/epoch - 4ms/step\n",
      "Epoch 311/500\n",
      "99/99 - 0s - loss: 0.2009 - accuracy: 0.9250 - val_loss: 0.3950 - val_accuracy: 0.8818 - 357ms/epoch - 4ms/step\n",
      "Epoch 312/500\n"
     ]
    }
   ],
   "source": [
    "model.compile(optimizer=tf.keras.optimizers.Adam(learning_rate=0.001), loss='categorical_crossentropy', metrics=['accuracy'])\n",
    "\n",
    "history = model.fit(X_train, train_Y, epochs=500, batch_size=100, validation_split=0.2, verbose=2)\n"
   ]
  },
  {
   "cell_type": "code",
   "execution_count": null,
   "metadata": {},
   "outputs": [
    {
     "data": {
      "image/png": "[encoded data removed]",
      "text/plain": [
       "<Figure size 432x288 with 4 Axes>"
      ]
     },
     "metadata": {
      "needs_background": "light"
     },
     "output_type": "display_data"
    }
   ],
   "source": [
    "import matplotlib.pyplot as plt \n",
    "\n",
    "loss = history.history['loss']  # 훈련데이터 손실값\n",
    "acc = history.history['accuracy']  # 정확도\n",
    "val_loss = history.history['val_loss']\n",
    "val_acc = history.history['val_accuracy']\n",
    "\n",
    "# 손실값을 그래프로 출력 => 검증 세트의 손실값이 증가하는 경향 확인(과대적합)\n",
    "plt.subplot(221)\n",
    "plt.title(\"train loss Plot\", color='w')\n",
    "plt.plot(loss)\n",
    "\n",
    "plt.subplot(222)\n",
    "plt.title(\"train accuracy Plot\", color='w')\n",
    "plt.plot(acc)\n",
    "\n",
    "plt.subplot(223)\n",
    "plt.title(\"valid accuracy Plot\", color='w')\n",
    "plt.plot(val_acc, color='m')\n",
    "\n",
    "plt.subplot(224)\n",
    "plt.title(\"valid loss Plot\", color='w')\n",
    "plt.plot(val_loss, color='m')\n",
    "\n",
    "plt.xlabel(\"epochs\", color='w')\n",
    "\n",
    "plt.show()\n"
   ]
  },
  {
   "cell_type": "code",
   "execution_count": null,
   "metadata": {},
   "outputs": [
    {
     "name": "stdout",
     "output_type": "stream",
     "text": [
      "97/97 [==============================] - 0s 2ms/step - loss: 0.3521 - accuracy: 0.8980\n"
     ]
    },
    {
     "data": {
      "text/plain": [
       "[0.35208964347839355, 0.8979856967926025]"
      ]
     },
     "execution_count": 31,
     "metadata": {},
     "output_type": "execute_result"
    }
   ],
   "source": [
    "model.evaluate(X_test, test_Y)"
   ]
  },
  {
   "cell_type": "code",
   "execution_count": null,
   "metadata": {},
   "outputs": [],
   "source": []
  },
  {
   "cell_type": "code",
   "execution_count": null,
   "metadata": {},
   "outputs": [
    {
     "name": "stdout",
     "output_type": "stream",
     "text": [
      "385/385 [==============================] - 0s 920us/step\n",
      "97/97 [==============================] - 0s 969us/step\n"
     ]
    }
   ],
   "source": [
    "train_pred = model.predict(X_train)\n",
    "test_pred =model.predict(X_test)\n",
    "\n",
    "\n",
    "train_class = [np.argmax(y, axis=None, out=None) for y in train_pred]\n",
    "test_class = [np.argmax(y, axis=None, out=None) for y in test_pred]\n"
   ]
  },
  {
   "cell_type": "code",
   "execution_count": null,
   "metadata": {},
   "outputs": [
    {
     "name": "stderr",
     "output_type": "stream",
     "text": [
      "c:\\Users\\AI06\\anaconda3\\lib\\site-packages\\seaborn\\_decorators.py:36: FutureWarning: Pass the following variable as a keyword arg: x. From version 0.12, the only valid positional argument will be `data`, and passing other arguments without an explicit keyword will result in an error or misinterpretation.\n",
      "  warnings.warn(\n"
     ]
    },
    {
     "data": {
      "text/plain": [
       "<matplotlib.axes._subplots.AxesSubplot at 0x249f4b1c8e0>"
      ]
     },
     "execution_count": 33,
     "metadata": {},
     "output_type": "execute_result"
    },
    {
     "data": {
      "image/png": "[encoded data removed]",
      "text/plain": [
       "<Figure size 432x288 with 1 Axes>"
      ]
     },
     "metadata": {
      "needs_background": "light"
     },
     "output_type": "display_data"
    }
   ],
   "source": [
    "sns.countplot(train_class)"
   ]
  },
  {
   "cell_type": "code",
   "execution_count": null,
   "metadata": {},
   "outputs": [
    {
     "name": "stderr",
     "output_type": "stream",
     "text": [
      "c:\\Users\\AI06\\anaconda3\\lib\\site-packages\\seaborn\\_decorators.py:36: FutureWarning: Pass the following variable as a keyword arg: x. From version 0.12, the only valid positional argument will be `data`, and passing other arguments without an explicit keyword will result in an error or misinterpretation.\n",
      "  warnings.warn(\n"
     ]
    },
    {
     "data": {
      "text/plain": [
       "<matplotlib.axes._subplots.AxesSubplot at 0x249a1a246a0>"
      ]
     },
     "execution_count": 34,
     "metadata": {},
     "output_type": "execute_result"
    },
    {
     "data": {
      "image/png": "[encoded data removed]",
      "text/plain": [
       "<Figure size 432x288 with 1 Axes>"
      ]
     },
     "metadata": {
      "needs_background": "light"
     },
     "output_type": "display_data"
    }
   ],
   "source": [
    "sns.countplot(test_class)"
   ]
  },
  {
   "cell_type": "code",
   "execution_count": null,
   "metadata": {},
   "outputs": [
    {
     "name": "stdout",
     "output_type": "stream",
     "text": [
      "True     11917\n",
      "False      391\n",
      "dtype: int64\n",
      "\n",
      "True     2764\n",
      "False     314\n",
      "dtype: int64\n"
     ]
    }
   ],
   "source": [
    "print(pd.DataFrame((train_class == y_train)).value_counts())\n",
    "\n",
    "print()\n",
    "\n",
    "print(pd.DataFrame((test_class == y_test)).value_counts())\n"
   ]
  },
  {
   "cell_type": "code",
   "execution_count": null,
   "metadata": {},
   "outputs": [],
   "source": []
  }
 ],
 "metadata": {
  "kernelspec": {
   "display_name": "Python 3.8.8 64-bit ('base': conda)",
   "language": "python",
   "name": "python3"
  },
  "language_info": {
   "codemirror_mode": {
    "name": "ipython",
    "version": 3
   },
   "file_extension": ".py",
   "mimetype": "text/x-python",
   "name": "python",
   "nbconvert_exporter": "python",
   "pygments_lexer": "ipython3",
   "version": "3.8.8"
  },
  "orig_nbformat": 4,
  "vscode": {
   "interpreter": {
    "hash": "d3503761bcfca8a35b206c120347a79b8f357a240799dbb2d56df951ee782c70"
   }
  }
 },
 "nbformat": 4,
 "nbformat_minor": 2
}
