{
 "cells": [
  {
   "cell_type": "markdown",
   "metadata": {},
   "source": [
    "#### 붓꽃 품종 예측 프로그램\n",
    "- 케라스로 심층신경망을 구현하고 훈련하여테스트 하시오.\n"
   ]
  },
  {
   "cell_type": "code",
   "execution_count": 1,
   "metadata": {},
   "outputs": [],
   "source": [
    "from sklearn import datasets\n",
    "from sklearn.model_selection import train_test_split"
   ]
  },
  {
   "cell_type": "code",
   "execution_count": 2,
   "metadata": {},
   "outputs": [],
   "source": [
    "iris = datasets.load_iris()"
   ]
  },
  {
   "cell_type": "code",
   "execution_count": 3,
   "metadata": {},
   "outputs": [],
   "source": [
    "X = iris['data']\n",
    "y = iris['target']"
   ]
  },
  {
   "cell_type": "code",
   "execution_count": 4,
   "metadata": {},
   "outputs": [
    {
     "name": "stdout",
     "output_type": "stream",
     "text": [
      "(150, 4)\n",
      "(150,)\n"
     ]
    }
   ],
   "source": [
    "print(X.shape)\n",
    "print(y.shape)"
   ]
  },
  {
   "cell_type": "code",
   "execution_count": 5,
   "metadata": {},
   "outputs": [],
   "source": [
    "X_train, X_test, y_train, y_test = train_test_split(X, y, test_size=0.2, random_state=42)"
   ]
  },
  {
   "cell_type": "code",
   "execution_count": 6,
   "metadata": {},
   "outputs": [
    {
     "name": "stdout",
     "output_type": "stream",
     "text": [
      "(120, 4)\n",
      "(30, 4)\n"
     ]
    }
   ],
   "source": [
    "print(X_train.shape)\n",
    "print(X_test.shape)"
   ]
  },
  {
   "cell_type": "code",
   "execution_count": 7,
   "metadata": {},
   "outputs": [],
   "source": [
    "import tensorflow as tf "
   ]
  },
  {
   "cell_type": "code",
   "execution_count": 55,
   "metadata": {},
   "outputs": [],
   "source": [
    "model = tf.keras.Sequential()\n",
    "model.add(tf.keras.layers.Dense(512, input_shape=(None, 4), activation='relu'))\n",
    "model.add(tf.keras.layers.Dropout(0.2))\n",
    "model.add(tf.keras.layers.Dense(3, activation='softmax'))  # 0-3 클래스 예측 \n",
    "\n",
    "model.compile(optimizer='adam',\n",
    "              loss='sparse_categorical_crossentropy', metrics=['accuracy'])\n"
   ]
  },
  {
   "cell_type": "code",
   "execution_count": 57,
   "metadata": {},
   "outputs": [
    {
     "name": "stdout",
     "output_type": "stream",
     "text": [
      "Epoch 1/40\n",
      "4/4 [==============================] - 0s 3ms/step - loss: 0.3368 - accuracy: 0.8917\n",
      "Epoch 2/40\n",
      "4/4 [==============================] - 0s 2ms/step - loss: 0.2947 - accuracy: 0.9583\n",
      "Epoch 3/40\n",
      "4/4 [==============================] - 0s 2ms/step - loss: 0.2894 - accuracy: 0.9500\n",
      "Epoch 4/40\n",
      "4/4 [==============================] - 0s 2ms/step - loss: 0.2892 - accuracy: 0.9417\n",
      "Epoch 5/40\n",
      "4/4 [==============================] - 0s 2ms/step - loss: 0.2837 - accuracy: 0.9333\n",
      "Epoch 6/40\n",
      "4/4 [==============================] - 0s 2ms/step - loss: 0.2669 - accuracy: 0.9417\n",
      "Epoch 7/40\n",
      "4/4 [==============================] - 0s 2ms/step - loss: 0.2698 - accuracy: 0.9667\n",
      "Epoch 8/40\n",
      "4/4 [==============================] - 0s 2ms/step - loss: 0.2543 - accuracy: 0.9583\n",
      "Epoch 9/40\n",
      "4/4 [==============================] - 0s 2ms/step - loss: 0.2566 - accuracy: 0.9667\n",
      "Epoch 10/40\n",
      "4/4 [==============================] - 0s 2ms/step - loss: 0.2384 - accuracy: 0.9583\n",
      "Epoch 11/40\n",
      "4/4 [==============================] - 0s 2ms/step - loss: 0.2555 - accuracy: 0.9500\n",
      "Epoch 12/40\n",
      "4/4 [==============================] - 0s 2ms/step - loss: 0.2148 - accuracy: 0.9667\n",
      "Epoch 13/40\n",
      "4/4 [==============================] - 0s 2ms/step - loss: 0.2395 - accuracy: 0.9167\n",
      "Epoch 14/40\n",
      "4/4 [==============================] - 0s 2ms/step - loss: 0.2232 - accuracy: 0.9583\n",
      "Epoch 15/40\n",
      "4/4 [==============================] - 0s 2ms/step - loss: 0.2128 - accuracy: 0.9750\n",
      "Epoch 16/40\n",
      "4/4 [==============================] - 0s 2ms/step - loss: 0.2070 - accuracy: 0.9667\n",
      "Epoch 17/40\n",
      "4/4 [==============================] - 0s 2ms/step - loss: 0.2253 - accuracy: 0.9583\n",
      "Epoch 18/40\n",
      "4/4 [==============================] - 0s 3ms/step - loss: 0.2173 - accuracy: 0.9333\n",
      "Epoch 19/40\n",
      "4/4 [==============================] - 0s 2ms/step - loss: 0.2036 - accuracy: 0.9583\n",
      "Epoch 20/40\n",
      "4/4 [==============================] - 0s 2ms/step - loss: 0.2026 - accuracy: 0.9417\n",
      "Epoch 21/40\n",
      "4/4 [==============================] - 0s 2ms/step - loss: 0.1977 - accuracy: 0.9500\n",
      "Epoch 22/40\n",
      "4/4 [==============================] - 0s 2ms/step - loss: 0.2045 - accuracy: 0.9583\n",
      "Epoch 23/40\n",
      "4/4 [==============================] - 0s 3ms/step - loss: 0.1686 - accuracy: 0.9917\n",
      "Epoch 24/40\n",
      "4/4 [==============================] - 0s 2ms/step - loss: 0.1970 - accuracy: 0.9667\n",
      "Epoch 25/40\n",
      "4/4 [==============================] - 0s 2ms/step - loss: 0.1614 - accuracy: 0.9833\n",
      "Epoch 26/40\n",
      "4/4 [==============================] - 0s 2ms/step - loss: 0.1676 - accuracy: 0.9583\n",
      "Epoch 27/40\n",
      "4/4 [==============================] - 0s 2ms/step - loss: 0.1679 - accuracy: 0.9667\n",
      "Epoch 28/40\n",
      "4/4 [==============================] - 0s 3ms/step - loss: 0.1691 - accuracy: 0.9500\n",
      "Epoch 29/40\n",
      "4/4 [==============================] - 0s 2ms/step - loss: 0.1623 - accuracy: 0.9583\n",
      "Epoch 30/40\n",
      "4/4 [==============================] - 0s 2ms/step - loss: 0.1584 - accuracy: 0.9667\n",
      "Epoch 31/40\n",
      "4/4 [==============================] - 0s 2ms/step - loss: 0.1596 - accuracy: 0.9750\n",
      "Epoch 32/40\n",
      "4/4 [==============================] - 0s 2ms/step - loss: 0.1693 - accuracy: 0.9583\n",
      "Epoch 33/40\n",
      "4/4 [==============================] - 0s 3ms/step - loss: 0.1537 - accuracy: 0.9583\n",
      "Epoch 34/40\n",
      "4/4 [==============================] - 0s 2ms/step - loss: 0.1540 - accuracy: 0.9500\n",
      "Epoch 35/40\n",
      "4/4 [==============================] - 0s 2ms/step - loss: 0.1432 - accuracy: 0.9667\n",
      "Epoch 36/40\n",
      "4/4 [==============================] - 0s 2ms/step - loss: 0.1520 - accuracy: 0.9750\n",
      "Epoch 37/40\n",
      "4/4 [==============================] - 0s 2ms/step - loss: 0.1408 - accuracy: 0.9750\n",
      "Epoch 38/40\n",
      "4/4 [==============================] - 0s 2ms/step - loss: 0.1465 - accuracy: 0.9500\n",
      "Epoch 39/40\n",
      "4/4 [==============================] - 0s 2ms/step - loss: 0.1424 - accuracy: 0.9583\n",
      "Epoch 40/40\n",
      "4/4 [==============================] - 0s 2ms/step - loss: 0.1453 - accuracy: 0.9583\n"
     ]
    }
   ],
   "source": [
    "history = model.fit(X_train, y_train, epochs=40)"
   ]
  },
  {
   "cell_type": "code",
   "execution_count": 58,
   "metadata": {},
   "outputs": [
    {
     "name": "stdout",
     "output_type": "stream",
     "text": [
      "WARNING:tensorflow:Model was constructed with shape (None, None, 4) for input KerasTensor(type_spec=TensorSpec(shape=(None, None, 4), dtype=tf.float32, name='dense_7_input'), name='dense_7_input', description=\"created by layer 'dense_7_input'\"), but it was called on an input with incompatible shape (None, 4).\n",
      "1/1 [==============================] - 0s 64ms/step - loss: 0.1324 - accuracy: 1.0000\n",
      "(loss, acc) : [0.1323959082365036, 1.0]\n"
     ]
    }
   ],
   "source": [
    "print(f\"(loss, acc) : {model.evaluate(X_test, y_test)}\")"
   ]
  },
  {
   "cell_type": "code",
   "execution_count": 59,
   "metadata": {},
   "outputs": [
    {
     "name": "stdout",
     "output_type": "stream",
     "text": [
      "WARNING:tensorflow:Model was constructed with shape (None, None, 4) for input KerasTensor(type_spec=TensorSpec(shape=(None, None, 4), dtype=tf.float32, name='dense_7_input'), name='dense_7_input', description=\"created by layer 'dense_7_input'\"), but it was called on an input with incompatible shape (None, 4).\n",
      "1/1 [==============================] - 0s 25ms/step\n"
     ]
    }
   ],
   "source": [
    "predictions = model.predict(X_test)\n"
   ]
  },
  {
   "cell_type": "code",
   "execution_count": 60,
   "metadata": {},
   "outputs": [],
   "source": [
    "pred = []\n",
    "for i in range(len(predictions)):\n",
    "    pred.append(np.argmax(predictions[i]))\n",
    "    "
   ]
  },
  {
   "cell_type": "code",
   "execution_count": 61,
   "metadata": {},
   "outputs": [
    {
     "data": {
      "text/plain": [
       "array(['versicolor', 'setosa', 'virginica', 'versicolor', 'versicolor',\n",
       "       'setosa', 'versicolor', 'virginica', 'versicolor', 'versicolor',\n",
       "       'virginica', 'setosa', 'setosa', 'setosa', 'setosa', 'versicolor',\n",
       "       'virginica', 'versicolor', 'versicolor', 'virginica', 'setosa',\n",
       "       'virginica', 'setosa', 'virginica', 'virginica', 'virginica',\n",
       "       'virginica', 'virginica', 'setosa', 'setosa'], dtype='<U10')"
      ]
     },
     "execution_count": 61,
     "metadata": {},
     "output_type": "execute_result"
    }
   ],
   "source": [
    "iris.target_names[pred]\n"
   ]
  },
  {
   "cell_type": "code",
   "execution_count": 62,
   "metadata": {},
   "outputs": [
    {
     "data": {
      "text/plain": [
       "array([ True,  True,  True,  True,  True,  True,  True,  True,  True,\n",
       "        True,  True,  True,  True,  True,  True,  True,  True,  True,\n",
       "        True,  True,  True,  True,  True,  True,  True,  True,  True,\n",
       "        True,  True,  True])"
      ]
     },
     "execution_count": 62,
     "metadata": {},
     "output_type": "execute_result"
    }
   ],
   "source": [
    "iris.target_names[pred] == iris.target_names[y_test]\n"
   ]
  },
  {
   "cell_type": "code",
   "execution_count": 63,
   "metadata": {},
   "outputs": [],
   "source": [
    "import numpy as np\n",
    "from sklearn.metrics import accuracy_score, classification_report\n"
   ]
  },
  {
   "cell_type": "code",
   "execution_count": 64,
   "metadata": {},
   "outputs": [
    {
     "name": "stdout",
     "output_type": "stream",
     "text": [
      "1.0\n",
      "              precision    recall  f1-score   support\n",
      "\n",
      "           0       1.00      1.00      1.00        10\n",
      "           1       1.00      1.00      1.00         9\n",
      "           2       1.00      1.00      1.00        11\n",
      "\n",
      "    accuracy                           1.00        30\n",
      "   macro avg       1.00      1.00      1.00        30\n",
      "weighted avg       1.00      1.00      1.00        30\n",
      "\n"
     ]
    }
   ],
   "source": [
    "pred = []\n",
    "for i in range(len(X_test)):\n",
    "    pred.append(np.argmax(predictions[i]))\n",
    "    \n",
    "score = accuracy_score(pred, y_test)\n",
    "\n",
    "print(score)\n",
    "print(classification_report(pred, y_test))\n"
   ]
  },
  {
   "cell_type": "code",
   "execution_count": null,
   "metadata": {},
   "outputs": [],
   "source": []
  }
 ],
 "metadata": {
  "kernelspec": {
   "display_name": "Python 3.8.8 64-bit ('base': conda)",
   "language": "python",
   "name": "python3"
  },
  "language_info": {
   "codemirror_mode": {
    "name": "ipython",
    "version": 3
   },
   "file_extension": ".py",
   "mimetype": "text/x-python",
   "name": "python",
   "nbconvert_exporter": "python",
   "pygments_lexer": "ipython3",
   "version": "3.8.8"
  },
  "orig_nbformat": 4,
  "vscode": {
   "interpreter": {
    "hash": "d3503761bcfca8a35b206c120347a79b8f357a240799dbb2d56df951ee782c70"
   }
  }
 },
 "nbformat": 4,
 "nbformat_minor": 2
}
