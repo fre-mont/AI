{
 "cells": [
  {
   "cell_type": "markdown",
   "metadata": {},
   "source": [
    "#### 붓꽃 품종 예측 프로그램\n",
    "- 케라스로 심층신경망을 구현하고 훈련하여테스트 하시오.\n"
   ]
  },
  {
   "cell_type": "code",
   "execution_count": 1,
   "metadata": {},
   "outputs": [],
   "source": [
    "from sklearn import datasets\n",
    "from sklearn.model_selection import train_test_split\n",
    "import tensorflow as tf\n",
    "import numpy as np "
   ]
  },
  {
   "cell_type": "code",
   "execution_count": 2,
   "metadata": {},
   "outputs": [],
   "source": [
    "iris = datasets.load_iris()"
   ]
  },
  {
   "cell_type": "code",
   "execution_count": 3,
   "metadata": {},
   "outputs": [],
   "source": [
    "X = iris['data']\n",
    "y = iris['target']"
   ]
  },
  {
   "cell_type": "code",
   "execution_count": 4,
   "metadata": {},
   "outputs": [
    {
     "name": "stdout",
     "output_type": "stream",
     "text": [
      "(150, 4)\n",
      "(150,)\n"
     ]
    }
   ],
   "source": [
    "print(X.shape)\n",
    "print(y.shape)"
   ]
  },
  {
   "cell_type": "code",
   "execution_count": 5,
   "metadata": {},
   "outputs": [],
   "source": [
    "X_train, X_test, y_train, y_test = train_test_split(X, y, test_size=0.2, random_state=42)"
   ]
  },
  {
   "cell_type": "code",
   "execution_count": 6,
   "metadata": {},
   "outputs": [
    {
     "name": "stdout",
     "output_type": "stream",
     "text": [
      "(120, 4)\n",
      "(30, 4)\n"
     ]
    }
   ],
   "source": [
    "print(X_train.shape)\n",
    "print(X_test.shape)"
   ]
  },
  {
   "cell_type": "code",
   "execution_count": 7,
   "metadata": {},
   "outputs": [],
   "source": [
    "model = tf.keras.Sequential()\n",
    "model.add(tf.keras.layers.Dense(512, input_shape=(None, 4), activation='relu'))\n",
    "model.add(tf.keras.layers.Dropout(0.2))\n",
    "model.add(tf.keras.layers.Dense(3, activation='softmax'))  # 0-3 클래스 예측 \n",
    "\n",
    "model.compile(optimizer='adam', loss='sparse_categorical_crossentropy', metrics=['accuracy'])\n"
   ]
  },
  {
   "cell_type": "code",
   "execution_count": 8,
   "metadata": {},
   "outputs": [
    {
     "name": "stdout",
     "output_type": "stream",
     "text": [
      "Epoch 1/30\n",
      "WARNING:tensorflow:Model was constructed with shape (None, None, 4) for input KerasTensor(type_spec=TensorSpec(shape=(None, None, 4), dtype=tf.float32, name='dense_input'), name='dense_input', description=\"created by layer 'dense_input'\"), but it was called on an input with incompatible shape (None, 4).\n",
      "WARNING:tensorflow:Model was constructed with shape (None, None, 4) for input KerasTensor(type_spec=TensorSpec(shape=(None, None, 4), dtype=tf.float32, name='dense_input'), name='dense_input', description=\"created by layer 'dense_input'\"), but it was called on an input with incompatible shape (None, 4).\n",
      "1/4 [======>.......................] - ETA: 2s - loss: 1.1854 - accuracy: 0.2812WARNING:tensorflow:Model was constructed with shape (None, None, 4) for input KerasTensor(type_spec=TensorSpec(shape=(None, None, 4), dtype=tf.float32, name='dense_input'), name='dense_input', description=\"created by layer 'dense_input'\"), but it was called on an input with incompatible shape (None, 4).\n",
      "4/4 [==============================] - 1s 44ms/step - loss: 1.1224 - accuracy: 0.3250 - val_loss: 1.0092 - val_accuracy: 0.5000\n",
      "Epoch 2/30\n",
      "4/4 [==============================] - 0s 7ms/step - loss: 0.9881 - accuracy: 0.3833 - val_loss: 0.8954 - val_accuracy: 0.7000\n",
      "Epoch 3/30\n",
      "4/4 [==============================] - 0s 7ms/step - loss: 0.8992 - accuracy: 0.5750 - val_loss: 0.8029 - val_accuracy: 0.7000\n",
      "Epoch 4/30\n",
      "4/4 [==============================] - 0s 7ms/step - loss: 0.8181 - accuracy: 0.6917 - val_loss: 0.7463 - val_accuracy: 1.0000\n",
      "Epoch 5/30\n",
      "4/4 [==============================] - 0s 7ms/step - loss: 0.7495 - accuracy: 0.7417 - val_loss: 0.6794 - val_accuracy: 0.8333\n",
      "Epoch 6/30\n",
      "4/4 [==============================] - 0s 7ms/step - loss: 0.7118 - accuracy: 0.7000 - val_loss: 0.6258 - val_accuracy: 0.7333\n",
      "Epoch 7/30\n",
      "4/4 [==============================] - 0s 8ms/step - loss: 0.6621 - accuracy: 0.6917 - val_loss: 0.5934 - val_accuracy: 0.8667\n",
      "Epoch 8/30\n",
      "4/4 [==============================] - 0s 7ms/step - loss: 0.5792 - accuracy: 0.8417 - val_loss: 0.5659 - val_accuracy: 1.0000\n",
      "Epoch 9/30\n",
      "4/4 [==============================] - 0s 7ms/step - loss: 0.5803 - accuracy: 0.8167 - val_loss: 0.5309 - val_accuracy: 0.9000\n",
      "Epoch 10/30\n",
      "4/4 [==============================] - 0s 7ms/step - loss: 0.5404 - accuracy: 0.7917 - val_loss: 0.5004 - val_accuracy: 0.8000\n",
      "Epoch 11/30\n",
      "4/4 [==============================] - 0s 7ms/step - loss: 0.5073 - accuracy: 0.8417 - val_loss: 0.4779 - val_accuracy: 0.7667\n",
      "Epoch 12/30\n",
      "4/4 [==============================] - 0s 7ms/step - loss: 0.4882 - accuracy: 0.8083 - val_loss: 0.4601 - val_accuracy: 0.8333\n",
      "Epoch 13/30\n",
      "4/4 [==============================] - 0s 7ms/step - loss: 0.4732 - accuracy: 0.8500 - val_loss: 0.4598 - val_accuracy: 0.8667\n",
      "Epoch 14/30\n",
      "4/4 [==============================] - 0s 7ms/step - loss: 0.4379 - accuracy: 0.8833 - val_loss: 0.4301 - val_accuracy: 0.9333\n",
      "Epoch 15/30\n",
      "4/4 [==============================] - 0s 7ms/step - loss: 0.4345 - accuracy: 0.8500 - val_loss: 0.4138 - val_accuracy: 0.8667\n",
      "Epoch 16/30\n",
      "4/4 [==============================] - 0s 7ms/step - loss: 0.4632 - accuracy: 0.8083 - val_loss: 0.4065 - val_accuracy: 1.0000\n",
      "Epoch 17/30\n",
      "4/4 [==============================] - 0s 7ms/step - loss: 0.4079 - accuracy: 0.9417 - val_loss: 0.3890 - val_accuracy: 0.9000\n",
      "Epoch 18/30\n",
      "4/4 [==============================] - 0s 7ms/step - loss: 0.4124 - accuracy: 0.8583 - val_loss: 0.3779 - val_accuracy: 0.9000\n",
      "Epoch 19/30\n",
      "4/4 [==============================] - 0s 8ms/step - loss: 0.4017 - accuracy: 0.8500 - val_loss: 0.3694 - val_accuracy: 1.0000\n",
      "Epoch 20/30\n",
      "4/4 [==============================] - 0s 7ms/step - loss: 0.3988 - accuracy: 0.8917 - val_loss: 0.3638 - val_accuracy: 1.0000\n",
      "Epoch 21/30\n",
      "4/4 [==============================] - 0s 7ms/step - loss: 0.3763 - accuracy: 0.9083 - val_loss: 0.3529 - val_accuracy: 1.0000\n",
      "Epoch 22/30\n",
      "4/4 [==============================] - 0s 7ms/step - loss: 0.3627 - accuracy: 0.8917 - val_loss: 0.3388 - val_accuracy: 0.9667\n",
      "Epoch 23/30\n",
      "4/4 [==============================] - 0s 8ms/step - loss: 0.3747 - accuracy: 0.9167 - val_loss: 0.3312 - val_accuracy: 1.0000\n",
      "Epoch 24/30\n",
      "4/4 [==============================] - 0s 7ms/step - loss: 0.3471 - accuracy: 0.9333 - val_loss: 0.3218 - val_accuracy: 1.0000\n",
      "Epoch 25/30\n",
      "4/4 [==============================] - 0s 7ms/step - loss: 0.3398 - accuracy: 0.9167 - val_loss: 0.3133 - val_accuracy: 1.0000\n",
      "Epoch 26/30\n",
      "4/4 [==============================] - 0s 7ms/step - loss: 0.3182 - accuracy: 0.9417 - val_loss: 0.3039 - val_accuracy: 0.9667\n",
      "Epoch 27/30\n",
      "4/4 [==============================] - 0s 8ms/step - loss: 0.3311 - accuracy: 0.9000 - val_loss: 0.2974 - val_accuracy: 1.0000\n",
      "Epoch 28/30\n",
      "4/4 [==============================] - 0s 7ms/step - loss: 0.3113 - accuracy: 0.9333 - val_loss: 0.2920 - val_accuracy: 1.0000\n",
      "Epoch 29/30\n",
      "4/4 [==============================] - 0s 7ms/step - loss: 0.3099 - accuracy: 0.9167 - val_loss: 0.2833 - val_accuracy: 1.0000\n",
      "Epoch 30/30\n",
      "4/4 [==============================] - 0s 7ms/step - loss: 0.3050 - accuracy: 0.9333 - val_loss: 0.2745 - val_accuracy: 1.0000\n"
     ]
    }
   ],
   "source": [
    "history = model.fit(X_train, y_train, epochs=30, validation_data=(X_test, y_test))"
   ]
  },
  {
   "cell_type": "code",
   "execution_count": 9,
   "metadata": {},
   "outputs": [
    {
     "name": "stdout",
     "output_type": "stream",
     "text": [
      "1/1 [==============================] - 0s 13ms/step - loss: 0.2745 - accuracy: 1.0000\n",
      "(loss, acc) : [0.27445992827415466, 1.0]\n"
     ]
    }
   ],
   "source": [
    "print(f\"(loss, acc) : {model.evaluate(X_test, y_test)}\")"
   ]
  },
  {
   "cell_type": "code",
   "execution_count": 10,
   "metadata": {},
   "outputs": [
    {
     "name": "stdout",
     "output_type": "stream",
     "text": [
      "WARNING:tensorflow:Model was constructed with shape (None, None, 4) for input KerasTensor(type_spec=TensorSpec(shape=(None, None, 4), dtype=tf.float32, name='dense_input'), name='dense_input', description=\"created by layer 'dense_input'\"), but it was called on an input with incompatible shape (None, 4).\n",
      "1/1 [==============================] - 0s 48ms/step\n"
     ]
    }
   ],
   "source": [
    "predictions = model.predict(X_test)"
   ]
  },
  {
   "cell_type": "code",
   "execution_count": 11,
   "metadata": {},
   "outputs": [],
   "source": [
    "pred_class = [np.argmax(y, axis=None, out=None) for y in predictions]\n"
   ]
  },
  {
   "cell_type": "code",
   "execution_count": 12,
   "metadata": {},
   "outputs": [
    {
     "data": {
      "text/plain": [
       "array(['versicolor', 'setosa', 'virginica', 'versicolor', 'versicolor',\n",
       "       'setosa', 'versicolor', 'virginica', 'versicolor', 'versicolor',\n",
       "       'virginica', 'setosa', 'setosa', 'setosa', 'setosa', 'versicolor',\n",
       "       'virginica', 'versicolor', 'versicolor', 'virginica', 'setosa',\n",
       "       'virginica', 'setosa', 'virginica', 'virginica', 'virginica',\n",
       "       'virginica', 'virginica', 'setosa', 'setosa'], dtype='<U10')"
      ]
     },
     "execution_count": 12,
     "metadata": {},
     "output_type": "execute_result"
    }
   ],
   "source": [
    "iris.target_names[pred_class]"
   ]
  },
  {
   "cell_type": "code",
   "execution_count": 22,
   "metadata": {},
   "outputs": [
    {
     "name": "stdout",
     "output_type": "stream",
     "text": [
      "accuracy : 1.0\n"
     ]
    }
   ],
   "source": [
    "acc = np.sum(iris.target_names[pred_class] == iris.target_names[y_test]) / y_test.shape[0]\n",
    "print(f'accuracy : {acc}')\n"
   ]
  },
  {
   "cell_type": "code",
   "execution_count": 20,
   "metadata": {},
   "outputs": [
    {
     "name": "stdout",
     "output_type": "stream",
     "text": [
      "              precision    recall  f1-score   support\n",
      "\n",
      "           0       1.00      1.00      1.00        10\n",
      "           1       1.00      1.00      1.00         9\n",
      "           2       1.00      1.00      1.00        11\n",
      "\n",
      "    accuracy                           1.00        30\n",
      "   macro avg       1.00      1.00      1.00        30\n",
      "weighted avg       1.00      1.00      1.00        30\n",
      "\n"
     ]
    }
   ],
   "source": [
    "\n",
    "from sklearn.metrics import accuracy_score, classification_report\n",
    "\n",
    "print(classification_report(pred_class, y_test))\n"
   ]
  },
  {
   "cell_type": "code",
   "execution_count": null,
   "metadata": {},
   "outputs": [],
   "source": []
  }
 ],
 "metadata": {
  "kernelspec": {
   "display_name": "Python 3.8.8 64-bit ('base': conda)",
   "language": "python",
   "name": "python3"
  },
  "language_info": {
   "codemirror_mode": {
    "name": "ipython",
    "version": 3
   },
   "file_extension": ".py",
   "mimetype": "text/x-python",
   "name": "python",
   "nbconvert_exporter": "python",
   "pygments_lexer": "ipython3",
   "version": "3.8.8"
  },
  "orig_nbformat": 4,
  "vscode": {
   "interpreter": {
    "hash": "d3503761bcfca8a35b206c120347a79b8f357a240799dbb2d56df951ee782c70"
   }
  }
 },
 "nbformat": 4,
 "nbformat_minor": 2
}
