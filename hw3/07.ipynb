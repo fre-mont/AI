{
 "cells": [
  {
   "cell_type": "code",
   "execution_count": 1,
   "metadata": {},
   "outputs": [],
   "source": [
    "from tensorflow.keras import datasets\n",
    "import tensorflow as tf\n",
    "import matplotlib.pyplot as plt\n"
   ]
  },
  {
   "cell_type": "code",
   "execution_count": 6,
   "metadata": {},
   "outputs": [],
   "source": [
    "# 데이터 로딩\n",
    "(X_train_full, y_train_full), (X_test, y_test) = tf.keras.datasets.fashion_mnist.load_data()\n",
    "X_train, X_valid = X_train_full[:-5000], X_train_full[-5000:]\n",
    "y_train, y_valid = y_train_full[:-5000], y_train_full[-5000:]\n"
   ]
  },
  {
   "cell_type": "code",
   "execution_count": 7,
   "metadata": {},
   "outputs": [],
   "source": [
    "X_train = X_train/255.0\n",
    "X_valid = X_valid/255.0\n",
    "X_test = X_test/255.0\n"
   ]
  },
  {
   "cell_type": "code",
   "execution_count": 10,
   "metadata": {},
   "outputs": [],
   "source": [
    "from functools import partial\n",
    "\n",
    "# partial : 파라메터만 미리 정해준 또 다른 함수를 생성\n",
    "\n",
    "DefaultConv2D = partial(tf.keras.layers.Conv2D,\n",
    "                        kernel_size=3, activation='relu', padding=\"SAME\")\n",
    "\n",
    "# 이미지가 아주 크지 않아서 64개의 큰 필터 (7 x 7)와 스트라이드 1을 사용\n",
    "\n",
    "model = tf.keras.models.Sequential([\n",
    "    DefaultConv2D(filters=64, kernel_size=7, input_shape=[28, 28, 1]),\n",
    "    # 풀링 크기가 2인 최대 풀링 층을 추가하여 공간 방향 차원을 절반으로 줄인다.\n",
    "    tf.keras.layers.MaxPooling2D(pool_size=2),\n",
    "    # 동일한 구조를 두번 반복, 이미지가 클 때는 이러한 구조를 더 많이 반복이 가능함\n",
    "    DefaultConv2D(filters=128),\n",
    "    DefaultConv2D(filters=128),\n",
    "    tf.keras.layers.MaxPooling2D(pool_size=2),\n",
    "    DefaultConv2D(filters=256),\n",
    "    DefaultConv2D(filters=256),\n",
    "    tf.keras.layers.MaxPooling2D(pool_size=2),\n",
    "    # CNN이 출력층에 다다를수록 필터 개수가 늘어남 => 저수준(작은 동심원, 수평선)의 개수는 적지만 이를 연결하여 고수준 특성을 만든다.\n",
    "    # 풀링층 다음에 필터수를 두배로 늘린다(풀링층에서 줄어들었으므로)\n",
    "    # 풀링층이 공간 방향 차원을 반으로 줄이므로 이어지는 층에서 특성 맵 개수를 두배로 늘린다\n",
    "    # 밀집 네트워크는 샘플의 특성으로 1차원 배열을 기대하므로 입력을 일렬로 펼쳐야 함.\n",
    "    tf.keras.layers.Flatten(),\n",
    "    # 두 개의 은닉층과 하나의 출력층으로 구성된 완전 연결층\n",
    "    tf.keras.layers.Dense(units=128, activation='relu'),\n",
    "    # 밀집 층 사이에 과대적합을 줄이기 위해 50%의 드롭아웃 비율을 가진 드롭아웃 층 추가\n",
    "    tf.keras.layers.Dropout(0.5),\n",
    "    tf.keras.layers.Dense(units=64, activation='relu'),\n",
    "    tf.keras.layers.Dropout(0.5),\n",
    "    tf.keras.layers.Dense(units=10, activation='softmax'),\n",
    "])\n"
   ]
  },
  {
   "cell_type": "code",
   "execution_count": 12,
   "metadata": {},
   "outputs": [
    {
     "name": "stdout",
     "output_type": "stream",
     "text": [
      "Epoch 1/10\n",
      "1719/1719 [==============================] - 12s 7ms/step - loss: 0.7643 - accuracy: 0.7228 - val_loss: 0.3953 - val_accuracy: 0.8490\n",
      "Epoch 2/10\n",
      "1719/1719 [==============================] - 12s 7ms/step - loss: 0.4250 - accuracy: 0.8531 - val_loss: 0.3473 - val_accuracy: 0.8834\n",
      "Epoch 3/10\n",
      "1719/1719 [==============================] - 12s 7ms/step - loss: 0.3617 - accuracy: 0.8776 - val_loss: 0.2975 - val_accuracy: 0.8896\n",
      "Epoch 4/10\n",
      "1719/1719 [==============================] - 11s 7ms/step - loss: 0.3292 - accuracy: 0.8869 - val_loss: 0.2624 - val_accuracy: 0.9028\n",
      "Epoch 5/10\n",
      "1719/1719 [==============================] - 12s 7ms/step - loss: 0.2992 - accuracy: 0.8990 - val_loss: 0.2448 - val_accuracy: 0.9124\n",
      "Epoch 6/10\n",
      "1719/1719 [==============================] - 12s 7ms/step - loss: 0.2740 - accuracy: 0.9044 - val_loss: 0.2747 - val_accuracy: 0.9002\n",
      "Epoch 7/10\n",
      "1719/1719 [==============================] - 12s 7ms/step - loss: 0.2602 - accuracy: 0.9098 - val_loss: 0.2613 - val_accuracy: 0.9010\n",
      "Epoch 8/10\n",
      "1719/1719 [==============================] - 12s 7ms/step - loss: 0.2432 - accuracy: 0.9159 - val_loss: 0.2669 - val_accuracy: 0.9078\n",
      "Epoch 9/10\n",
      "1719/1719 [==============================] - 12s 7ms/step - loss: 0.2374 - accuracy: 0.9188 - val_loss: 0.2492 - val_accuracy: 0.9124\n",
      "Epoch 10/10\n",
      "1719/1719 [==============================] - 12s 7ms/step - loss: 0.2229 - accuracy: 0.9224 - val_loss: 0.2675 - val_accuracy: 0.9102\n"
     ]
    }
   ],
   "source": [
    "model.compile(loss=\"sparse_categorical_crossentropy\",\n",
    "              optimizer=\"adam\", metrics=[\"accuracy\"])\n",
    "history = model.fit(X_train, y_train, epochs=10, validation_data=(X_valid, y_valid))\n"
   ]
  },
  {
   "cell_type": "code",
   "execution_count": 13,
   "metadata": {},
   "outputs": [
    {
     "name": "stdout",
     "output_type": "stream",
     "text": [
      "313/313 [==============================] - 1s 3ms/step - loss: 0.2896 - accuracy: 0.9005\n"
     ]
    },
    {
     "data": {
      "text/plain": [
       "[0.2895979881286621, 0.9004999995231628]"
      ]
     },
     "execution_count": 13,
     "metadata": {},
     "output_type": "execute_result"
    }
   ],
   "source": [
    "score = model.evaluate(X_test, y_test)  # loss, accuracy\n",
    "score"
   ]
  },
  {
   "cell_type": "code",
   "execution_count": null,
   "metadata": {},
   "outputs": [],
   "source": []
  }
 ],
 "metadata": {
  "kernelspec": {
   "display_name": "Python 3.8.8 64-bit ('base': conda)",
   "language": "python",
   "name": "python3"
  },
  "language_info": {
   "codemirror_mode": {
    "name": "ipython",
    "version": 3
   },
   "file_extension": ".py",
   "mimetype": "text/x-python",
   "name": "python",
   "nbconvert_exporter": "python",
   "pygments_lexer": "ipython3",
   "version": "3.8.8"
  },
  "orig_nbformat": 4,
  "vscode": {
   "interpreter": {
    "hash": "d3503761bcfca8a35b206c120347a79b8f357a240799dbb2d56df951ee782c70"
   }
  }
 },
 "nbformat": 4,
 "nbformat_minor": 2
}
