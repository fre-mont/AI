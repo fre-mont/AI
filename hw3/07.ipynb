{
 "cells": [
  {
   "cell_type": "markdown",
   "metadata": {},
   "source": [
    "### 7. CNN 패션 아이템(fashion-MNIST)을 분류 프로그램"
   ]
  },
  {
   "cell_type": "code",
   "execution_count": 1,
   "metadata": {},
   "outputs": [],
   "source": [
    "from tensorflow.keras import datasets\n",
    "import tensorflow as tf \n",
    "import matplotlib.pyplot as plt \n",
    "\n",
    "from tensorflow.keras.layers import Flatten, Dense, Dropout\n",
    "from tensorflow.keras.optimizers import Adam\n",
    "\n",
    "# 데이터셋 로드하기 \n",
    "fashion_mnist = datasets.fashion_mnist\n",
    "(train_images, train_labels), (test_images, test_labels) = fashion_mnist.load_data()\n",
    "train_images.shape  # 60000개의 샘플 각각 28*28 크기 \n",
    "\n",
    "\n",
    "# 전처리 : 0~1 사이로 변환 \n",
    "train_images = train_images/255.0\n",
    "test_images = test_images/255.0"
   ]
  },
  {
   "cell_type": "code",
   "execution_count": 2,
   "metadata": {},
   "outputs": [
    {
     "name": "stdout",
     "output_type": "stream",
     "text": [
      "(60000, 28, 28)\n",
      "(10000, 28, 28)\n"
     ]
    }
   ],
   "source": [
    "print(train_images.shape )\n",
    "print(test_images.shape)"
   ]
  },
  {
   "cell_type": "code",
   "execution_count": 3,
   "metadata": {},
   "outputs": [],
   "source": [
    "from tensorflow.keras.layers import Conv2D, MaxPooling2D, Flatten, Dense, Dropout, BatchNormalization\n",
    "from tensorflow.keras.callbacks import EarlyStopping, ModelCheckpoint\n",
    "from tensorflow.keras.optimizers import RMSprop, Adam\n",
    "\n",
    "\n",
    "model = tf.keras.models.Sequential([\n",
    "    Conv2D(64, kernel_size=(3, 3), padding='Same',\n",
    "                 activation='relu', input_shape=(28, 28, 1)),\n",
    "    MaxPooling2D(),\n",
    "    Dropout(0.25),\n",
    "    \n",
    "    BatchNormalization(),\n",
    "    Conv2D(64, kernel_size=(3, 3), padding='Same',\n",
    "                 activation='relu'),\n",
    "    MaxPooling2D(),\n",
    "    Dropout(0.25),\n",
    "    \n",
    "    Flatten(),\n",
    "    Dense(10, activation=\"softmax\")  # output\n",
    "])\n"
   ]
  },
  {
   "cell_type": "code",
   "execution_count": 4,
   "metadata": {},
   "outputs": [
    {
     "name": "stdout",
     "output_type": "stream",
     "text": [
      "Model: \"sequential\"\n",
      "_________________________________________________________________\n",
      " Layer (type)                Output Shape              Param #   \n",
      "=================================================================\n",
      " conv2d (Conv2D)             (None, 28, 28, 64)        640       \n",
      "                                                                 \n",
      " max_pooling2d (MaxPooling2D  (None, 14, 14, 64)       0         \n",
      " )                                                               \n",
      "                                                                 \n",
      " dropout (Dropout)           (None, 14, 14, 64)        0         \n",
      "                                                                 \n",
      " batch_normalization (BatchN  (None, 14, 14, 64)       256       \n",
      " ormalization)                                                   \n",
      "                                                                 \n",
      " conv2d_1 (Conv2D)           (None, 14, 14, 64)        36928     \n",
      "                                                                 \n",
      " max_pooling2d_1 (MaxPooling  (None, 7, 7, 64)         0         \n",
      " 2D)                                                             \n",
      "                                                                 \n",
      " dropout_1 (Dropout)         (None, 7, 7, 64)          0         \n",
      "                                                                 \n",
      " flatten (Flatten)           (None, 3136)              0         \n",
      "                                                                 \n",
      " dense (Dense)               (None, 10)                31370     \n",
      "                                                                 \n",
      "=================================================================\n",
      "Total params: 69,194\n",
      "Trainable params: 69,066\n",
      "Non-trainable params: 128\n",
      "_________________________________________________________________\n"
     ]
    }
   ],
   "source": [
    "model.summary()"
   ]
  },
  {
   "cell_type": "code",
   "execution_count": 5,
   "metadata": {},
   "outputs": [
    {
     "name": "stdout",
     "output_type": "stream",
     "text": [
      "Epoch 1/20\n",
      "1875/1875 [==============================] - 75s 39ms/step - loss: 0.4225 - accuracy: 0.8492 - val_loss: 0.3127 - val_accuracy: 0.8908\n",
      "Epoch 2/20\n",
      "1875/1875 [==============================] - 79s 42ms/step - loss: 0.3076 - accuracy: 0.8889 - val_loss: 0.3196 - val_accuracy: 0.8839\n",
      "Epoch 3/20\n",
      "1875/1875 [==============================] - 75s 40ms/step - loss: 0.2820 - accuracy: 0.8977 - val_loss: 0.3108 - val_accuracy: 0.8850\n",
      "Epoch 4/20\n",
      "1875/1875 [==============================] - 68s 36ms/step - loss: 0.2663 - accuracy: 0.9044 - val_loss: 0.2648 - val_accuracy: 0.9052\n",
      "Epoch 5/20\n",
      "1875/1875 [==============================] - 71s 38ms/step - loss: 0.2526 - accuracy: 0.9078 - val_loss: 0.2905 - val_accuracy: 0.8940\n",
      "Epoch 6/20\n",
      "1875/1875 [==============================] - 73s 39ms/step - loss: 0.2450 - accuracy: 0.9111 - val_loss: 0.2747 - val_accuracy: 0.9025\n",
      "Epoch 7/20\n",
      "1875/1875 [==============================] - 74s 39ms/step - loss: 0.2358 - accuracy: 0.9137 - val_loss: 0.2598 - val_accuracy: 0.9081\n",
      "Epoch 8/20\n",
      "1875/1875 [==============================] - 73s 39ms/step - loss: 0.2304 - accuracy: 0.9165 - val_loss: 0.2668 - val_accuracy: 0.9015\n",
      "Epoch 9/20\n",
      "1875/1875 [==============================] - 74s 39ms/step - loss: 0.2232 - accuracy: 0.9176 - val_loss: 0.2592 - val_accuracy: 0.9079\n",
      "Epoch 10/20\n",
      "1875/1875 [==============================] - 76s 41ms/step - loss: 0.2172 - accuracy: 0.9200 - val_loss: 0.2459 - val_accuracy: 0.9132\n",
      "Epoch 11/20\n",
      "1875/1875 [==============================] - 69s 37ms/step - loss: 0.2103 - accuracy: 0.9235 - val_loss: 0.2423 - val_accuracy: 0.9142\n",
      "Epoch 12/20\n",
      "1875/1875 [==============================] - 75s 40ms/step - loss: 0.2057 - accuracy: 0.9251 - val_loss: 0.2519 - val_accuracy: 0.9093\n",
      "Epoch 13/20\n",
      "1875/1875 [==============================] - 71s 38ms/step - loss: 0.2023 - accuracy: 0.9251 - val_loss: 0.2313 - val_accuracy: 0.9178\n",
      "Epoch 14/20\n",
      "1875/1875 [==============================] - 73s 39ms/step - loss: 0.1985 - accuracy: 0.9258 - val_loss: 0.2402 - val_accuracy: 0.9155\n",
      "Epoch 15/20\n",
      "1875/1875 [==============================] - 70s 37ms/step - loss: 0.1948 - accuracy: 0.9283 - val_loss: 0.2407 - val_accuracy: 0.9173\n",
      "Epoch 16/20\n",
      "1875/1875 [==============================] - 73s 39ms/step - loss: 0.1889 - accuracy: 0.9295 - val_loss: 0.2348 - val_accuracy: 0.9174\n",
      "Epoch 17/20\n",
      "1875/1875 [==============================] - 75s 40ms/step - loss: 0.1885 - accuracy: 0.9296 - val_loss: 0.2402 - val_accuracy: 0.9161\n",
      "Epoch 18/20\n",
      "1875/1875 [==============================] - 78s 42ms/step - loss: 0.1845 - accuracy: 0.9319 - val_loss: 0.2380 - val_accuracy: 0.9164\n",
      "Epoch 19/20\n",
      "1875/1875 [==============================] - 75s 40ms/step - loss: 0.1806 - accuracy: 0.9338 - val_loss: 0.2403 - val_accuracy: 0.9145\n",
      "Epoch 20/20\n",
      "1875/1875 [==============================] - 74s 39ms/step - loss: 0.1790 - accuracy: 0.9339 - val_loss: 0.2284 - val_accuracy: 0.9222\n"
     ]
    }
   ],
   "source": [
    "model.compile(optimizer=\"adam\", loss=\"sparse_categorical_crossentropy\", metrics=['accuracy'])\n",
    "history = model.fit(train_images, train_labels, validation_data=(test_images, test_labels), epochs=20)"
   ]
  },
  {
   "cell_type": "code",
   "execution_count": 6,
   "metadata": {},
   "outputs": [
    {
     "data": {
      "image/png": "[encoded data removed]",
      "text/plain": [
       "<Figure size 720x288 with 2 Axes>"
      ]
     },
     "metadata": {
      "needs_background": "light"
     },
     "output_type": "display_data"
    }
   ],
   "source": [
    "# 학습 과정 시각화 \n",
    "def plot_history():    \n",
    "    plt.figure(figsize=(10, 4))\n",
    "    plt.subplot(1, 2, 1)\n",
    "    plt.plot(history.history['accuracy'], 'r', label='Training accuracy')\n",
    "    plt.plot(history.history['val_accuracy'], 'b', label = 'Validation accuracy')\n",
    "    plt.title('accuracy plot', color='white')\n",
    "    plt.legend()\n",
    "    \n",
    "    plt.subplot(1, 2, 2)\n",
    "    plt.plot(history.history['loss'], 'r', label = 'Training Loss')\n",
    "    plt.plot(history.history['val_loss'], 'b', label = 'Validation Loss')\n",
    "    plt.title('loss plot', color='white')\n",
    "    plt.legend()\n",
    "\n",
    "plot_history()\n"
   ]
  },
  {
   "cell_type": "code",
   "execution_count": null,
   "metadata": {},
   "outputs": [],
   "source": []
  }
 ],
 "metadata": {
  "kernelspec": {
   "display_name": "Python 3.9.7 ('main')",
   "language": "python",
   "name": "python3"
  },
  "language_info": {
   "codemirror_mode": {
    "name": "ipython",
    "version": 3
   },
   "file_extension": ".py",
   "mimetype": "text/x-python",
   "name": "python",
   "nbconvert_exporter": "python",
   "pygments_lexer": "ipython3",
   "version": "3.9.7"
  },
  "orig_nbformat": 4,
  "vscode": {
   "interpreter": {
    "hash": "a13c1f174da018924908b1e8571e298da298e4abbf07441cf38032ea7ece811d"
   }
  }
 },
 "nbformat": 4,
 "nbformat_minor": 2
}
