{
 "cells": [
  {
   "cell_type": "markdown",
   "metadata": {},
   "source": [
    "#### 3-2. DNN으로 fashion-MNIST 분류하는 프로그램 \n"
   ]
  },
  {
   "cell_type": "code",
   "execution_count": 1,
   "metadata": {},
   "outputs": [],
   "source": [
    "from tensorflow.keras import datasets\n",
    "import tensorflow as tf \n",
    "import matplotlib.pyplot as plt \n",
    "\n",
    "from tensorflow.keras.layers import Flatten, Dense, Dropout\n",
    "from tensorflow.keras.optimizers import Adam\n",
    "\n",
    "# 데이터셋 로드하기 \n",
    "fashion_mnist = datasets.fashion_mnist\n",
    "(train_images, train_labels), (test_images, test_labels) = fashion_mnist.load_data()\n",
    "train_images.shape  # 60000개의 샘플 각각 28*28 크기 \n",
    "\n",
    "\n",
    "# 전처리 : 0~1 사이로 변환 \n",
    "train_images = train_images/255.0\n",
    "test_images = test_images/255.0"
   ]
  },
  {
   "cell_type": "code",
   "execution_count": 2,
   "metadata": {},
   "outputs": [
    {
     "data": {
      "text/plain": [
       "array([9, 0, 0, ..., 3, 0, 5], dtype=uint8)"
      ]
     },
     "execution_count": 2,
     "metadata": {},
     "output_type": "execute_result"
    }
   ],
   "source": [
    "train_labels"
   ]
  },
  {
   "cell_type": "code",
   "execution_count": 3,
   "metadata": {},
   "outputs": [],
   "source": [
    "# DNN 모델 생성 \n",
    "model = tf.keras.Sequential([\n",
    "    Flatten(input_shape=(28, 28)),  # input \n",
    "    Dense(512, activation='relu'),\n",
    "    Dropout(0.2),\n",
    "    Dense(256, activation='relu'),\n",
    "    Dropout(0.2),\n",
    "    Dense(128, activation='relu'),\n",
    "    Dropout(0.2),\n",
    "    Dense(64, activation='relu'),\n",
    "    Dropout(0.2),\n",
    "    Dense(32, activation='relu'),\n",
    "    Dropout(0.2),\n",
    "    Dense(10, activation='softmax')  # output\n",
    "])\n"
   ]
  },
  {
   "cell_type": "code",
   "execution_count": 4,
   "metadata": {},
   "outputs": [
    {
     "name": "stdout",
     "output_type": "stream",
     "text": [
      "Model: \"sequential\"\n",
      "_________________________________________________________________\n",
      " Layer (type)                Output Shape              Param #   \n",
      "=================================================================\n",
      " flatten (Flatten)           (None, 784)               0         \n",
      "                                                                 \n",
      " dense (Dense)               (None, 512)               401920    \n",
      "                                                                 \n",
      " dropout (Dropout)           (None, 512)               0         \n",
      "                                                                 \n",
      " dense_1 (Dense)             (None, 256)               131328    \n",
      "                                                                 \n",
      " dropout_1 (Dropout)         (None, 256)               0         \n",
      "                                                                 \n",
      " dense_2 (Dense)             (None, 128)               32896     \n",
      "                                                                 \n",
      " dropout_2 (Dropout)         (None, 128)               0         \n",
      "                                                                 \n",
      " dense_3 (Dense)             (None, 64)                8256      \n",
      "                                                                 \n",
      " dropout_3 (Dropout)         (None, 64)                0         \n",
      "                                                                 \n",
      " dense_4 (Dense)             (None, 32)                2080      \n",
      "                                                                 \n",
      " dropout_4 (Dropout)         (None, 32)                0         \n",
      "                                                                 \n",
      " dense_5 (Dense)             (None, 10)                330       \n",
      "                                                                 \n",
      "=================================================================\n",
      "Total params: 576,810\n",
      "Trainable params: 576,810\n",
      "Non-trainable params: 0\n",
      "_________________________________________________________________\n"
     ]
    }
   ],
   "source": [
    "model.summary()"
   ]
  },
  {
   "cell_type": "code",
   "execution_count": 5,
   "metadata": {},
   "outputs": [
    {
     "name": "stdout",
     "output_type": "stream",
     "text": [
      "Epoch 1/20\n",
      "1875/1875 [==============================] - 9s 5ms/step - loss: 0.7061 - accuracy: 0.7438 - val_loss: 0.4818 - val_accuracy: 0.8190\n",
      "Epoch 2/20\n",
      "1875/1875 [==============================] - 8s 4ms/step - loss: 0.4943 - accuracy: 0.8298 - val_loss: 0.4316 - val_accuracy: 0.8456\n",
      "Epoch 3/20\n",
      "1875/1875 [==============================] - 11s 6ms/step - loss: 0.4436 - accuracy: 0.8474 - val_loss: 0.4126 - val_accuracy: 0.8560\n",
      "Epoch 4/20\n",
      "1875/1875 [==============================] - 11s 6ms/step - loss: 0.4138 - accuracy: 0.8565 - val_loss: 0.3771 - val_accuracy: 0.8634\n",
      "Epoch 5/20\n",
      "1875/1875 [==============================] - 13s 7ms/step - loss: 0.3974 - accuracy: 0.8622 - val_loss: 0.3744 - val_accuracy: 0.8671\n",
      "Epoch 6/20\n",
      "1875/1875 [==============================] - 14s 7ms/step - loss: 0.3809 - accuracy: 0.8676 - val_loss: 0.3690 - val_accuracy: 0.8706\n",
      "Epoch 7/20\n",
      "1875/1875 [==============================] - 13s 7ms/step - loss: 0.3722 - accuracy: 0.8704 - val_loss: 0.3571 - val_accuracy: 0.8706\n",
      "Epoch 8/20\n",
      "1875/1875 [==============================] - 14s 7ms/step - loss: 0.3633 - accuracy: 0.8732 - val_loss: 0.3541 - val_accuracy: 0.8703\n",
      "Epoch 9/20\n",
      "1875/1875 [==============================] - 13s 7ms/step - loss: 0.3492 - accuracy: 0.8785 - val_loss: 0.3500 - val_accuracy: 0.8761\n",
      "Epoch 10/20\n",
      "1875/1875 [==============================] - 14s 7ms/step - loss: 0.3470 - accuracy: 0.8787 - val_loss: 0.3533 - val_accuracy: 0.8775\n",
      "Epoch 11/20\n",
      "1875/1875 [==============================] - 14s 7ms/step - loss: 0.3370 - accuracy: 0.8813 - val_loss: 0.3582 - val_accuracy: 0.8758\n",
      "Epoch 12/20\n",
      "1875/1875 [==============================] - 14s 8ms/step - loss: 0.3297 - accuracy: 0.8836 - val_loss: 0.3437 - val_accuracy: 0.8797\n",
      "Epoch 13/20\n",
      "1875/1875 [==============================] - 15s 8ms/step - loss: 0.3236 - accuracy: 0.8859 - val_loss: 0.3490 - val_accuracy: 0.8780\n",
      "Epoch 14/20\n",
      "1875/1875 [==============================] - 15s 8ms/step - loss: 0.3222 - accuracy: 0.8877 - val_loss: 0.3369 - val_accuracy: 0.8821\n",
      "Epoch 15/20\n",
      "1875/1875 [==============================] - 14s 8ms/step - loss: 0.3147 - accuracy: 0.8888 - val_loss: 0.3583 - val_accuracy: 0.8744\n",
      "Epoch 16/20\n",
      "1875/1875 [==============================] - 14s 7ms/step - loss: 0.3138 - accuracy: 0.8881 - val_loss: 0.3476 - val_accuracy: 0.8783\n",
      "Epoch 17/20\n",
      "1875/1875 [==============================] - 11s 6ms/step - loss: 0.3155 - accuracy: 0.8903 - val_loss: 0.3361 - val_accuracy: 0.8852\n",
      "Epoch 18/20\n",
      "1875/1875 [==============================] - 11s 6ms/step - loss: 0.3045 - accuracy: 0.8925 - val_loss: 0.3432 - val_accuracy: 0.8856\n",
      "Epoch 19/20\n",
      "1875/1875 [==============================] - 9s 5ms/step - loss: 0.3032 - accuracy: 0.8940 - val_loss: 0.3339 - val_accuracy: 0.8883\n",
      "Epoch 20/20\n",
      "1875/1875 [==============================] - 9s 5ms/step - loss: 0.2999 - accuracy: 0.8950 - val_loss: 0.3630 - val_accuracy: 0.8771\n"
     ]
    }
   ],
   "source": [
    "model.compile(optimizer=\"adam\", loss=\"sparse_categorical_crossentropy\", metrics=['accuracy'])\n",
    "history = model.fit(train_images, train_labels, epochs=20, validation_data=(test_images, test_labels))"
   ]
  },
  {
   "cell_type": "code",
   "execution_count": 6,
   "metadata": {},
   "outputs": [
    {
     "name": "stdout",
     "output_type": "stream",
     "text": [
      "313/313 [==============================] - 1s 2ms/step - loss: 0.3630 - accuracy: 0.8771\n"
     ]
    },
    {
     "data": {
      "text/plain": [
       "[0.3630499541759491, 0.8770999908447266]"
      ]
     },
     "execution_count": 6,
     "metadata": {},
     "output_type": "execute_result"
    }
   ],
   "source": [
    "model.evaluate(test_images, test_labels)"
   ]
  },
  {
   "cell_type": "code",
   "execution_count": 7,
   "metadata": {},
   "outputs": [
    {
     "data": {
      "image/png": "[encoded data removed]",
      "text/plain": [
       "<Figure size 720x288 with 2 Axes>"
      ]
     },
     "metadata": {
      "needs_background": "light"
     },
     "output_type": "display_data"
    }
   ],
   "source": [
    "# 학습 과정 시각화 \n",
    "def plot_history():    \n",
    "    plt.figure(figsize=(10, 4))\n",
    "    plt.subplot(1, 2, 1)\n",
    "    plt.plot(history.history['accuracy'], 'r', label='Training accuracy')\n",
    "    plt.plot(history.history['val_accuracy'], 'b', label = 'Validation accuracy')\n",
    "    plt.title('accuracy plot', color='white')\n",
    "    plt.legend()\n",
    "    \n",
    "    plt.subplot(1, 2, 2)\n",
    "    plt.plot(history.history['loss'], 'r', label = 'Training Loss')\n",
    "    plt.plot(history.history['val_loss'], 'b', label = 'Validation Loss')\n",
    "    plt.title('loss plot', color='white')\n",
    "    plt.legend()\n",
    "\n",
    "plot_history()\n"
   ]
  },
  {
   "cell_type": "code",
   "execution_count": null,
   "metadata": {},
   "outputs": [],
   "source": []
  }
 ],
 "metadata": {
  "kernelspec": {
   "display_name": "Python 3.9.7 ('main')",
   "language": "python",
   "name": "python3"
  },
  "language_info": {
   "codemirror_mode": {
    "name": "ipython",
    "version": 3
   },
   "file_extension": ".py",
   "mimetype": "text/x-python",
   "name": "python",
   "nbconvert_exporter": "python",
   "pygments_lexer": "ipython3",
   "version": "3.9.7"
  },
  "orig_nbformat": 4,
  "vscode": {
   "interpreter": {
    "hash": "a13c1f174da018924908b1e8571e298da298e4abbf07441cf38032ea7ece811d"
   }
  }
 },
 "nbformat": 4,
 "nbformat_minor": 2
}
