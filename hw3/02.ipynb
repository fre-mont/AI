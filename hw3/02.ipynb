{
 "cells": [
  {
   "cell_type": "markdown",
   "metadata": {},
   "source": [
    "### Install Dependencies\n"
   ]
  },
  {
   "cell_type": "code",
   "execution_count": 1,
   "metadata": {},
   "outputs": [],
   "source": [
    "import numpy as np\n",
    "import pandas as pd\n",
    "import matplotlib.pyplot as plt\n",
    "\n",
    "import tensorflow as tf"
   ]
  },
  {
   "cell_type": "markdown",
   "metadata": {},
   "source": [
    "### 데이터 준비"
   ]
  },
  {
   "cell_type": "code",
   "execution_count": 2,
   "metadata": {},
   "outputs": [],
   "source": [
    "X = np.array([[1, 1, 1, 1], \n",
    "             [0, 0, 0, 0],\n",
    "             \n",
    "             [1, 0, 1, 0], \n",
    "             [0, 1, 0, 1], \n",
    "             \n",
    "             [1, 0, 0, 1], \n",
    "             [0, 1, 1, 0], \n",
    "             \n",
    "             [0, 0, 1, 1], \n",
    "             [1, 1, 0, 0]])\n",
    "\n",
    "y = np.array([0, 0, 1, 1, 2, 2, 3, 3])"
   ]
  },
  {
   "cell_type": "code",
   "execution_count": 3,
   "metadata": {},
   "outputs": [],
   "source": [
    "label = {0:'SOLID', 1:\"VERTICAL\", 2:\"DIAGIONAL\", 3:\"HORIZONTAL\"}"
   ]
  },
  {
   "cell_type": "code",
   "execution_count": 4,
   "metadata": {},
   "outputs": [],
   "source": [
    "# 원핫인코딩\n",
    "y = tf.keras.utils.to_categorical(y)"
   ]
  },
  {
   "cell_type": "code",
   "execution_count": 5,
   "metadata": {},
   "outputs": [
    {
     "name": "stdout",
     "output_type": "stream",
     "text": [
      "(8, 4)\n",
      "(8, 4)\n"
     ]
    }
   ],
   "source": [
    "print(X.shape)\n",
    "print(y.shape)"
   ]
  },
  {
   "cell_type": "markdown",
   "metadata": {},
   "source": [
    "#### 모델 \n"
   ]
  },
  {
   "cell_type": "code",
   "execution_count": 6,
   "metadata": {},
   "outputs": [],
   "source": [
    "from tensorflow.keras.layers import Dense, Dropout"
   ]
  },
  {
   "cell_type": "code",
   "execution_count": 7,
   "metadata": {},
   "outputs": [],
   "source": [
    "model = tf.keras.Sequential([\n",
    "    Dense(100, activation='relu', input_shape=(4, )),\n",
    "    Dense(80, activation='relu'),\n",
    "    Dense(50, activation='relu'),\n",
    "    Dense(30, activation='relu'),\n",
    "    Dense(X.shape[1], activation='softmax')\n",
    "])\n",
    "\n",
    "model.compile(optimizer='adam', loss='categorical_crossentropy', metrics=['accuracy'])\n"
   ]
  },
  {
   "cell_type": "code",
   "execution_count": 8,
   "metadata": {},
   "outputs": [
    {
     "name": "stdout",
     "output_type": "stream",
     "text": [
      "Epoch 1/30\n",
      "1/1 - 1s - loss: 1.3929 - accuracy: 0.1250 - 712ms/epoch - 712ms/step\n",
      "Epoch 2/30\n",
      "1/1 - 0s - loss: 1.3771 - accuracy: 0.2500 - 3ms/epoch - 3ms/step\n",
      "Epoch 3/30\n",
      "1/1 - 0s - loss: 1.3618 - accuracy: 0.3750 - 3ms/epoch - 3ms/step\n",
      "Epoch 4/30\n",
      "1/1 - 0s - loss: 1.3476 - accuracy: 0.7500 - 4ms/epoch - 4ms/step\n",
      "Epoch 5/30\n",
      "1/1 - 0s - loss: 1.3353 - accuracy: 0.8750 - 4ms/epoch - 4ms/step\n",
      "Epoch 6/30\n",
      "1/1 - 0s - loss: 1.3239 - accuracy: 0.8750 - 3ms/epoch - 3ms/step\n",
      "Epoch 7/30\n",
      "1/1 - 0s - loss: 1.3129 - accuracy: 0.8750 - 3ms/epoch - 3ms/step\n",
      "Epoch 8/30\n",
      "1/1 - 0s - loss: 1.3014 - accuracy: 0.8750 - 3ms/epoch - 3ms/step\n",
      "Epoch 9/30\n",
      "1/1 - 0s - loss: 1.2895 - accuracy: 0.8750 - 3ms/epoch - 3ms/step\n",
      "Epoch 10/30\n",
      "1/1 - 0s - loss: 1.2789 - accuracy: 0.8750 - 3ms/epoch - 3ms/step\n",
      "Epoch 11/30\n",
      "1/1 - 0s - loss: 1.2679 - accuracy: 1.0000 - 3ms/epoch - 3ms/step\n",
      "Epoch 12/30\n",
      "1/1 - 0s - loss: 1.2572 - accuracy: 1.0000 - 3ms/epoch - 3ms/step\n",
      "Epoch 13/30\n",
      "1/1 - 0s - loss: 1.2463 - accuracy: 1.0000 - 2ms/epoch - 2ms/step\n",
      "Epoch 14/30\n",
      "1/1 - 0s - loss: 1.2348 - accuracy: 1.0000 - 3ms/epoch - 3ms/step\n",
      "Epoch 15/30\n",
      "1/1 - 0s - loss: 1.2226 - accuracy: 1.0000 - 3ms/epoch - 3ms/step\n",
      "Epoch 16/30\n",
      "1/1 - 0s - loss: 1.2098 - accuracy: 1.0000 - 3ms/epoch - 3ms/step\n",
      "Epoch 17/30\n",
      "1/1 - 0s - loss: 1.1966 - accuracy: 1.0000 - 3ms/epoch - 3ms/step\n",
      "Epoch 18/30\n",
      "1/1 - 0s - loss: 1.1827 - accuracy: 1.0000 - 3ms/epoch - 3ms/step\n",
      "Epoch 19/30\n",
      "1/1 - 0s - loss: 1.1680 - accuracy: 1.0000 - 3ms/epoch - 3ms/step\n",
      "Epoch 20/30\n",
      "1/1 - 0s - loss: 1.1530 - accuracy: 1.0000 - 4ms/epoch - 4ms/step\n",
      "Epoch 21/30\n",
      "1/1 - 0s - loss: 1.1370 - accuracy: 1.0000 - 3ms/epoch - 3ms/step\n",
      "Epoch 22/30\n",
      "1/1 - 0s - loss: 1.1201 - accuracy: 1.0000 - 3ms/epoch - 3ms/step\n",
      "Epoch 23/30\n",
      "1/1 - 0s - loss: 1.1024 - accuracy: 1.0000 - 3ms/epoch - 3ms/step\n",
      "Epoch 24/30\n",
      "1/1 - 0s - loss: 1.0839 - accuracy: 1.0000 - 3ms/epoch - 3ms/step\n",
      "Epoch 25/30\n",
      "1/1 - 0s - loss: 1.0653 - accuracy: 1.0000 - 3ms/epoch - 3ms/step\n",
      "Epoch 26/30\n",
      "1/1 - 0s - loss: 1.0459 - accuracy: 1.0000 - 3ms/epoch - 3ms/step\n",
      "Epoch 27/30\n",
      "1/1 - 0s - loss: 1.0256 - accuracy: 1.0000 - 3ms/epoch - 3ms/step\n",
      "Epoch 28/30\n",
      "1/1 - 0s - loss: 1.0049 - accuracy: 1.0000 - 4ms/epoch - 4ms/step\n",
      "Epoch 29/30\n",
      "1/1 - 0s - loss: 0.9835 - accuracy: 1.0000 - 3ms/epoch - 3ms/step\n",
      "Epoch 30/30\n",
      "1/1 - 0s - loss: 0.9610 - accuracy: 1.0000 - 3ms/epoch - 3ms/step\n"
     ]
    }
   ],
   "source": [
    "history = model.fit(X, y, epochs=30, verbose=2)"
   ]
  },
  {
   "cell_type": "code",
   "execution_count": 9,
   "metadata": {},
   "outputs": [
    {
     "name": "stdout",
     "output_type": "stream",
     "text": [
      "1/1 [==============================] - 0s 95ms/step - loss: 0.9373 - accuracy: 1.0000\n"
     ]
    },
    {
     "data": {
      "text/plain": [
       "[0.9373378753662109, 1.0]"
      ]
     },
     "execution_count": 9,
     "metadata": {},
     "output_type": "execute_result"
    }
   ],
   "source": [
    "model.evaluate(X, y)"
   ]
  },
  {
   "cell_type": "code",
   "execution_count": 10,
   "metadata": {},
   "outputs": [],
   "source": [
    "def plot_history():\n",
    "    acc = history.history['accuracy']\n",
    "    loss = history.history['loss']\n",
    "\n",
    "    epochs = range(len(acc))\n",
    "\n",
    "    plt.plot(epochs, acc, label='Training accuracy')\n",
    "    plt.title('accuracy plot', color='white')\n",
    "    plt.legend()\n",
    "\n",
    "    plt.figure()\n",
    "\n",
    "    plt.plot(epochs, loss, label='Training Loss')\n",
    "    plt.title('loss plot', color='white')\n",
    "    plt.legend()\n",
    "\n",
    "    plt.show()"
   ]
  },
  {
   "cell_type": "code",
   "execution_count": 11,
   "metadata": {},
   "outputs": [
    {
     "data": {
      "image/png": "[encoded data removed]",
      "text/plain": [
       "<Figure size 432x288 with 1 Axes>"
      ]
     },
     "metadata": {
      "needs_background": "light"
     },
     "output_type": "display_data"
    },
    {
     "data": {
      "image/png": "[encoded data removed]",
      "text/plain": [
       "<Figure size 432x288 with 1 Axes>"
      ]
     },
     "metadata": {
      "needs_background": "light"
     },
     "output_type": "display_data"
    }
   ],
   "source": [
    "plot_history()"
   ]
  },
  {
   "cell_type": "code",
   "execution_count": 22,
   "metadata": {},
   "outputs": [],
   "source": [
    "def predict(data):\n",
    "    pred = np.argmax(model.predict(data, verbose=3))\n",
    "    print(f'class: {label[pred]}')"
   ]
  },
  {
   "cell_type": "code",
   "execution_count": 23,
   "metadata": {},
   "outputs": [
    {
     "name": "stdout",
     "output_type": "stream",
     "text": [
      "class: SOLID\n",
      "class: VERTICAL\n",
      "class: DIAGIONAL\n",
      "class: HORIZONTAL\n"
     ]
    }
   ],
   "source": [
    "predict([[0.1, 0.1, \n",
    "          0.1, 0.1]])\n",
    "\n",
    "predict([[0.8, 0.05, \n",
    "          0.7, 0.13]]) \n",
    "\n",
    "predict([[0.7, 0.1, \n",
    "          0.1, 0.54]])\n",
    "\n",
    "predict([[0.1, 0.1,\n",
    "          0.5, 0.8]])\n"
   ]
  },
  {
   "cell_type": "code",
   "execution_count": null,
   "metadata": {},
   "outputs": [],
   "source": []
  }
 ],
 "metadata": {
  "kernelspec": {
   "display_name": "Python 3.8.8 64-bit ('base': conda)",
   "language": "python",
   "name": "python3"
  },
  "language_info": {
   "codemirror_mode": {
    "name": "ipython",
    "version": 3
   },
   "file_extension": ".py",
   "mimetype": "text/x-python",
   "name": "python",
   "nbconvert_exporter": "python",
   "pygments_lexer": "ipython3",
   "version": "3.8.8"
  },
  "orig_nbformat": 4,
  "vscode": {
   "interpreter": {
    "hash": "d3503761bcfca8a35b206c120347a79b8f357a240799dbb2d56df951ee782c70"
   }
  }
 },
 "nbformat": 4,
 "nbformat_minor": 2
}
