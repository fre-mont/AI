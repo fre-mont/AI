{
 "cells": [
  {
   "cell_type": "markdown",
   "metadata": {},
   "source": [
    "### 2. 4개의 화소를 분류하는 심층 신경망 프로그램"
   ]
  },
  {
   "cell_type": "code",
   "execution_count": 1,
   "metadata": {},
   "outputs": [],
   "source": [
    "# install dependencies\n",
    "import numpy as np\n",
    "import pandas as pd\n",
    "import matplotlib.pyplot as plt\n",
    "import tensorflow as tf\n",
    "from tensorflow.keras.layers import Dense\n",
    "from tensorflow.keras.optimizers import Adam\n",
    "\n",
    "# 특징데이터\n",
    "X = np.array([[1, 1, 1, 1], \n",
    "              [0, 0, 0, 0], \n",
    "              [1, 0, 1, 0], \n",
    "              [0, 1, 0, 1], \n",
    "              [1, 0, 0, 1], \n",
    "              [0, 1, 1, 0], \n",
    "              [0, 0, 1, 1], \n",
    "              [1, 1, 0, 0]])\n",
    "\n",
    "# 정답데이터 => 각 클래스를 정수로 표현 \n",
    "y = np.array([0, 0, 1, 1, 2, 2, 3, 3])\n",
    "\n",
    "# 라벨맵 저장 \n",
    "label = {0: \"SOLID\", 1:\"VERTICAL\", 2:\"DIAGIONAL\", 3:\"HORIZONTAL\"}"
   ]
  },
  {
   "cell_type": "code",
   "execution_count": 2,
   "metadata": {},
   "outputs": [],
   "source": [
    "model = tf.keras.Sequential([\n",
    "    Dense(30, activation='relu', input_shape=(4, )),\n",
    "    Dense(18, activation='relu'),\n",
    "    Dense(4, activation='softmax') # 4개 클래스로 분류\n",
    "])"
   ]
  },
  {
   "cell_type": "code",
   "execution_count": 3,
   "metadata": {},
   "outputs": [
    {
     "name": "stdout",
     "output_type": "stream",
     "text": [
      "Model: \"sequential\"\n",
      "_________________________________________________________________\n",
      " Layer (type)                Output Shape              Param #   \n",
      "=================================================================\n",
      " dense (Dense)               (None, 30)                150       \n",
      "                                                                 \n",
      " dense_1 (Dense)             (None, 18)                558       \n",
      "                                                                 \n",
      " dense_2 (Dense)             (None, 4)                 76        \n",
      "                                                                 \n",
      "=================================================================\n",
      "Total params: 784\n",
      "Trainable params: 784\n",
      "Non-trainable params: 0\n",
      "_________________________________________________________________\n"
     ]
    }
   ],
   "source": [
    "model.summary()"
   ]
  },
  {
   "cell_type": "code",
   "execution_count": 3,
   "metadata": {},
   "outputs": [
    {
     "name": "stdout",
     "output_type": "stream",
     "text": [
      "1/1 [==============================] - 1s 788ms/step - loss: 0.6341 - accuracy: 1.0000\n"
     ]
    }
   ],
   "source": [
    "model.compile(optimizer=Adam(0.01), loss='sparse_categorical_crossentropy',\n",
    "              metrics=['accuracy'])\n",
    "\n",
    "# 모델 학습\n",
    "history = model.fit(X, y, epochs=20, verbose=0)\n",
    "\n",
    "# 손실값과 정확도 출력 \n",
    "loss, acc = model.evaluate(X, y)"
   ]
  },
  {
   "cell_type": "code",
   "execution_count": 5,
   "metadata": {},
   "outputs": [
    {
     "data": {
      "image/png": "[encoded data removed]",
      "text/plain": [
       "<Figure size 720x288 with 2 Axes>"
      ]
     },
     "metadata": {
      "needs_background": "light"
     },
     "output_type": "display_data"
    }
   ],
   "source": [
    "# 학습 과정 시각화 \n",
    "def plot_history():    \n",
    "    plt.figure(figsize=(10, 4))\n",
    "    plt.subplot(1, 2, 1)\n",
    "    plt.plot(history.history['accuracy'], label='Training accuracy')\n",
    "    plt.title('accuracy plot', color='white')\n",
    "    plt.legend()\n",
    "    \n",
    "    plt.subplot(1, 2, 2)\n",
    "    plt.plot(history.history['loss'], label = 'Training Loss')\n",
    "    plt.title('loss plot', color='white')\n",
    "    plt.legend()\n",
    "\n",
    "plot_history()\n"
   ]
  },
  {
   "cell_type": "code",
   "execution_count": 6,
   "metadata": {},
   "outputs": [
    {
     "name": "stdout",
     "output_type": "stream",
     "text": [
      "class : SOLID\n",
      "class : VERTICAL\n",
      "class : DIAGIONAL\n",
      "class : HORIZONTAL\n"
     ]
    }
   ],
   "source": [
    "def predict(data):\n",
    "    pred = np.argmax(model.predict(data, verbose=3))\n",
    "    print(f'class : {label[pred]}')\n",
    "\n",
    "\n",
    "predict([[0.1, 0.1, \n",
    "          0.1, 0.2]])  \n",
    "    \n",
    "\n",
    "predict([[0.98, 0.05, \n",
    "          0.7, 0.13]])\n",
    "\n",
    "\n",
    "predict([[0.7, 0.1, \n",
    "          0.01, 0.54]])\n",
    "\n",
    "\n",
    "predict([[0.1, 0.1, \n",
    "          0.5, 0.8]])"
   ]
  },
  {
   "cell_type": "code",
   "execution_count": null,
   "metadata": {},
   "outputs": [],
   "source": []
  }
 ],
 "metadata": {
  "kernelspec": {
   "display_name": "Python 3.9.7 ('base')",
   "language": "python",
   "name": "python3"
  },
  "language_info": {
   "codemirror_mode": {
    "name": "ipython",
    "version": 3
   },
   "file_extension": ".py",
   "mimetype": "text/x-python",
   "name": "python",
   "nbconvert_exporter": "python",
   "pygments_lexer": "ipython3",
   "version": "3.9.7"
  },
  "orig_nbformat": 4,
  "vscode": {
   "interpreter": {
    "hash": "b926daa9a890a21f3d368200c9f27619a2b5a452866c6ad1cd0ab80fff809b0d"
   }
  }
 },
 "nbformat": 4,
 "nbformat_minor": 2
}
