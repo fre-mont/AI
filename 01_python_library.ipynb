{
 "cells": [
  {
   "cell_type": "markdown",
   "metadata": {},
   "source": [
    "### 넘파이 \n",
    "- 리스트 : 데이터 접근이 느림\n",
    "- 넘파이 배열 : 데이터가 연속적인 공간에 존재해 접근이 쉬움(단, 추가 저장 삭제가 복잡함)\n",
    "\n",
    "### 판다스\n",
    "- 데이터 처리를 위한 라이브러리\n",
    "\n",
    "### 맷플롯립\n",
    "- 그래프 그리기 라이브러리 (데이터 시각화)"
   ]
  },
  {
   "cell_type": "markdown",
   "metadata": {},
   "source": [
    "#### Numpy = number + python \n",
    "- 다차원 배열 데이터 구조가 포함되어있어 다양한 수학적인 행렬 연산에 사용됨\n",
    "- 일반적으로 딥러닝에서 데이터가 다차원 행렬로 표현되기 때문에 중요함 "
   ]
  },
  {
   "cell_type": "code",
   "execution_count": 1,
   "metadata": {},
   "outputs": [],
   "source": [
    "import numpy as np"
   ]
  },
  {
   "cell_type": "code",
   "execution_count": 4,
   "metadata": {},
   "outputs": [
    {
     "name": "stdout",
     "output_type": "stream",
     "text": [
      "[1 2 3]\n",
      "1\n",
      "<class 'numpy.ndarray'>\n"
     ]
    }
   ],
   "source": [
    "a = np.array([1, 2, 3])  # 리스트를 매개 변수로 받아 생성자 함수에서 배열로 만들어 객체로 저장\n",
    "print(a)\n",
    "print(a[0])\n",
    "print(type(a))"
   ]
  },
  {
   "cell_type": "code",
   "execution_count": 9,
   "metadata": {},
   "outputs": [
    {
     "name": "stdout",
     "output_type": "stream",
     "text": [
      "[[1 2 3]\n",
      " [4 5 6]\n",
      " [7 8 9]]\n",
      "3\n"
     ]
    }
   ],
   "source": [
    "b = np.array([[1,2,3], [4,5,6], [7,8,9]])\n",
    "print(b)\n",
    "print(b[0][2]) # 0행 2열 \n"
   ]
  },
  {
   "cell_type": "code",
   "execution_count": 17,
   "metadata": {},
   "outputs": [
    {
     "name": "stdout",
     "output_type": "stream",
     "text": [
      "2\n",
      "(3, 3)\n",
      "9\n",
      "int32\n",
      "4\n",
      "<memory at 0x000001B364CBBAD0>\n",
      "(12, 4)\n"
     ]
    }
   ],
   "source": [
    "print(b.ndim) # 축의 개수 => axis=0(열), axis=1(행)\n",
    "print(b.shape) # 3x3 행렬 => 각 차원의 크기를 정수로 저장하는 튜플 \n",
    "print(b.size) # 총 원소의 개수\n",
    "print(b.dtype) # 원소들의 자료형\n",
    "print(b.itemsize)  # 배열을 이루는 요소(int)의 크기 => 4바이트\n",
    "print(b.data)  # 데이터 주소 \n",
    "print(b.strides)  # 한 줄에 4byte씩 3개의 원소"
   ]
  },
  {
   "cell_type": "code",
   "execution_count": 24,
   "metadata": {},
   "outputs": [
    {
     "name": "stdout",
     "output_type": "stream",
     "text": [
      "[[0. 0. 0. 0.]\n",
      " [0. 0. 0. 0.]\n",
      " [0. 0. 0. 0.]]\n",
      "[[1. 1. 1. 1.]\n",
      " [1. 1. 1. 1.]\n",
      " [1. 1. 1. 1.]]\n",
      "[[1. 0. 0.]\n",
      " [0. 1. 0.]\n",
      " [0. 0. 1.]]\n"
     ]
    }
   ],
   "source": [
    "a = np.zeros([3, 4]) # np.zeros((3,4))와 동일\n",
    "print(a)\n",
    "\n",
    "a = np.ones((3,4))\n",
    "print(a)\n",
    "\n",
    "a = np.eye(3) # 단위행렬(항등행렬)\n",
    "print(a)"
   ]
  },
  {
   "cell_type": "code",
   "execution_count": 29,
   "metadata": {},
   "outputs": [
    {
     "name": "stdout",
     "output_type": "stream",
     "text": [
      "[0 1 2 3 4]\n",
      "[1 2 3 4 5]\n",
      "[1 3 5 7 9]\n"
     ]
    }
   ],
   "source": [
    "b = np.arange(5) # 0~4까지\n",
    "print(b)\n",
    "\n",
    "b = np.arange(1, 6) # 1 2 3 4 5\n",
    "print(b)\n",
    "\n",
    "b = np.arange(1, 10, 2)  # step 추가(1-9까지 홀수만)\n",
    "print(b)"
   ]
  },
  {
   "cell_type": "code",
   "execution_count": 33,
   "metadata": {},
   "outputs": [
    {
     "name": "stdout",
     "output_type": "stream",
     "text": [
      "[ 0.          0.1010101   0.2020202   0.3030303   0.4040404   0.50505051\n",
      "  0.60606061  0.70707071  0.80808081  0.90909091  1.01010101  1.11111111\n",
      "  1.21212121  1.31313131  1.41414141  1.51515152  1.61616162  1.71717172\n",
      "  1.81818182  1.91919192  2.02020202  2.12121212  2.22222222  2.32323232\n",
      "  2.42424242  2.52525253  2.62626263  2.72727273  2.82828283  2.92929293\n",
      "  3.03030303  3.13131313  3.23232323  3.33333333  3.43434343  3.53535354\n",
      "  3.63636364  3.73737374  3.83838384  3.93939394  4.04040404  4.14141414\n",
      "  4.24242424  4.34343434  4.44444444  4.54545455  4.64646465  4.74747475\n",
      "  4.84848485  4.94949495  5.05050505  5.15151515  5.25252525  5.35353535\n",
      "  5.45454545  5.55555556  5.65656566  5.75757576  5.85858586  5.95959596\n",
      "  6.06060606  6.16161616  6.26262626  6.36363636  6.46464646  6.56565657\n",
      "  6.66666667  6.76767677  6.86868687  6.96969697  7.07070707  7.17171717\n",
      "  7.27272727  7.37373737  7.47474747  7.57575758  7.67676768  7.77777778\n",
      "  7.87878788  7.97979798  8.08080808  8.18181818  8.28282828  8.38383838\n",
      "  8.48484848  8.58585859  8.68686869  8.78787879  8.88888889  8.98989899\n",
      "  9.09090909  9.19191919  9.29292929  9.39393939  9.49494949  9.5959596\n",
      "  9.6969697   9.7979798   9.8989899  10.        ]\n"
     ]
    }
   ],
   "source": [
    "a = np.linspace(0, 10, 100)  # 0부터 10까지 100개의 데이터를 생성 => 간격이 0.1\n",
    "print(a) "
   ]
  },
  {
   "cell_type": "code",
   "execution_count": 39,
   "metadata": {},
   "outputs": [
    {
     "name": "stdout",
     "output_type": "stream",
     "text": [
      "[[1 2 5 6]\n",
      " [3 4 7 8]]\n",
      "\n",
      "[[1 2]\n",
      " [3 4]\n",
      " [5 6]\n",
      " [7 8]]\n",
      "\n",
      "[[1 2]\n",
      " [3 4]\n",
      " [5 6]\n",
      " [7 8]]\n"
     ]
    }
   ],
   "source": [
    "x = np.array([[1, 2], [3,4]])\n",
    "y = np.array([[5,6], [7,8]])\n",
    "\n",
    "a = np.concatenate((x,y), axis=1)  # 행방향으로 합치기\n",
    "b = np.concatenate((x,y), axis=0)  # 열방향으로 합치기 \n",
    "c = np.vstack((x,y)) # b와 동일\n",
    "\n",
    "print(a)\n",
    "print()\n",
    "print(b)\n",
    "print()\n",
    "print(c)"
   ]
  },
  {
   "cell_type": "code",
   "execution_count": 47,
   "metadata": {},
   "outputs": [
    {
     "name": "stdout",
     "output_type": "stream",
     "text": [
      "[[ 0  1  2  3]\n",
      " [ 4  5  6  7]\n",
      " [ 8  9 10 11]]\n",
      "[[ 0  1]\n",
      " [ 2  3]\n",
      " [ 4  5]\n",
      " [ 6  7]\n",
      " [ 8  9]\n",
      " [10 11]]\n"
     ]
    }
   ],
   "source": [
    "a = np.arange(12)  # 0부터 11까지 1차원 배열 생성\n",
    "print(a.reshape(3, 4))  # 3x4로 변경\n",
    "print(a.reshape(6, -1))  # 행에만 관심 => 컴퓨터가 스스로 계산 "
   ]
  },
  {
   "cell_type": "code",
   "execution_count": 54,
   "metadata": {},
   "outputs": [
    {
     "name": "stdout",
     "output_type": "stream",
     "text": [
      "[[ 0  1  2  3  4  5  6  7  8  9]\n",
      " [10 11 12 13 14 15 16 17 18 19]\n",
      " [20 21 22 23 24 25 26 27 28 29]]\n",
      "[[ 0  1  2]\n",
      " [10 11 12]\n",
      " [20 21 22]]\n",
      "[[ 3  4  5  6  7  8  9]\n",
      " [13 14 15 16 17 18 19]\n",
      " [23 24 25 26 27 28 29]]\n",
      "[[0 1 2 3 4 5 6 7 8 9]]\n",
      "[[10 11 12 13 14 15 16 17 18 19]\n",
      " [20 21 22 23 24 25 26 27 28 29]]\n"
     ]
    }
   ],
   "source": [
    "a = np.arange(30).reshape(-1, 10)  # 3x10 행렬\n",
    "print(a)\n",
    "\n",
    "\n",
    "arr1, arr2 = np.split(a, [3], axis=1)  # 3번째 인덱스 기준으로 열방향으로 쪼개기\n",
    "arr3, arr4 = np.split(a, [1], axis=0)\n",
    "print(arr1)\n",
    "print(arr2)\n",
    "\n",
    "print(arr3)\n",
    "print(arr4)"
   ]
  },
  {
   "cell_type": "code",
   "execution_count": 78,
   "metadata": {},
   "outputs": [
    {
     "name": "stdout",
     "output_type": "stream",
     "text": [
      "[1]\n",
      "[2 3 4 5 6]\n",
      "(1, 6)\n",
      "[[1 2 3 4 5 6]]\n",
      "[[1]\n",
      " [2]\n",
      " [3]\n",
      " [4]\n",
      " [5]\n",
      " [6]]\n",
      "(6, 1)\n"
     ]
    }
   ],
   "source": [
    "a = np.array([1,2,3,4,5,6])\n",
    "a1, a2 = np.split(a, [1], axis=0)  ## 1차원에서는 axis=0만 취급하는듯!?\n",
    "print(a1)\n",
    "print(a2)\n",
    "\n",
    "# 배열에 새로운 축을 추가 \n",
    "\n",
    "a3 = a[np.newaxis, :]  # 행\n",
    "a4 = a[:, np.newaxis]  # 열\n",
    "print(a3.shape)\n",
    "print(a3)\n",
    "\n",
    "print(a4)\n",
    "print(a4.shape)"
   ]
  },
  {
   "cell_type": "code",
   "execution_count": 83,
   "metadata": {},
   "outputs": [
    {
     "name": "stdout",
     "output_type": "stream",
     "text": [
      "[19 25]\n",
      "[18 19]\n",
      "[False False  True  True  True]\n",
      "[25 30 28]\n"
     ]
    }
   ],
   "source": [
    "a = np.array([18, 19, 25, 30, 28])\n",
    "print(a[1:3])\n",
    "print(a[:2])\n",
    "\n",
    "b = a > 20  # 각 원소에 논리 연산 적용\n",
    "print(b)\n",
    "\n",
    "print(a[a>20])  # 논리적인 인덱싱 "
   ]
  },
  {
   "cell_type": "code",
   "execution_count": 86,
   "metadata": {},
   "outputs": [
    {
     "name": "stdout",
     "output_type": "stream",
     "text": [
      "3\n",
      "[[12  2  3]\n",
      " [ 4  5  6]\n",
      " [ 7  8  9]]\n",
      "[[2 3]\n",
      " [5 6]]\n"
     ]
    }
   ],
   "source": [
    "a = np.array([[1,2,3], [4,5,6], [7,8,9]])\n",
    "print(a[0, 2])  # a[0][2]\n",
    "\n",
    "a[0, 0] = 12\n",
    "print(a)\n",
    "\n",
    "print(a[0:2, 1:3])  # 0-1행, 1-2열 "
   ]
  },
  {
   "cell_type": "code",
   "execution_count": 98,
   "metadata": {},
   "outputs": [
    {
     "name": "stdout",
     "output_type": "stream",
     "text": [
      "[[ 0  1  2  3]\n",
      " [ 4  5  6  7]\n",
      " [ 8  9 10 11]\n",
      " [12 13 14 15]]\n",
      "[0 1 2 3]\n",
      "[4 5 6 7]\n",
      "[ 2  6 10 14]\n",
      "[[0 1]\n",
      " [4 5]]\n",
      "[[2 3]\n",
      " [6 7]]\n",
      "[[ 0  2]\n",
      " [ 8 10]]\n",
      "[[ 5  7]\n",
      " [13 15]]\n"
     ]
    }
   ],
   "source": [
    "### 2차원 배열 슬라이싱 : 헷갈리니까 주의하기!\n",
    "\n",
    "a = np.arange(16).reshape(4,4)\n",
    "print(a)  # 전체 데이터 \n",
    "print(a[0])  # 0행\n",
    "print(a[1, :])  # 1행, a[1]과 동일 \n",
    "print(a[:, 2])  # 2열 전체 \n",
    "print(a[:2, :2]) # 1행 && 1열까지\n",
    "print(a[:2, 2:]) # 1행 && 2열부터\n",
    "print(a[::2, ::2])  ## 두 칸씩 건너 뛰기\n",
    "print(a[1::2, 1::2])"
   ]
  },
  {
   "cell_type": "code",
   "execution_count": 101,
   "metadata": {},
   "outputs": [
    {
     "name": "stdout",
     "output_type": "stream",
     "text": [
      "[[2 3]\n",
      " [4 5]\n",
      " [6 7]]\n",
      "[[1 2]\n",
      " [3 4]\n",
      " [5 6]]\n"
     ]
    }
   ],
   "source": [
    "a = np.array([[1,2 ], [3, 4], [5, 6]])\n",
    "b = np.array([[1,1], [1,1 ], [1,1]])\n",
    "\n",
    "result = a+b \n",
    "print(result)  # 덧셈 연산 적용(배열 크기가 같을 때만 적용)\n",
    "\n",
    "result = a*b\n",
    "print(result)  # 행렬곱싱 아닌 elemet 곱셈 "
   ]
  },
  {
   "cell_type": "code",
   "execution_count": 100,
   "metadata": {},
   "outputs": [
    {
     "name": "stdout",
     "output_type": "stream",
     "text": [
      "[1.6 3.2 4.8]\n"
     ]
    }
   ],
   "source": [
    "a = np.array([1,2,3])\n",
    "result = a*1.6\n",
    "\n",
    "print(result)  # 브로드 캐스팅 : 스칼라곱 "
   ]
  },
  {
   "cell_type": "code",
   "execution_count": 102,
   "metadata": {},
   "outputs": [
    {
     "name": "stdout",
     "output_type": "stream",
     "text": [
      "[[12 12]\n",
      " [30 30]\n",
      " [48 48]]\n"
     ]
    }
   ],
   "source": [
    "a = np.array([[1,2,3], [4,5,6], [7,8,9]])  # 3*3 행렬\n",
    "b = np.array([[2,2], [2,2], [2,2]]) # 3*2 행렬\n",
    "\n",
    "result = a@b # a.dot(b)와 동일 \n",
    "print(result)  # 3*2행렬 "
   ]
  },
  {
   "cell_type": "code",
   "execution_count": 103,
   "metadata": {},
   "outputs": [
    {
     "name": "stdout",
     "output_type": "stream",
     "text": [
      "[0.         8.41470985 9.09297427 1.41120008]\n"
     ]
    }
   ],
   "source": [
    "a = np.array([0, 1, 2, 3])\n",
    "print(10*np.sin(a))  # 배열의 전체 요소에 sin함수에 적용된다 \n"
   ]
  },
  {
   "cell_type": "code",
   "execution_count": 106,
   "metadata": {},
   "outputs": [
    {
     "name": "stdout",
     "output_type": "stream",
     "text": [
      "45\n",
      "1\n",
      "9\n",
      "5.0\n",
      "5.0\n"
     ]
    }
   ],
   "source": [
    "a = np.array([[1,2,3], [4,5,6], [7,8,9]])\n",
    "print(a.sum())  # 전체 원소의 합\n",
    "print(a.min())  # 최소값\n",
    "print(a.max())  # 최대값\n",
    "print(a.mean())  # 평균값 => a.sum() / a.size"
   ]
  },
  {
   "cell_type": "code",
   "execution_count": 112,
   "metadata": {},
   "outputs": [
    {
     "name": "stdout",
     "output_type": "stream",
     "text": [
      "[92.   80.5  78.75]\n",
      "[92.   80.5  78.75]\n"
     ]
    }
   ],
   "source": [
    "scores = np.array([[99, 93, 60],[98, 82, 93],[93, 65, 81], [78, 82, 81]])\n",
    "\n",
    "print(scores.mean(axis=0))  # 열 방향 기준으로 각각의 평균값 출력\n",
    "print(scores.sum(axis=0)/4)"
   ]
  },
  {
   "cell_type": "code",
   "execution_count": 115,
   "metadata": {},
   "outputs": [
    {
     "name": "stdout",
     "output_type": "stream",
     "text": [
      "[0.54340494 0.27836939 0.42451759 0.84477613 0.00471886]\n",
      "[[0.12156912 0.67074908 0.82585276]\n",
      " [0.13670659 0.57509333 0.89132195]\n",
      " [0.20920212 0.18532822 0.10837689]\n",
      " [0.21969749 0.97862378 0.81168315]\n",
      " [0.17194101 0.81622475 0.27407375]]\n"
     ]
    }
   ],
   "source": [
    "# 균일 분포에서 난수 생성 => np.random.rand\n",
    "\n",
    "np.random.seed(100) # 랜덤 시드값\n",
    "print(np.random.rand(5)) # 5개의 랜덤값 생성(0-1범위)\n",
    "print(np.random.rand(5, 3))\n"
   ]
  },
  {
   "cell_type": "code",
   "execution_count": 131,
   "metadata": {},
   "outputs": [
    {
     "name": "stdout",
     "output_type": "stream",
     "text": [
      "[-0.97727788  0.95008842 -0.15135721 -0.10321885  0.4105985 ]\n",
      "[1.76405235 0.40015721 0.97873798 2.2408932  1.86755799]\n",
      "[13.52810469 10.80031442 11.95747597 14.4817864  13.73511598]\n",
      "[10.28808714 12.90854701 11.52207545 10.24335003 10.88772647]\n"
     ]
    }
   ],
   "source": [
    "# 정규분포에서 난수 생성 => np.random.randn\n",
    "np.random.seed(0)\n",
    "a = np.random.randn(5)  # 표준 정규분포\n",
    "print(a)\n",
    "# z = X-mean/std <=> X = mean+std*z\n",
    "mean, sigma = 10, 2\n",
    "print(mean + sigma*a) # np.random.normal(mean, sigma, 5) "
   ]
  },
  {
   "cell_type": "code",
   "execution_count": 132,
   "metadata": {},
   "outputs": [
    {
     "name": "stdout",
     "output_type": "stream",
     "text": [
      "[11 12 13 14 15 16 17 18 19 20]\n"
     ]
    }
   ],
   "source": [
    "a = np.array([11, 11, 12, 13, 14, 15, 16, 17, 12, 13, 11, 14, 18, 19, 20])\n",
    "uniq_value = np.unique(a)\n",
    "print(uniq_value)  # 중복값 제거 (set과 비슷)"
   ]
  },
  {
   "cell_type": "code",
   "execution_count": 135,
   "metadata": {},
   "outputs": [
    {
     "name": "stdout",
     "output_type": "stream",
     "text": [
      "[[1 3 5]\n",
      " [2 4 6]]\n",
      "[1 2 3 4 5 6]\n"
     ]
    }
   ],
   "source": [
    "# 전치 행렬 계산\n",
    "\n",
    "a = np.array([[1,2], [3,4], [5,6]])\n",
    "print(a.T)\n",
    "print(a.flatten())  # 1차원으로 평탄화 (행방향으로 이어붙이기)"
   ]
  },
  {
   "cell_type": "code",
   "execution_count": 136,
   "metadata": {},
   "outputs": [],
   "source": [
    "### 참고 :csv 파일\n",
    "\n",
    "import pandas as pd\n",
    "# x = pd.read_csv(\"경로\")\n"
   ]
  },
  {
   "cell_type": "code",
   "execution_count": 144,
   "metadata": {},
   "outputs": [
    {
     "data": {
      "image/png": "[encoded data removed]",
      "text/plain": [
       "<Figure size 432x288 with 1 Axes>"
      ]
     },
     "metadata": {
      "needs_background": "light"
     },
     "output_type": "display_data"
    }
   ],
   "source": [
    "import matplotlib.pyplot as plt\n",
    "\n",
    "X = [\"Mon\", \"Tue\", \"Wed\", \"Thu\", \"Fri\", \"Sat\", \"Sun\"]\n",
    "y1 = [15.6, 14.2, 16.3, 18.2, 17.1, 20.2, 22.4]\n",
    "y2 = [20.1, 23.1, 23.8, 25.9, 23.4, 25.1, 26.3]\n",
    "\n",
    "plt.plot(X, y1, label=\"Seoul\")\n",
    "plt.plot(X, y2, label=\"Busan\")\n",
    "\n",
    "plt.legend(loc=\"upper left\")  # 좌상단 \n",
    "plt.xlabel(\"day\") # x축\n",
    "plt.ylabel(\"temperature\") # y축\n",
    "plt.title(\"Temperatures of Cities\") # 그래프 제목 \n",
    "plt.show()"
   ]
  },
  {
   "cell_type": "code",
   "execution_count": 147,
   "metadata": {},
   "outputs": [
    {
     "data": {
      "image/png": "[encoded data removed]",
      "text/plain": [
       "<Figure size 432x288 with 1 Axes>"
      ]
     },
     "metadata": {
      "needs_background": "light"
     },
     "output_type": "display_data"
    }
   ],
   "source": [
    "plt.plot(X, y1, \"sm\")  # 점 그래프(square, magenta)\n",
    "plt.show()"
   ]
  },
  {
   "cell_type": "code",
   "execution_count": 148,
   "metadata": {},
   "outputs": [
    {
     "data": {
      "image/png": "[encoded data removed]",
      "text/plain": [
       "<Figure size 432x288 with 1 Axes>"
      ]
     },
     "metadata": {
      "needs_background": "light"
     },
     "output_type": "display_data"
    }
   ],
   "source": [
    "plt.bar(X,y1)  # 막대그래프 \n",
    "plt.show()"
   ]
  },
  {
   "cell_type": "code",
   "execution_count": 149,
   "metadata": {},
   "outputs": [
    {
     "data": {
      "image/png": "[encoded data removed]",
      "text/plain": [
       "<Figure size 432x288 with 1 Axes>"
      ]
     },
     "metadata": {
      "needs_background": "light"
     },
     "output_type": "display_data"
    }
   ],
   "source": [
    "nums = np.random.normal(size=10000)  # 정규분포 난수 생성 \n",
    "plt.hist(nums)\n",
    "plt.show()"
   ]
  },
  {
   "cell_type": "code",
   "execution_count": 150,
   "metadata": {},
   "outputs": [
    {
     "data": {
      "image/png": "[encoded data removed]",
      "text/plain": [
       "<Figure size 432x288 with 1 Axes>"
      ]
     },
     "metadata": {
      "needs_background": "light"
     },
     "output_type": "display_data"
    }
   ],
   "source": [
    "X = np.arange(0, 10)  # x축 범위 \n",
    "y = X**2\n",
    "\n",
    "plt.plot(X,y)\n",
    "plt.show()"
   ]
  },
  {
   "cell_type": "code",
   "execution_count": 152,
   "metadata": {},
   "outputs": [
    {
     "data": {
      "image/png": "[encoded data removed]",
      "text/plain": [
       "<Figure size 432x288 with 1 Axes>"
      ]
     },
     "metadata": {
      "needs_background": "light"
     },
     "output_type": "display_data"
    }
   ],
   "source": [
    "X = np.arange(0, 10)\n",
    "y1 = np.ones(10)\n",
    "y2 = X\n",
    "y3 = X**2\n",
    "\n",
    "plt.plot(X, y1, X, y2, X, y3)\n",
    "plt.show()"
   ]
  },
  {
   "cell_type": "code",
   "execution_count": 153,
   "metadata": {},
   "outputs": [
    {
     "data": {
      "image/png": "[encoded data removed]",
      "text/plain": [
       "<Figure size 432x288 with 1 Axes>"
      ]
     },
     "metadata": {
      "needs_background": "light"
     },
     "output_type": "display_data"
    }
   ],
   "source": [
    "def sigmoid(x):\n",
    "    s = 1/(1+np.exp(-x))  # 시그모이드 함수식\n",
    "    ds = s*(1-s)  # 1차 도함수\n",
    "    return s, ds\n",
    "\n",
    "X = np.linspace(-10, 10, 100)\n",
    "y1, y2 = sigmoid(X)\n",
    "\n",
    "plt.plot(X, y1, X, y2)\n",
    "plt.show()"
   ]
  },
  {
   "cell_type": "code",
   "execution_count": null,
   "metadata": {},
   "outputs": [],
   "source": []
  }
 ],
 "metadata": {
  "kernelspec": {
   "display_name": "Python 3.9.7 ('main')",
   "language": "python",
   "name": "python3"
  },
  "language_info": {
   "codemirror_mode": {
    "name": "ipython",
    "version": 3
   },
   "file_extension": ".py",
   "mimetype": "text/x-python",
   "name": "python",
   "nbconvert_exporter": "python",
   "pygments_lexer": "ipython3",
   "version": "3.9.7"
  },
  "orig_nbformat": 4,
  "vscode": {
   "interpreter": {
    "hash": "a13c1f174da018924908b1e8571e298da298e4abbf07441cf38032ea7ece811d"
   }
  }
 },
 "nbformat": 4,
 "nbformat_minor": 2
}
