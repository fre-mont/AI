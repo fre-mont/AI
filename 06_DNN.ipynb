{
 "cells": [
  {
   "cell_type": "code",
   "execution_count": 1,
   "id": "45df44ff",
   "metadata": {},
   "outputs": [],
   "source": [
    "import numpy as np \n",
    "import tensorflow as tf \n",
    "import matplotlib.pyplot as plt\n",
    "\n",
    "from tensorflow.keras import datasets\n"
   ]
  },
  {
   "cell_type": "markdown",
   "id": "933911c0",
   "metadata": {},
   "source": [
    "#### 데이터 다운로드\n",
    "- 영화 리뷰를 분류하는 문제\n",
    "- 긍정적인지 부정적인지 "
   ]
  },
  {
   "cell_type": "code",
   "execution_count": 2,
   "id": "0defdae4",
   "metadata": {},
   "outputs": [],
   "source": [
    "(train_data, train_labels), (test_data, test_labels) = datasets.imdb.load_data(num_words=1000)"
   ]
  },
  {
   "cell_type": "code",
   "execution_count": 3,
   "id": "35939b82",
   "metadata": {},
   "outputs": [],
   "source": [
    "# 원핫인코딩\n",
    "\n",
    "def OneHot_sequences(sequences, dimension=1000):\n",
    "    results = np.zeros((len(sequences), dimension))\n",
    "    for i, index in enumerate(sequences):\n",
    "        results[i, index] = 1. \n",
    "    return results\n",
    "    "
   ]
  },
  {
   "cell_type": "code",
   "execution_count": 4,
   "id": "08be42ee",
   "metadata": {},
   "outputs": [],
   "source": [
    "train_data = OneHot_sequences(train_data)\n",
    "test_data = OneHot_sequences(test_data)"
   ]
  },
  {
   "cell_type": "code",
   "execution_count": 5,
   "id": "32d25212",
   "metadata": {},
   "outputs": [
    {
     "name": "stdout",
     "output_type": "stream",
     "text": [
      "(25000, 1000)\n",
      "(25000, 1000)\n"
     ]
    }
   ],
   "source": [
    "print(train_data.shape)\n",
    "print(test_data.shape)"
   ]
  },
  {
   "cell_type": "markdown",
   "id": "c06615f9",
   "metadata": {},
   "source": [
    "### 신경망 모델링"
   ]
  },
  {
   "cell_type": "code",
   "execution_count": 6,
   "id": "de491429",
   "metadata": {},
   "outputs": [],
   "source": [
    "model = tf.keras.Sequential()\n",
    "model.add(tf.keras.layers.Dense(16, activation='relu', input_shape=(1000, )))\n",
    "model.add(tf.keras.layers.Dense(16, activation='relu'))\n",
    "model.add(tf.keras.layers.Dense(1, activation='sigmoid'))\n",
    "\n",
    "model.compile(loss='binary_crossentropy', optimizer='adam', metrics=['accuracy'])"
   ]
  },
  {
   "cell_type": "code",
   "execution_count": 7,
   "id": "dc1e68be",
   "metadata": {},
   "outputs": [],
   "source": [
    "def plot_history(model):\n",
    "    history = model.fit(train_data, train_labels, epochs=20, batch_size=512,\n",
    "                        validation_data=(test_data, test_labels), verbose=2)\n",
    "\n",
    "    loss = history.history['loss']  # 훈련데이터 손실값\n",
    "    val_loss = history.history['val_loss']  # 검증데이터 손실값\n",
    "\n",
    "    acc = history.history['accuracy']  # 정확도\n",
    "    epochs = range(1, len(acc) + 1)\n",
    "\n",
    "    # 손실값을 그래프로 출력 => 검증 세트의 손실값이 증가하는 경향 확인(과대적합)\n",
    "    plt.plot(loss)\n",
    "    plt.plot(val_loss)\n",
    "    plt.legend(['train_error', 'val_error'], loc='upper left')\n",
    "    plt.title(\"Loss Plot\", color='white')\n",
    "    plt.xlabel(\"epochs\", color='white')\n",
    "    plt.ylabel(\"loss value\", color='white')\n",
    "\n",
    "    plt.show()\n"
   ]
  },
  {
   "cell_type": "code",
   "execution_count": 8,
   "id": "0d9b5c95",
   "metadata": {},
   "outputs": [
    {
     "name": "stdout",
     "output_type": "stream",
     "text": [
      "Epoch 1/20\n",
      "49/49 - 1s - loss: 0.5800 - accuracy: 0.7067 - val_loss: 0.4350 - val_accuracy: 0.8214 - 1s/epoch - 23ms/step\n",
      "Epoch 2/20\n",
      "49/49 - 0s - loss: 0.3707 - accuracy: 0.8480 - val_loss: 0.3446 - val_accuracy: 0.8550 - 210ms/epoch - 4ms/step\n",
      "Epoch 3/20\n",
      "49/49 - 0s - loss: 0.3234 - accuracy: 0.8658 - val_loss: 0.3310 - val_accuracy: 0.8608 - 215ms/epoch - 4ms/step\n",
      "Epoch 4/20\n",
      "49/49 - 0s - loss: 0.3082 - accuracy: 0.8734 - val_loss: 0.3303 - val_accuracy: 0.8597 - 211ms/epoch - 4ms/step\n",
      "Epoch 5/20\n",
      "49/49 - 0s - loss: 0.3027 - accuracy: 0.8756 - val_loss: 0.3279 - val_accuracy: 0.8613 - 218ms/epoch - 4ms/step\n",
      "Epoch 6/20\n",
      "49/49 - 0s - loss: 0.2974 - accuracy: 0.8770 - val_loss: 0.3323 - val_accuracy: 0.8590 - 217ms/epoch - 4ms/step\n",
      "Epoch 7/20\n",
      "49/49 - 0s - loss: 0.2917 - accuracy: 0.8802 - val_loss: 0.3293 - val_accuracy: 0.8599 - 217ms/epoch - 4ms/step\n",
      "Epoch 8/20\n",
      "49/49 - 0s - loss: 0.2867 - accuracy: 0.8826 - val_loss: 0.3331 - val_accuracy: 0.8589 - 217ms/epoch - 4ms/step\n",
      "Epoch 9/20\n",
      "49/49 - 0s - loss: 0.2829 - accuracy: 0.8852 - val_loss: 0.3302 - val_accuracy: 0.8608 - 218ms/epoch - 4ms/step\n",
      "Epoch 10/20\n",
      "49/49 - 0s - loss: 0.2757 - accuracy: 0.8865 - val_loss: 0.3322 - val_accuracy: 0.8597 - 219ms/epoch - 4ms/step\n",
      "Epoch 11/20\n",
      "49/49 - 0s - loss: 0.2702 - accuracy: 0.8891 - val_loss: 0.3339 - val_accuracy: 0.8574 - 219ms/epoch - 4ms/step\n",
      "Epoch 12/20\n",
      "49/49 - 0s - loss: 0.2633 - accuracy: 0.8931 - val_loss: 0.3420 - val_accuracy: 0.8544 - 220ms/epoch - 4ms/step\n",
      "Epoch 13/20\n",
      "49/49 - 0s - loss: 0.2569 - accuracy: 0.8958 - val_loss: 0.3421 - val_accuracy: 0.8565 - 216ms/epoch - 4ms/step\n",
      "Epoch 14/20\n",
      "49/49 - 0s - loss: 0.2494 - accuracy: 0.9002 - val_loss: 0.3439 - val_accuracy: 0.8548 - 215ms/epoch - 4ms/step\n",
      "Epoch 15/20\n",
      "49/49 - 0s - loss: 0.2431 - accuracy: 0.9025 - val_loss: 0.3479 - val_accuracy: 0.8531 - 228ms/epoch - 5ms/step\n",
      "Epoch 16/20\n",
      "49/49 - 0s - loss: 0.2365 - accuracy: 0.9042 - val_loss: 0.3554 - val_accuracy: 0.8513 - 226ms/epoch - 5ms/step\n",
      "Epoch 17/20\n",
      "49/49 - 0s - loss: 0.2309 - accuracy: 0.9098 - val_loss: 0.3594 - val_accuracy: 0.8501 - 223ms/epoch - 5ms/step\n",
      "Epoch 18/20\n",
      "49/49 - 0s - loss: 0.2230 - accuracy: 0.9114 - val_loss: 0.3641 - val_accuracy: 0.8500 - 221ms/epoch - 5ms/step\n",
      "Epoch 19/20\n",
      "49/49 - 0s - loss: 0.2177 - accuracy: 0.9138 - val_loss: 0.3752 - val_accuracy: 0.8474 - 221ms/epoch - 5ms/step\n",
      "Epoch 20/20\n",
      "49/49 - 0s - loss: 0.2159 - accuracy: 0.9142 - val_loss: 0.3797 - val_accuracy: 0.8434 - 220ms/epoch - 4ms/step\n"
     ]
    },
    {
     "data": {
      "image/png": "[encoded data removed]",
      "text/plain": [
       "<Figure size 432x288 with 1 Axes>"
      ]
     },
     "metadata": {
      "needs_background": "light"
     },
     "output_type": "display_data"
    }
   ],
   "source": [
    "plot_history(model)"
   ]
  },
  {
   "cell_type": "markdown",
   "id": "86fafeb3",
   "metadata": {},
   "source": [
    "### 과대적합 방지\n",
    "- 조기종료 기법\n",
    "- 가중치 규제 "
   ]
  },
  {
   "cell_type": "code",
   "execution_count": 9,
   "id": "a891b49e",
   "metadata": {},
   "outputs": [],
   "source": [
    "model_regulized = tf.keras.Sequential()\n",
    "model_regulized.add(tf.keras.layers.Dense(16, kernel_regularizer=tf.keras.regularizers.l2(0.001),\n",
    "                                activation='relu', input_shape=(1000, )))\n",
    "model_regulized.add(tf.keras.layers.Dense(16,  kernel_regularizer=tf.keras.regularizers.l2(0.001),\n",
    "                                activation='relu'))\n",
    "model_regulized.add(tf.keras.layers.Dense(1, activation='sigmoid'))  # 출력층\n",
    "\n",
    "model_regulized.compile(loss='binary_crossentropy',\n",
    "              optimizer='adam', metrics=['accuracy'])\n"
   ]
  },
  {
   "cell_type": "code",
   "execution_count": 10,
   "id": "8dc9b31b",
   "metadata": {},
   "outputs": [
    {
     "name": "stdout",
     "output_type": "stream",
     "text": [
      "Epoch 1/20\n",
      "49/49 - 1s - loss: 0.6286 - accuracy: 0.7010 - val_loss: 0.4831 - val_accuracy: 0.8174 - 587ms/epoch - 12ms/step\n",
      "Epoch 2/20\n",
      "49/49 - 0s - loss: 0.4167 - accuracy: 0.8468 - val_loss: 0.3924 - val_accuracy: 0.8534 - 227ms/epoch - 5ms/step\n",
      "Epoch 3/20\n",
      "49/49 - 0s - loss: 0.3659 - accuracy: 0.8666 - val_loss: 0.3715 - val_accuracy: 0.8596 - 229ms/epoch - 5ms/step\n",
      "Epoch 4/20\n",
      "49/49 - 0s - loss: 0.3496 - accuracy: 0.8704 - val_loss: 0.3652 - val_accuracy: 0.8607 - 233ms/epoch - 5ms/step\n",
      "Epoch 5/20\n",
      "49/49 - 0s - loss: 0.3410 - accuracy: 0.8738 - val_loss: 0.3640 - val_accuracy: 0.8607 - 231ms/epoch - 5ms/step\n",
      "Epoch 6/20\n",
      "49/49 - 0s - loss: 0.3377 - accuracy: 0.8745 - val_loss: 0.3614 - val_accuracy: 0.8605 - 232ms/epoch - 5ms/step\n",
      "Epoch 7/20\n",
      "49/49 - 0s - loss: 0.3330 - accuracy: 0.8774 - val_loss: 0.3597 - val_accuracy: 0.8598 - 230ms/epoch - 5ms/step\n",
      "Epoch 8/20\n",
      "49/49 - 0s - loss: 0.3308 - accuracy: 0.8762 - val_loss: 0.3599 - val_accuracy: 0.8590 - 235ms/epoch - 5ms/step\n",
      "Epoch 9/20\n",
      "49/49 - 0s - loss: 0.3301 - accuracy: 0.8762 - val_loss: 0.3582 - val_accuracy: 0.8597 - 230ms/epoch - 5ms/step\n",
      "Epoch 10/20\n",
      "49/49 - 0s - loss: 0.3251 - accuracy: 0.8780 - val_loss: 0.3580 - val_accuracy: 0.8588 - 230ms/epoch - 5ms/step\n",
      "Epoch 11/20\n",
      "49/49 - 0s - loss: 0.3214 - accuracy: 0.8808 - val_loss: 0.3573 - val_accuracy: 0.8595 - 232ms/epoch - 5ms/step\n",
      "Epoch 12/20\n",
      "49/49 - 0s - loss: 0.3191 - accuracy: 0.8814 - val_loss: 0.3613 - val_accuracy: 0.8595 - 230ms/epoch - 5ms/step\n",
      "Epoch 13/20\n",
      "49/49 - 0s - loss: 0.3142 - accuracy: 0.8837 - val_loss: 0.3600 - val_accuracy: 0.8589 - 229ms/epoch - 5ms/step\n",
      "Epoch 14/20\n",
      "49/49 - 0s - loss: 0.3109 - accuracy: 0.8845 - val_loss: 0.3631 - val_accuracy: 0.8560 - 229ms/epoch - 5ms/step\n",
      "Epoch 15/20\n",
      "49/49 - 0s - loss: 0.3073 - accuracy: 0.8864 - val_loss: 0.3627 - val_accuracy: 0.8574 - 232ms/epoch - 5ms/step\n",
      "Epoch 16/20\n",
      "49/49 - 0s - loss: 0.3013 - accuracy: 0.8892 - val_loss: 0.3627 - val_accuracy: 0.8568 - 229ms/epoch - 5ms/step\n",
      "Epoch 17/20\n",
      "49/49 - 0s - loss: 0.2981 - accuracy: 0.8908 - val_loss: 0.3650 - val_accuracy: 0.8574 - 227ms/epoch - 5ms/step\n",
      "Epoch 18/20\n",
      "49/49 - 0s - loss: 0.2943 - accuracy: 0.8924 - val_loss: 0.3696 - val_accuracy: 0.8547 - 229ms/epoch - 5ms/step\n",
      "Epoch 19/20\n",
      "49/49 - 0s - loss: 0.2907 - accuracy: 0.8941 - val_loss: 0.3819 - val_accuracy: 0.8536 - 227ms/epoch - 5ms/step\n",
      "Epoch 20/20\n",
      "49/49 - 0s - loss: 0.2904 - accuracy: 0.8949 - val_loss: 0.3768 - val_accuracy: 0.8538 - 229ms/epoch - 5ms/step\n"
     ]
    },
    {
     "data": {
      "image/png": "[encoded data removed]",
      "text/plain": [
       "<Figure size 432x288 with 1 Axes>"
      ]
     },
     "metadata": {
      "needs_background": "light"
     },
     "output_type": "display_data"
    }
   ],
   "source": [
    "plot_history(model_regulized)  # 위의 모델보다는 규제를 적용했을 때 과잉적합이 덜 됨 "
   ]
  },
  {
   "cell_type": "markdown",
   "id": "26c278bb",
   "metadata": {},
   "source": [
    "### 드롭아웃\n",
    "- 학습과정에서 노드 일부분을 랜덤하게 제거 "
   ]
  },
  {
   "cell_type": "code",
   "execution_count": 15,
   "id": "2614648c",
   "metadata": {},
   "outputs": [],
   "source": [
    "model_dropout = tf.keras.Sequential()\n",
    "model_dropout.add(tf.keras.layers.Dense(16, activation='relu', input_shape=(1000, )))\n",
    "model_dropout.add(tf.keras.layers.Dropout(0.5))  # 드롭아웃 비율\n",
    "model_dropout.add(tf.keras.layers.Dense(16, activation='relu'))\n",
    "model_dropout.add(tf.keras.layers.Dropout(0.5))\n",
    "model_dropout.add(tf.keras.layers.Dense(1, activation='sigmoid'))\n",
    "\n",
    "model_dropout.compile(loss='binary_crossentropy', optimizer='adam', metrics=['accuracy'])"
   ]
  },
  {
   "cell_type": "code",
   "execution_count": 16,
   "id": "f47f0581",
   "metadata": {},
   "outputs": [
    {
     "name": "stdout",
     "output_type": "stream",
     "text": [
      "Epoch 1/20\n",
      "49/49 - 1s - loss: 0.6758 - accuracy: 0.5698 - val_loss: 0.6049 - val_accuracy: 0.7665 - 622ms/epoch - 13ms/step\n",
      "Epoch 2/20\n",
      "49/49 - 0s - loss: 0.5803 - accuracy: 0.6995 - val_loss: 0.4717 - val_accuracy: 0.8274 - 235ms/epoch - 5ms/step\n",
      "Epoch 3/20\n",
      "49/49 - 0s - loss: 0.4935 - accuracy: 0.7819 - val_loss: 0.3934 - val_accuracy: 0.8469 - 239ms/epoch - 5ms/step\n",
      "Epoch 4/20\n",
      "49/49 - 0s - loss: 0.4384 - accuracy: 0.8189 - val_loss: 0.3580 - val_accuracy: 0.8532 - 235ms/epoch - 5ms/step\n",
      "Epoch 5/20\n",
      "49/49 - 0s - loss: 0.4074 - accuracy: 0.8339 - val_loss: 0.3415 - val_accuracy: 0.8576 - 236ms/epoch - 5ms/step\n",
      "Epoch 6/20\n",
      "49/49 - 0s - loss: 0.3827 - accuracy: 0.8460 - val_loss: 0.3276 - val_accuracy: 0.8596 - 237ms/epoch - 5ms/step\n",
      "Epoch 7/20\n",
      "49/49 - 0s - loss: 0.3682 - accuracy: 0.8547 - val_loss: 0.3245 - val_accuracy: 0.8601 - 241ms/epoch - 5ms/step\n",
      "Epoch 8/20\n",
      "49/49 - 0s - loss: 0.3577 - accuracy: 0.8582 - val_loss: 0.3213 - val_accuracy: 0.8605 - 240ms/epoch - 5ms/step\n",
      "Epoch 9/20\n",
      "49/49 - 0s - loss: 0.3494 - accuracy: 0.8649 - val_loss: 0.3208 - val_accuracy: 0.8593 - 234ms/epoch - 5ms/step\n",
      "Epoch 10/20\n",
      "49/49 - 0s - loss: 0.3383 - accuracy: 0.8665 - val_loss: 0.3214 - val_accuracy: 0.8592 - 235ms/epoch - 5ms/step\n",
      "Epoch 11/20\n",
      "49/49 - 0s - loss: 0.3342 - accuracy: 0.8682 - val_loss: 0.3212 - val_accuracy: 0.8589 - 239ms/epoch - 5ms/step\n",
      "Epoch 12/20\n",
      "49/49 - 0s - loss: 0.3267 - accuracy: 0.8700 - val_loss: 0.3224 - val_accuracy: 0.8602 - 240ms/epoch - 5ms/step\n",
      "Epoch 13/20\n",
      "49/49 - 0s - loss: 0.3205 - accuracy: 0.8762 - val_loss: 0.3241 - val_accuracy: 0.8606 - 236ms/epoch - 5ms/step\n",
      "Epoch 14/20\n",
      "49/49 - 0s - loss: 0.3169 - accuracy: 0.8773 - val_loss: 0.3253 - val_accuracy: 0.8600 - 238ms/epoch - 5ms/step\n",
      "Epoch 15/20\n",
      "49/49 - 0s - loss: 0.3116 - accuracy: 0.8794 - val_loss: 0.3259 - val_accuracy: 0.8591 - 240ms/epoch - 5ms/step\n",
      "Epoch 16/20\n",
      "49/49 - 0s - loss: 0.3096 - accuracy: 0.8790 - val_loss: 0.3289 - val_accuracy: 0.8570 - 239ms/epoch - 5ms/step\n",
      "Epoch 17/20\n",
      "49/49 - 0s - loss: 0.3039 - accuracy: 0.8812 - val_loss: 0.3307 - val_accuracy: 0.8578 - 238ms/epoch - 5ms/step\n",
      "Epoch 18/20\n",
      "49/49 - 0s - loss: 0.2982 - accuracy: 0.8860 - val_loss: 0.3368 - val_accuracy: 0.8595 - 237ms/epoch - 5ms/step\n",
      "Epoch 19/20\n",
      "49/49 - 0s - loss: 0.2987 - accuracy: 0.8848 - val_loss: 0.3334 - val_accuracy: 0.8589 - 236ms/epoch - 5ms/step\n",
      "Epoch 20/20\n",
      "49/49 - 0s - loss: 0.2968 - accuracy: 0.8861 - val_loss: 0.3368 - val_accuracy: 0.8587 - 234ms/epoch - 5ms/step\n"
     ]
    },
    {
     "data": {
      "image/png": "[encoded data removed]",
      "text/plain": [
       "<Figure size 432x288 with 1 Axes>"
      ]
     },
     "metadata": {
      "needs_background": "light"
     },
     "output_type": "display_data"
    }
   ],
   "source": [
    "plot_history(model_dropout)"
   ]
  },
  {
   "cell_type": "markdown",
   "id": "fae47830",
   "metadata": {},
   "source": [
    "### MNIST 필기체 숫자 인식 예제 "
   ]
  },
  {
   "cell_type": "code",
   "execution_count": 18,
   "id": "7dd39ffb",
   "metadata": {},
   "outputs": [],
   "source": [
    "## 데이터 로드 \n",
    "\n",
    "mnist = datasets.mnist\n",
    "(X_train, y_train), (X_test, y_test) = mnist.load_data()"
   ]
  },
  {
   "cell_type": "code",
   "execution_count": 23,
   "id": "4e7cb099",
   "metadata": {},
   "outputs": [
    {
     "data": {
      "text/plain": [
       "<matplotlib.image.AxesImage at 0x26b46dcf640>"
      ]
     },
     "execution_count": 23,
     "metadata": {},
     "output_type": "execute_result"
    },
    {
     "data": {
      "image/png": "[encoded data removed]",
      "text/plain": [
       "<Figure size 432x288 with 1 Axes>"
      ]
     },
     "metadata": {
      "needs_background": "light"
     },
     "output_type": "display_data"
    }
   ],
   "source": [
    "plt.imshow(X_train[0])"
   ]
  },
  {
   "cell_type": "code",
   "execution_count": 26,
   "id": "cb67a4be",
   "metadata": {},
   "outputs": [],
   "source": [
    "X_train = X_train / 255.0\n",
    "X_test = X_test / 255.0"
   ]
  },
  {
   "cell_type": "code",
   "execution_count": 28,
   "id": "8bf86c6f",
   "metadata": {},
   "outputs": [
    {
     "name": "stdout",
     "output_type": "stream",
     "text": [
      "(60000, 28, 28)\n",
      "(10000, 28, 28)\n"
     ]
    }
   ],
   "source": [
    "print(X_train.shape)\n",
    "print(X_test.shape)"
   ]
  },
  {
   "cell_type": "code",
   "execution_count": 62,
   "id": "9089a80c",
   "metadata": {},
   "outputs": [],
   "source": [
    "model = tf.keras.Sequential()\n",
    "model.add(tf.keras.layers.Flatten(input_shape=(28, 28)))\n",
    "model.add(tf.keras.layers.Dense(512, activation='relu'))\n",
    "model.add(tf.keras.layers.Dropout(0.2))\n",
    "model.add(tf.keras.layers.Dense(10, activation='softmax'))  # 0~9 예측\n",
    "\n",
    "\n",
    "model.compile(optimizer='adam',\n",
    "              loss='sparse_categorical_crossentropy', metrics=['accuracy'])\n"
   ]
  },
  {
   "cell_type": "code",
   "execution_count": 63,
   "id": "4a39659f",
   "metadata": {},
   "outputs": [
    {
     "name": "stdout",
     "output_type": "stream",
     "text": [
      "Epoch 1/10\n",
      "938/938 [==============================] - 2s 2ms/step - loss: 1.1059 - accuracy: 0.7215\n",
      "Epoch 2/10\n",
      "938/938 [==============================] - 2s 2ms/step - loss: 0.4486 - accuracy: 0.8788\n",
      "Epoch 3/10\n",
      "938/938 [==============================] - 2s 2ms/step - loss: 0.3613 - accuracy: 0.8974\n",
      "Epoch 4/10\n",
      "938/938 [==============================] - 2s 2ms/step - loss: 0.3242 - accuracy: 0.9069\n",
      "Epoch 5/10\n",
      "938/938 [==============================] - 2s 2ms/step - loss: 0.3000 - accuracy: 0.9132\n",
      "Epoch 6/10\n",
      "938/938 [==============================] - 2s 2ms/step - loss: 0.2798 - accuracy: 0.9192\n",
      "Epoch 7/10\n",
      "938/938 [==============================] - 2s 2ms/step - loss: 0.2617 - accuracy: 0.9241\n",
      "Epoch 8/10\n",
      "938/938 [==============================] - 2s 2ms/step - loss: 0.2464 - accuracy: 0.9277\n",
      "Epoch 9/10\n",
      "938/938 [==============================] - 2s 2ms/step - loss: 0.2301 - accuracy: 0.9337\n",
      "Epoch 10/10\n",
      "938/938 [==============================] - 2s 2ms/step - loss: 0.2163 - accuracy: 0.9378\n",
      "313/313 - 0s - loss: 27.1684 - accuracy: 0.9120 - 399ms/epoch - 1ms/step\n",
      "(loss, acc) : [27.16839027404785, 0.9120000004768372] \n"
     ]
    }
   ],
   "source": [
    "model.fit(X_train, y_train, epochs=10,  batch_size=64)\n",
    "print(f\"(loss, acc) : {model.evaluate(X_test, y_test, verbose=2)} \")"
   ]
  },
  {
   "cell_type": "markdown",
   "id": "ff88b3e3",
   "metadata": {},
   "source": [
    "### 패션 아이템 분류\n",
    "- 패션 mnist 데이터셋 "
   ]
  },
  {
   "cell_type": "code",
   "execution_count": 35,
   "id": "e2937ff7",
   "metadata": {},
   "outputs": [],
   "source": [
    "from tensorflow.keras import datasets, layers, models "
   ]
  },
  {
   "cell_type": "code",
   "execution_count": 36,
   "id": "13486c8e",
   "metadata": {},
   "outputs": [
    {
     "name": "stdout",
     "output_type": "stream",
     "text": [
      "Downloading data from https://storage.googleapis.com/tensorflow/tf-keras-datasets/train-labels-idx1-ubyte.gz\n",
      "29515/29515 [==============================] - 0s 3us/step\n",
      "Downloading data from https://storage.googleapis.com/tensorflow/tf-keras-datasets/train-images-idx3-ubyte.gz\n",
      "26421880/26421880 [==============================] - 4s 0us/step\n",
      "Downloading data from https://storage.googleapis.com/tensorflow/tf-keras-datasets/t10k-labels-idx1-ubyte.gz\n",
      "5148/5148 [==============================] - 0s 0s/step\n",
      "Downloading data from https://storage.googleapis.com/tensorflow/tf-keras-datasets/t10k-images-idx3-ubyte.gz\n",
      "4422102/4422102 [==============================] - 1s 0us/step\n"
     ]
    }
   ],
   "source": [
    "# 이미지는 28*28 크기, 픽셀 값은 0~255 사이, 레이블 0~9\n",
    "\n",
    "fashion_mnist = datasets.fashion_mnist\n",
    "(train_images, train_labels), (test_images, test_labels) = fashion_mnist.load_data()"
   ]
  },
  {
   "cell_type": "code",
   "execution_count": 37,
   "id": "eeefe892",
   "metadata": {},
   "outputs": [
    {
     "name": "stdout",
     "output_type": "stream",
     "text": [
      "9\n"
     ]
    },
    {
     "data": {
      "image/png": "[encoded data removed]",
      "text/plain": [
       "<Figure size 432x288 with 1 Axes>"
      ]
     },
     "metadata": {
      "needs_background": "light"
     },
     "output_type": "display_data"
    }
   ],
   "source": [
    "plt.imshow(train_images[0])\n",
    "print(train_labels[0]) "
   ]
  },
  {
   "cell_type": "code",
   "execution_count": 54,
   "id": "dafc218d",
   "metadata": {},
   "outputs": [],
   "source": [
    "train_images = train_images/255.0\n",
    "test_images = test_images/255.0\n"
   ]
  },
  {
   "cell_type": "code",
   "execution_count": 56,
   "id": "b19338a5",
   "metadata": {},
   "outputs": [],
   "source": [
    "model = models.Sequential()\n",
    "model.add(layers.Flatten(input_shape=(28, 28)))\n",
    "model.add(layers.Dense(128, activation='relu'))\n",
    "model.add(layers.Dense(10, activation='softmax'))\n",
    "\n",
    "model.compile(optimizer='adam', loss='sparse_categorical_crossentropy', metrics=['accuracy'])"
   ]
  },
  {
   "cell_type": "code",
   "execution_count": 57,
   "id": "fa780dc6",
   "metadata": {},
   "outputs": [
    {
     "name": "stdout",
     "output_type": "stream",
     "text": [
      "Epoch 1/10\n",
      "938/938 [==============================] - 2s 2ms/step - loss: 0.5176 - accuracy: 0.8210\n",
      "Epoch 2/10\n",
      "938/938 [==============================] - 2s 2ms/step - loss: 0.3874 - accuracy: 0.8630\n",
      "Epoch 3/10\n",
      "938/938 [==============================] - 2s 2ms/step - loss: 0.3446 - accuracy: 0.8756\n",
      "Epoch 4/10\n",
      "938/938 [==============================] - 2s 2ms/step - loss: 0.3206 - accuracy: 0.8850\n",
      "Epoch 5/10\n",
      "938/938 [==============================] - 2s 2ms/step - loss: 0.3024 - accuracy: 0.8899\n",
      "Epoch 6/10\n",
      "938/938 [==============================] - 2s 2ms/step - loss: 0.2868 - accuracy: 0.8953\n",
      "Epoch 7/10\n",
      "938/938 [==============================] - 2s 2ms/step - loss: 0.2735 - accuracy: 0.8995\n",
      "Epoch 8/10\n",
      "938/938 [==============================] - 2s 2ms/step - loss: 0.2642 - accuracy: 0.9024\n",
      "Epoch 9/10\n",
      "938/938 [==============================] - 2s 2ms/step - loss: 0.2528 - accuracy: 0.9078\n",
      "Epoch 10/10\n",
      "938/938 [==============================] - 2s 2ms/step - loss: 0.2428 - accuracy: 0.9098\n",
      "313/313 [==============================] - 0s 1ms/step - loss: 0.3463 - accuracy: 0.8793\n",
      "(loss, acc) : [0.3462781310081482, 0.8792999982833862] \n"
     ]
    }
   ],
   "source": [
    "model.fit(train_images, train_labels, epochs=10, batch_size=64)\n",
    "print(f\"(loss, acc) : {model.evaluate(test_images, test_labels)} \")\n"
   ]
  },
  {
   "cell_type": "code",
   "execution_count": null,
   "id": "7d2155fc",
   "metadata": {},
   "outputs": [],
   "source": []
  }
 ],
 "metadata": {
  "kernelspec": {
   "display_name": "Python 3.8.8 64-bit ('base': conda)",
   "language": "python",
   "name": "python3"
  },
  "language_info": {
   "codemirror_mode": {
    "name": "ipython",
    "version": 3
   },
   "file_extension": ".py",
   "mimetype": "text/x-python",
   "name": "python",
   "nbconvert_exporter": "python",
   "pygments_lexer": "ipython3",
   "version": "3.8.8"
  },
  "vscode": {
   "interpreter": {
    "hash": "d3503761bcfca8a35b206c120347a79b8f357a240799dbb2d56df951ee782c70"
   }
  }
 },
 "nbformat": 4,
 "nbformat_minor": 5
}
